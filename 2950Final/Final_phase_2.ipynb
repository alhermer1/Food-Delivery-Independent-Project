{
 "cells": [
  {
   "cell_type": "code",
   "execution_count": 1,
   "id": "75538d75",
   "metadata": {},
   "outputs": [],
   "source": [
    "import pandas as pd\n",
    "import numpy as np\n",
    "import matplotlib.pyplot as plt\n",
    "import warnings"
   ]
  },
  {
   "cell_type": "markdown",
   "id": "d079135c",
   "metadata": {},
   "source": [
    "## Research Question:"
   ]
  },
  {
   "cell_type": "markdown",
   "id": "8178e055",
   "metadata": {},
   "source": [
    "What type of customer leads to the highest overall order values?"
   ]
  },
  {
   "cell_type": "markdown",
   "id": "6736cdcf",
   "metadata": {},
   "source": [
    "## Data Collection:"
   ]
  },
  {
   "cell_type": "code",
   "execution_count": 2,
   "id": "d3456455",
   "metadata": {},
   "outputs": [],
   "source": [
    "orders_df = pd.read_csv('orders.csv')\n",
    "restaurant_df = pd.read_csv('restaurant.csv')\n",
    "users_df = pd.read_csv('users.csv')"
   ]
  },
  {
   "cell_type": "markdown",
   "id": "a8ec1694",
   "metadata": {},
   "source": [
    "## Data Descriptions:"
   ]
  },
  {
   "cell_type": "markdown",
   "id": "1606a359",
   "metadata": {},
   "source": [
    "For this phase we collected 3 different data tables from kaggle. All of the data tables pertain to different types of data on the Zomato Food Delivery platform, a platform used in India. The first of the data tables, the orders data table includes information on specific orders that occured on the zomato platform. Each order entry has a date, sales quantity, sales amount, currency of order, the user id associated with the order, and the restaurant id associated with the order. The next table was the restaurant table. Each entry in this table has an id identifying the restaurant, the name of the restaurant, the city of the restaurant, the restaurant's rating, the number of ratings the restaurant has, the estimated cost per person for that restaurant, the cuisine, the license number, the restaurant's link, the address, and a json link to the menu. Finally the third table we used was the users_df table. Each entry in this field has a user_id, a name of the user, an email, a password, the gender the marital status, occupation, income, educational qualifications, and family size (including the customer). \n",
    "\n",
    "Source For orders.csv:\n",
    "https://www.kaggle.com/datasets/anas123siddiqui/zomato-database?select=orders.csv\n",
    "\n",
    "Source For restaurant.csv:\n",
    "https://www.kaggle.com/datasets/anas123siddiqui/zomato-database?select=restaurant.csv\n",
    "\n",
    "Source For users.csv:\n",
    "https://www.kaggle.com/datasets/anas123siddiqui/zomato-database?select=users.csv"
   ]
  },
  {
   "cell_type": "markdown",
   "id": "a66451e7",
   "metadata": {},
   "source": [
    "## Data Cleaning:"
   ]
  },
  {
   "cell_type": "markdown",
   "id": "be17d4fb",
   "metadata": {},
   "source": [
    "### Join Restaurants, Users, and Orders Dataframes:"
   ]
  },
  {
   "cell_type": "code",
   "execution_count": 3,
   "id": "7066243e",
   "metadata": {},
   "outputs": [],
   "source": [
    "orders_df = orders_df.dropna(subset=['r_id'])\n",
    "orders_df['r_id'] = orders_df['r_id'].astype(int)"
   ]
  },
  {
   "cell_type": "code",
   "execution_count": 4,
   "id": "30151882",
   "metadata": {},
   "outputs": [],
   "source": [
    "merged_df = pd.merge(orders_df, users_df, on='user_id', how='inner')"
   ]
  },
  {
   "cell_type": "code",
   "execution_count": 5,
   "id": "11d5a53e",
   "metadata": {},
   "outputs": [],
   "source": [
    "final_merged_df = pd.merge(merged_df, restaurant_df, left_on='r_id', right_on='id', how='inner')"
   ]
  },
  {
   "cell_type": "code",
   "execution_count": 6,
   "id": "0c62071c",
   "metadata": {},
   "outputs": [
    {
     "data": {
      "text/html": [
       "<div>\n",
       "<style scoped>\n",
       "    .dataframe tbody tr th:only-of-type {\n",
       "        vertical-align: middle;\n",
       "    }\n",
       "\n",
       "    .dataframe tbody tr th {\n",
       "        vertical-align: top;\n",
       "    }\n",
       "\n",
       "    .dataframe thead th {\n",
       "        text-align: right;\n",
       "    }\n",
       "</style>\n",
       "<table border=\"1\" class=\"dataframe\">\n",
       "  <thead>\n",
       "    <tr style=\"text-align: right;\">\n",
       "      <th></th>\n",
       "      <th>Unnamed: 0_x</th>\n",
       "      <th>order_date</th>\n",
       "      <th>sales_qty</th>\n",
       "      <th>sales_amount</th>\n",
       "      <th>currency</th>\n",
       "      <th>user_id</th>\n",
       "      <th>r_id</th>\n",
       "      <th>Unnamed: 0_y</th>\n",
       "      <th>name_x</th>\n",
       "      <th>email</th>\n",
       "      <th>password</th>\n",
       "      <th>Age</th>\n",
       "      <th>Gender</th>\n",
       "      <th>Marital Status</th>\n",
       "      <th>Occupation</th>\n",
       "      <th>Monthly Income</th>\n",
       "      <th>Educational Qualifications</th>\n",
       "      <th>Family size</th>\n",
       "      <th>Unnamed: 0</th>\n",
       "      <th>id</th>\n",
       "      <th>name_y</th>\n",
       "      <th>city</th>\n",
       "      <th>rating</th>\n",
       "      <th>rating_count</th>\n",
       "      <th>cost</th>\n",
       "      <th>cuisine</th>\n",
       "      <th>lic_no</th>\n",
       "      <th>link</th>\n",
       "      <th>address</th>\n",
       "      <th>menu</th>\n",
       "    </tr>\n",
       "  </thead>\n",
       "  <tbody>\n",
       "    <tr>\n",
       "      <th>0</th>\n",
       "      <td>0</td>\n",
       "      <td>2017-10-10</td>\n",
       "      <td>100</td>\n",
       "      <td>41241</td>\n",
       "      <td>INR</td>\n",
       "      <td>49226</td>\n",
       "      <td>567335</td>\n",
       "      <td>49225</td>\n",
       "      <td>Teresa Garcia</td>\n",
       "      <td>crobertson@example.com</td>\n",
       "      <td>o(7&amp;&amp;U7uGJ</td>\n",
       "      <td>27</td>\n",
       "      <td>Male</td>\n",
       "      <td>Married</td>\n",
       "      <td>Self Employeed</td>\n",
       "      <td>25001 to 50000</td>\n",
       "      <td>Graduate</td>\n",
       "      <td>6</td>\n",
       "      <td>0</td>\n",
       "      <td>567335</td>\n",
       "      <td>AB FOODS POINT</td>\n",
       "      <td>Abohar</td>\n",
       "      <td>--</td>\n",
       "      <td>Too Few Ratings</td>\n",
       "      <td>₹ 200</td>\n",
       "      <td>Beverages,Pizzas</td>\n",
       "      <td>22122652000138</td>\n",
       "      <td>https://www.swiggy.com/restaurants/ab-foods-po...</td>\n",
       "      <td>AB FOODS POINT, NEAR RISHI NARANG DENTAL CLINI...</td>\n",
       "      <td>Menu/567335.json</td>\n",
       "    </tr>\n",
       "    <tr>\n",
       "      <th>1</th>\n",
       "      <td>100584</td>\n",
       "      <td>2019-03-07</td>\n",
       "      <td>1</td>\n",
       "      <td>130</td>\n",
       "      <td>INR\\r</td>\n",
       "      <td>49226</td>\n",
       "      <td>555824</td>\n",
       "      <td>49225</td>\n",
       "      <td>Teresa Garcia</td>\n",
       "      <td>crobertson@example.com</td>\n",
       "      <td>o(7&amp;&amp;U7uGJ</td>\n",
       "      <td>27</td>\n",
       "      <td>Male</td>\n",
       "      <td>Married</td>\n",
       "      <td>Self Employeed</td>\n",
       "      <td>25001 to 50000</td>\n",
       "      <td>Graduate</td>\n",
       "      <td>6</td>\n",
       "      <td>100584</td>\n",
       "      <td>555824</td>\n",
       "      <td>Masala Kechup Amar's Kitchen</td>\n",
       "      <td>Aminabad,Lucknow</td>\n",
       "      <td>--</td>\n",
       "      <td>Too Few Ratings</td>\n",
       "      <td>₹ 250</td>\n",
       "      <td>American,Fast Food</td>\n",
       "      <td>22722738000007</td>\n",
       "      <td>https://www.swiggy.com/restaurants/masala-kech...</td>\n",
       "      <td>Masala Kechup Amar's Kitchen, 279/35, Pandarib...</td>\n",
       "      <td>Menu/555824.json</td>\n",
       "    </tr>\n",
       "    <tr>\n",
       "      <th>2</th>\n",
       "      <td>1</td>\n",
       "      <td>2018-05-08</td>\n",
       "      <td>3</td>\n",
       "      <td>-1</td>\n",
       "      <td>INR</td>\n",
       "      <td>77359</td>\n",
       "      <td>531342</td>\n",
       "      <td>77358</td>\n",
       "      <td>Dana Reeves</td>\n",
       "      <td>tonidecker@example.net</td>\n",
       "      <td>V#$14TJu)h</td>\n",
       "      <td>23</td>\n",
       "      <td>Male</td>\n",
       "      <td>Single</td>\n",
       "      <td>Student</td>\n",
       "      <td>More than 50000</td>\n",
       "      <td>Post Graduate</td>\n",
       "      <td>3</td>\n",
       "      <td>1</td>\n",
       "      <td>531342</td>\n",
       "      <td>Janta Sweet House</td>\n",
       "      <td>Abohar</td>\n",
       "      <td>4.4</td>\n",
       "      <td>50+ ratings</td>\n",
       "      <td>₹ 200</td>\n",
       "      <td>Sweets,Bakery</td>\n",
       "      <td>12117201000112</td>\n",
       "      <td>https://www.swiggy.com/restaurants/janta-sweet...</td>\n",
       "      <td>Janta Sweet House, Bazar No.9, Circullar Road,...</td>\n",
       "      <td>Menu/531342.json</td>\n",
       "    </tr>\n",
       "    <tr>\n",
       "      <th>3</th>\n",
       "      <td>112496</td>\n",
       "      <td>2020-06-08</td>\n",
       "      <td>1</td>\n",
       "      <td>236</td>\n",
       "      <td>INR\\r</td>\n",
       "      <td>77359</td>\n",
       "      <td>349813</td>\n",
       "      <td>77358</td>\n",
       "      <td>Dana Reeves</td>\n",
       "      <td>tonidecker@example.net</td>\n",
       "      <td>V#$14TJu)h</td>\n",
       "      <td>23</td>\n",
       "      <td>Male</td>\n",
       "      <td>Single</td>\n",
       "      <td>Student</td>\n",
       "      <td>More than 50000</td>\n",
       "      <td>Post Graduate</td>\n",
       "      <td>3</td>\n",
       "      <td>112496</td>\n",
       "      <td>349813</td>\n",
       "      <td>Henschel Ghar</td>\n",
       "      <td>Nagaon</td>\n",
       "      <td>--</td>\n",
       "      <td>Too Few Ratings</td>\n",
       "      <td>₹ 200</td>\n",
       "      <td>Chinese,Bengali</td>\n",
       "      <td>license</td>\n",
       "      <td>https://www.swiggy.com/restaurants/henschel-gh...</td>\n",
       "      <td>Henschel Ghar, Henschel Ghar. M G Road. Near K...</td>\n",
       "      <td>Menu/349813.json</td>\n",
       "    </tr>\n",
       "    <tr>\n",
       "      <th>4</th>\n",
       "      <td>113376</td>\n",
       "      <td>2018-03-20</td>\n",
       "      <td>1</td>\n",
       "      <td>56</td>\n",
       "      <td>INR\\r</td>\n",
       "      <td>77359</td>\n",
       "      <td>510814</td>\n",
       "      <td>77358</td>\n",
       "      <td>Dana Reeves</td>\n",
       "      <td>tonidecker@example.net</td>\n",
       "      <td>V#$14TJu)h</td>\n",
       "      <td>23</td>\n",
       "      <td>Male</td>\n",
       "      <td>Single</td>\n",
       "      <td>Student</td>\n",
       "      <td>More than 50000</td>\n",
       "      <td>Post Graduate</td>\n",
       "      <td>3</td>\n",
       "      <td>113376</td>\n",
       "      <td>510814</td>\n",
       "      <td>Box 5 Cafe</td>\n",
       "      <td>Nandanvan,Nagpur</td>\n",
       "      <td>--</td>\n",
       "      <td>Too Few Ratings</td>\n",
       "      <td>₹ 150</td>\n",
       "      <td>American,Chinese</td>\n",
       "      <td>21522262000170</td>\n",
       "      <td>https://www.swiggy.com/restaurants/box-5-cafe-...</td>\n",
       "      <td>Box 5 Cafe, NEAR NEW ERA HOSPITAL , Zone No.8-...</td>\n",
       "      <td>Menu/510814.json</td>\n",
       "    </tr>\n",
       "  </tbody>\n",
       "</table>\n",
       "</div>"
      ],
      "text/plain": [
       "   Unnamed: 0_x  order_date  sales_qty  sales_amount currency  user_id  \\\n",
       "0             0  2017-10-10        100         41241      INR    49226   \n",
       "1        100584  2019-03-07          1           130    INR\\r    49226   \n",
       "2             1  2018-05-08          3            -1      INR    77359   \n",
       "3        112496  2020-06-08          1           236    INR\\r    77359   \n",
       "4        113376  2018-03-20          1            56    INR\\r    77359   \n",
       "\n",
       "     r_id  Unnamed: 0_y         name_x                   email    password  \\\n",
       "0  567335         49225  Teresa Garcia  crobertson@example.com  o(7&&U7uGJ   \n",
       "1  555824         49225  Teresa Garcia  crobertson@example.com  o(7&&U7uGJ   \n",
       "2  531342         77358    Dana Reeves  tonidecker@example.net  V#$14TJu)h   \n",
       "3  349813         77358    Dana Reeves  tonidecker@example.net  V#$14TJu)h   \n",
       "4  510814         77358    Dana Reeves  tonidecker@example.net  V#$14TJu)h   \n",
       "\n",
       "   Age Gender Marital Status      Occupation   Monthly Income  \\\n",
       "0   27   Male        Married  Self Employeed   25001 to 50000   \n",
       "1   27   Male        Married  Self Employeed   25001 to 50000   \n",
       "2   23   Male         Single         Student  More than 50000   \n",
       "3   23   Male         Single         Student  More than 50000   \n",
       "4   23   Male         Single         Student  More than 50000   \n",
       "\n",
       "  Educational Qualifications  Family size  Unnamed: 0      id  \\\n",
       "0                   Graduate            6           0  567335   \n",
       "1                   Graduate            6      100584  555824   \n",
       "2              Post Graduate            3           1  531342   \n",
       "3              Post Graduate            3      112496  349813   \n",
       "4              Post Graduate            3      113376  510814   \n",
       "\n",
       "                         name_y              city rating     rating_count  \\\n",
       "0                AB FOODS POINT            Abohar     --  Too Few Ratings   \n",
       "1  Masala Kechup Amar's Kitchen  Aminabad,Lucknow     --  Too Few Ratings   \n",
       "2             Janta Sweet House            Abohar    4.4      50+ ratings   \n",
       "3                 Henschel Ghar            Nagaon     --  Too Few Ratings   \n",
       "4                    Box 5 Cafe  Nandanvan,Nagpur     --  Too Few Ratings   \n",
       "\n",
       "    cost             cuisine          lic_no  \\\n",
       "0  ₹ 200    Beverages,Pizzas  22122652000138   \n",
       "1  ₹ 250  American,Fast Food  22722738000007   \n",
       "2  ₹ 200       Sweets,Bakery  12117201000112   \n",
       "3  ₹ 200     Chinese,Bengali         license   \n",
       "4  ₹ 150    American,Chinese  21522262000170   \n",
       "\n",
       "                                                link  \\\n",
       "0  https://www.swiggy.com/restaurants/ab-foods-po...   \n",
       "1  https://www.swiggy.com/restaurants/masala-kech...   \n",
       "2  https://www.swiggy.com/restaurants/janta-sweet...   \n",
       "3  https://www.swiggy.com/restaurants/henschel-gh...   \n",
       "4  https://www.swiggy.com/restaurants/box-5-cafe-...   \n",
       "\n",
       "                                             address              menu  \n",
       "0  AB FOODS POINT, NEAR RISHI NARANG DENTAL CLINI...  Menu/567335.json  \n",
       "1  Masala Kechup Amar's Kitchen, 279/35, Pandarib...  Menu/555824.json  \n",
       "2  Janta Sweet House, Bazar No.9, Circullar Road,...  Menu/531342.json  \n",
       "3  Henschel Ghar, Henschel Ghar. M G Road. Near K...  Menu/349813.json  \n",
       "4  Box 5 Cafe, NEAR NEW ERA HOSPITAL , Zone No.8-...  Menu/510814.json  "
      ]
     },
     "execution_count": 6,
     "metadata": {},
     "output_type": "execute_result"
    }
   ],
   "source": [
    "pd.set_option('display.max_columns', None)\n",
    "final_merged_df.head()"
   ]
  },
  {
   "cell_type": "markdown",
   "id": "c6995f92",
   "metadata": {},
   "source": [
    "##### Data Cleaning / Merge Steps Taken:\n",
    "- Dropped the entries with an na r_id\n",
    "- Merged the three tables using inner joins\n",
    "- Because orders contained the restaurant and customer id's, I used that as the central dataframe on which the other two were joined onto\n"
   ]
  },
  {
   "cell_type": "markdown",
   "id": "c76740e4",
   "metadata": {},
   "source": [
    "### Renaming Fields:"
   ]
  },
  {
   "cell_type": "code",
   "execution_count": 7,
   "id": "8c6597ff",
   "metadata": {},
   "outputs": [],
   "source": [
    "final_merged_df = final_merged_df.rename(columns = {'Unnamed: 0_x':'order_id', 'sales_qty':'number_items_ordered', 'sales_amount':'total_order_cost', 'user_id':'c_id', 'r_id':'r_id', 'name_x':'c_name', 'Age':'c_age', 'Gender':'c_gender', 'Age':'c_age', 'Gender':'c_gender','Marital Status':'c_marital_status','Occupation':'c_occupation','Monthly Income':'c_monthly_income','Educational Qualifications':'c_education_level','Family size':'c_family_size', 'name_y':'r_name', 'city': 'r_city', 'rating':'r_rating', 'rating_count':'r_number_of_ratings', 'cost':'r_average_per_head_cost','cuisine':'r_cuisine'\n",
    "})"
   ]
  },
  {
   "cell_type": "markdown",
   "id": "2717a36e",
   "metadata": {},
   "source": [
    "###### Renaming Explanation:\n",
    "- Renamed following fields:\n",
    "    - 'Unnamed: 0_x'\n",
    "    - 'sales_qty'\n",
    "    - 'sales_amount'\n",
    "    - 'user_id'\n",
    "    - 'r_id'\n",
    "    - 'name_x'\n",
    "    - 'Age'\n",
    "    - 'Gender'\n",
    "    - 'Age'\n",
    "    - 'Gender'\n",
    "    - 'Marital Status'\n",
    "    - 'Occupation'\n",
    "    - 'Monthly Income'\n",
    "    - 'Educational Qualifications'\n",
    "    - 'Family size'\n",
    "    - 'name_y'\n",
    "    - 'city'\n",
    "    - 'rating'\n",
    "    - 'rating_count'\n",
    "    - 'cost'\n",
    "    - 'cuisine'\n",
    "- Reasoning: Field names are somewhat vague and renaming could add clarity to what the data in the column represents"
   ]
  },
  {
   "cell_type": "markdown",
   "id": "70556f9e",
   "metadata": {},
   "source": [
    "### Dropping Fields:"
   ]
  },
  {
   "cell_type": "code",
   "execution_count": 8,
   "id": "fda65e24",
   "metadata": {},
   "outputs": [],
   "source": [
    "final_merged_df = final_merged_df.drop(columns=['Unnamed: 0_y','email','password','Unnamed: 0','id','lic_no','link','address','menu','r_cuisine'])"
   ]
  },
  {
   "cell_type": "code",
   "execution_count": 9,
   "id": "55256581",
   "metadata": {},
   "outputs": [
    {
     "data": {
      "text/html": [
       "<div>\n",
       "<style scoped>\n",
       "    .dataframe tbody tr th:only-of-type {\n",
       "        vertical-align: middle;\n",
       "    }\n",
       "\n",
       "    .dataframe tbody tr th {\n",
       "        vertical-align: top;\n",
       "    }\n",
       "\n",
       "    .dataframe thead th {\n",
       "        text-align: right;\n",
       "    }\n",
       "</style>\n",
       "<table border=\"1\" class=\"dataframe\">\n",
       "  <thead>\n",
       "    <tr style=\"text-align: right;\">\n",
       "      <th></th>\n",
       "      <th>order_id</th>\n",
       "      <th>order_date</th>\n",
       "      <th>number_items_ordered</th>\n",
       "      <th>total_order_cost</th>\n",
       "      <th>currency</th>\n",
       "      <th>c_id</th>\n",
       "      <th>r_id</th>\n",
       "      <th>c_name</th>\n",
       "      <th>c_age</th>\n",
       "      <th>c_gender</th>\n",
       "      <th>c_marital_status</th>\n",
       "      <th>c_occupation</th>\n",
       "      <th>c_monthly_income</th>\n",
       "      <th>c_education_level</th>\n",
       "      <th>c_family_size</th>\n",
       "      <th>r_name</th>\n",
       "      <th>r_city</th>\n",
       "      <th>r_rating</th>\n",
       "      <th>r_number_of_ratings</th>\n",
       "      <th>r_average_per_head_cost</th>\n",
       "    </tr>\n",
       "  </thead>\n",
       "  <tbody>\n",
       "    <tr>\n",
       "      <th>0</th>\n",
       "      <td>0</td>\n",
       "      <td>2017-10-10</td>\n",
       "      <td>100</td>\n",
       "      <td>41241</td>\n",
       "      <td>INR</td>\n",
       "      <td>49226</td>\n",
       "      <td>567335</td>\n",
       "      <td>Teresa Garcia</td>\n",
       "      <td>27</td>\n",
       "      <td>Male</td>\n",
       "      <td>Married</td>\n",
       "      <td>Self Employeed</td>\n",
       "      <td>25001 to 50000</td>\n",
       "      <td>Graduate</td>\n",
       "      <td>6</td>\n",
       "      <td>AB FOODS POINT</td>\n",
       "      <td>Abohar</td>\n",
       "      <td>--</td>\n",
       "      <td>Too Few Ratings</td>\n",
       "      <td>₹ 200</td>\n",
       "    </tr>\n",
       "    <tr>\n",
       "      <th>1</th>\n",
       "      <td>100584</td>\n",
       "      <td>2019-03-07</td>\n",
       "      <td>1</td>\n",
       "      <td>130</td>\n",
       "      <td>INR\\r</td>\n",
       "      <td>49226</td>\n",
       "      <td>555824</td>\n",
       "      <td>Teresa Garcia</td>\n",
       "      <td>27</td>\n",
       "      <td>Male</td>\n",
       "      <td>Married</td>\n",
       "      <td>Self Employeed</td>\n",
       "      <td>25001 to 50000</td>\n",
       "      <td>Graduate</td>\n",
       "      <td>6</td>\n",
       "      <td>Masala Kechup Amar's Kitchen</td>\n",
       "      <td>Aminabad,Lucknow</td>\n",
       "      <td>--</td>\n",
       "      <td>Too Few Ratings</td>\n",
       "      <td>₹ 250</td>\n",
       "    </tr>\n",
       "    <tr>\n",
       "      <th>2</th>\n",
       "      <td>1</td>\n",
       "      <td>2018-05-08</td>\n",
       "      <td>3</td>\n",
       "      <td>-1</td>\n",
       "      <td>INR</td>\n",
       "      <td>77359</td>\n",
       "      <td>531342</td>\n",
       "      <td>Dana Reeves</td>\n",
       "      <td>23</td>\n",
       "      <td>Male</td>\n",
       "      <td>Single</td>\n",
       "      <td>Student</td>\n",
       "      <td>More than 50000</td>\n",
       "      <td>Post Graduate</td>\n",
       "      <td>3</td>\n",
       "      <td>Janta Sweet House</td>\n",
       "      <td>Abohar</td>\n",
       "      <td>4.4</td>\n",
       "      <td>50+ ratings</td>\n",
       "      <td>₹ 200</td>\n",
       "    </tr>\n",
       "    <tr>\n",
       "      <th>3</th>\n",
       "      <td>112496</td>\n",
       "      <td>2020-06-08</td>\n",
       "      <td>1</td>\n",
       "      <td>236</td>\n",
       "      <td>INR\\r</td>\n",
       "      <td>77359</td>\n",
       "      <td>349813</td>\n",
       "      <td>Dana Reeves</td>\n",
       "      <td>23</td>\n",
       "      <td>Male</td>\n",
       "      <td>Single</td>\n",
       "      <td>Student</td>\n",
       "      <td>More than 50000</td>\n",
       "      <td>Post Graduate</td>\n",
       "      <td>3</td>\n",
       "      <td>Henschel Ghar</td>\n",
       "      <td>Nagaon</td>\n",
       "      <td>--</td>\n",
       "      <td>Too Few Ratings</td>\n",
       "      <td>₹ 200</td>\n",
       "    </tr>\n",
       "    <tr>\n",
       "      <th>4</th>\n",
       "      <td>113376</td>\n",
       "      <td>2018-03-20</td>\n",
       "      <td>1</td>\n",
       "      <td>56</td>\n",
       "      <td>INR\\r</td>\n",
       "      <td>77359</td>\n",
       "      <td>510814</td>\n",
       "      <td>Dana Reeves</td>\n",
       "      <td>23</td>\n",
       "      <td>Male</td>\n",
       "      <td>Single</td>\n",
       "      <td>Student</td>\n",
       "      <td>More than 50000</td>\n",
       "      <td>Post Graduate</td>\n",
       "      <td>3</td>\n",
       "      <td>Box 5 Cafe</td>\n",
       "      <td>Nandanvan,Nagpur</td>\n",
       "      <td>--</td>\n",
       "      <td>Too Few Ratings</td>\n",
       "      <td>₹ 150</td>\n",
       "    </tr>\n",
       "  </tbody>\n",
       "</table>\n",
       "</div>"
      ],
      "text/plain": [
       "   order_id  order_date  number_items_ordered  total_order_cost currency  \\\n",
       "0         0  2017-10-10                   100             41241      INR   \n",
       "1    100584  2019-03-07                     1               130    INR\\r   \n",
       "2         1  2018-05-08                     3                -1      INR   \n",
       "3    112496  2020-06-08                     1               236    INR\\r   \n",
       "4    113376  2018-03-20                     1                56    INR\\r   \n",
       "\n",
       "    c_id    r_id         c_name  c_age c_gender c_marital_status  \\\n",
       "0  49226  567335  Teresa Garcia     27     Male          Married   \n",
       "1  49226  555824  Teresa Garcia     27     Male          Married   \n",
       "2  77359  531342    Dana Reeves     23     Male           Single   \n",
       "3  77359  349813    Dana Reeves     23     Male           Single   \n",
       "4  77359  510814    Dana Reeves     23     Male           Single   \n",
       "\n",
       "     c_occupation c_monthly_income c_education_level  c_family_size  \\\n",
       "0  Self Employeed   25001 to 50000          Graduate              6   \n",
       "1  Self Employeed   25001 to 50000          Graduate              6   \n",
       "2         Student  More than 50000     Post Graduate              3   \n",
       "3         Student  More than 50000     Post Graduate              3   \n",
       "4         Student  More than 50000     Post Graduate              3   \n",
       "\n",
       "                         r_name            r_city r_rating  \\\n",
       "0                AB FOODS POINT            Abohar       --   \n",
       "1  Masala Kechup Amar's Kitchen  Aminabad,Lucknow       --   \n",
       "2             Janta Sweet House            Abohar      4.4   \n",
       "3                 Henschel Ghar            Nagaon       --   \n",
       "4                    Box 5 Cafe  Nandanvan,Nagpur       --   \n",
       "\n",
       "  r_number_of_ratings r_average_per_head_cost  \n",
       "0     Too Few Ratings                   ₹ 200  \n",
       "1     Too Few Ratings                   ₹ 250  \n",
       "2         50+ ratings                   ₹ 200  \n",
       "3     Too Few Ratings                   ₹ 200  \n",
       "4     Too Few Ratings                   ₹ 150  "
      ]
     },
     "execution_count": 9,
     "metadata": {},
     "output_type": "execute_result"
    }
   ],
   "source": [
    "pd.set_option('display.max_columns', None)\n",
    "final_merged_df.head()"
   ]
  },
  {
   "cell_type": "code",
   "execution_count": 10,
   "id": "ae020064",
   "metadata": {},
   "outputs": [],
   "source": [
    "final_merged_df.to_csv('final_merged.csv')"
   ]
  },
  {
   "cell_type": "markdown",
   "id": "9e63f11d",
   "metadata": {},
   "source": [
    "##### Dropping Fields:\n",
    "- Dropped:\n",
    "    - 'Unnamed: 0_y'\n",
    "    - 'email'\n",
    "    - 'password'\n",
    "    - 'Unnamed: 0'\n",
    "    - 'id'\n",
    "    - 'lic_no'\n",
    "    - 'link'\n",
    "    - 'address'\n",
    "    - 'menu'\n",
    "    - 'cuisine'\n",
    "- Reasoning: These columns represent personal data, useless index data, or other data that is niche and would not contribute the to total sales amount in all likelihood\n"
   ]
  },
  {
   "cell_type": "markdown",
   "id": "6f2b715e",
   "metadata": {},
   "source": [
    "### Cleaning Determination - order_id:"
   ]
  },
  {
   "cell_type": "code",
   "execution_count": 11,
   "id": "ebb55119",
   "metadata": {},
   "outputs": [
    {
     "name": "stderr",
     "output_type": "stream",
     "text": [
      "/var/folders/h7/q8xjrt310cz6vyr6k80y1h_80000gn/T/ipykernel_90054/1493102469.py:1: UserWarning: Boolean Series key will be reindexed to match DataFrame index.\n",
      "  final_merged_df[final_merged_df['order_id'].value_counts()!=1]\n"
     ]
    },
    {
     "data": {
      "text/html": [
       "<div>\n",
       "<style scoped>\n",
       "    .dataframe tbody tr th:only-of-type {\n",
       "        vertical-align: middle;\n",
       "    }\n",
       "\n",
       "    .dataframe tbody tr th {\n",
       "        vertical-align: top;\n",
       "    }\n",
       "\n",
       "    .dataframe thead th {\n",
       "        text-align: right;\n",
       "    }\n",
       "</style>\n",
       "<table border=\"1\" class=\"dataframe\">\n",
       "  <thead>\n",
       "    <tr style=\"text-align: right;\">\n",
       "      <th></th>\n",
       "      <th>order_id</th>\n",
       "      <th>order_date</th>\n",
       "      <th>number_items_ordered</th>\n",
       "      <th>total_order_cost</th>\n",
       "      <th>currency</th>\n",
       "      <th>c_id</th>\n",
       "      <th>r_id</th>\n",
       "      <th>c_name</th>\n",
       "      <th>c_age</th>\n",
       "      <th>c_gender</th>\n",
       "      <th>c_marital_status</th>\n",
       "      <th>c_occupation</th>\n",
       "      <th>c_monthly_income</th>\n",
       "      <th>c_education_level</th>\n",
       "      <th>c_family_size</th>\n",
       "      <th>r_name</th>\n",
       "      <th>r_city</th>\n",
       "      <th>r_rating</th>\n",
       "      <th>r_number_of_ratings</th>\n",
       "      <th>r_average_per_head_cost</th>\n",
       "    </tr>\n",
       "  </thead>\n",
       "  <tbody>\n",
       "  </tbody>\n",
       "</table>\n",
       "</div>"
      ],
      "text/plain": [
       "Empty DataFrame\n",
       "Columns: [order_id, order_date, number_items_ordered, total_order_cost, currency, c_id, r_id, c_name, c_age, c_gender, c_marital_status, c_occupation, c_monthly_income, c_education_level, c_family_size, r_name, r_city, r_rating, r_number_of_ratings, r_average_per_head_cost]\n",
       "Index: []"
      ]
     },
     "execution_count": 11,
     "metadata": {},
     "output_type": "execute_result"
    }
   ],
   "source": [
    "final_merged_df[final_merged_df['order_id'].value_counts()!=1]"
   ]
  },
  {
   "cell_type": "markdown",
   "id": "343cfa28",
   "metadata": {},
   "source": [
    "##### Cleaning Notes:\n",
    "- Field does not near to be cleaned because every user id is unique\n",
    "    - This is evident from the fact that there are no value counts other than 1 returned in the above dataframe"
   ]
  },
  {
   "cell_type": "markdown",
   "id": "af9be19c",
   "metadata": {},
   "source": [
    "### Cleaning Determination - order_date:"
   ]
  },
  {
   "cell_type": "code",
   "execution_count": 12,
   "id": "09433a3b",
   "metadata": {},
   "outputs": [
    {
     "name": "stdout",
     "output_type": "stream",
     "text": [
      "Number of null dates: 0\n"
     ]
    }
   ],
   "source": [
    "null_dates = final_merged_df['order_date'].isna().sum()\n",
    "print(f'Number of null dates: {null_dates}')"
   ]
  },
  {
   "cell_type": "code",
   "execution_count": 13,
   "id": "51363fff-c71c-4293-b104-ed9d75b0ed60",
   "metadata": {
    "tags": []
   },
   "outputs": [],
   "source": [
    "final_merged_df['order_date'] = pd.to_datetime(final_merged_df['order_date'])"
   ]
  },
  {
   "cell_type": "markdown",
   "id": "1c082a0e-6a12-4939-a422-2b6ca6c52533",
   "metadata": {},
   "source": [
    "##### Cleaning Notes:\n",
    "- Don't need to clean anything because there are no null dates\n",
    "- Change default date format to datetime format"
   ]
  },
  {
   "cell_type": "markdown",
   "id": "2ef1653b",
   "metadata": {},
   "source": [
    "### Cleaning Determination - number_items_ordered:"
   ]
  },
  {
   "cell_type": "code",
   "execution_count": 14,
   "id": "39180eae",
   "metadata": {},
   "outputs": [
    {
     "name": "stdout",
     "output_type": "stream",
     "text": [
      "Number of null items ordered: 0\n"
     ]
    }
   ],
   "source": [
    "null_items = final_merged_df['number_items_ordered'].isna().sum()\n",
    "print(f'Number of null items ordered: {null_items}')"
   ]
  },
  {
   "cell_type": "markdown",
   "id": "c468b6e2",
   "metadata": {},
   "source": [
    "##### Cleaning Notes:\n",
    "- Field does not near to be cleaned because no null items"
   ]
  },
  {
   "cell_type": "markdown",
   "id": "866c9f0b",
   "metadata": {},
   "source": [
    "### Cleaning Determination - total_order_cost:"
   ]
  },
  {
   "cell_type": "code",
   "execution_count": 15,
   "id": "ce9e15b8",
   "metadata": {},
   "outputs": [],
   "source": [
    "subset = final_merged_df['total_order_cost']<1"
   ]
  },
  {
   "cell_type": "code",
   "execution_count": 16,
   "id": "6e543013",
   "metadata": {},
   "outputs": [],
   "source": [
    "final_merged_df = final_merged_df[~subset]"
   ]
  },
  {
   "cell_type": "markdown",
   "id": "e9b8ba2a",
   "metadata": {},
   "source": [
    "##### Cleaning Notes:\n",
    "- We dropped all orders that had a total order cost of less than 1 rupee\n",
    "- While in theory there are reasons for why an order could be less than 1 rupee, we don't have data like discounts and vouchers that would allow us to justify that rupee total, so it makes sense to drop that entry altogether"
   ]
  },
  {
   "cell_type": "markdown",
   "id": "90b8b938",
   "metadata": {},
   "source": [
    "### Cleaning Determination - currency:"
   ]
  },
  {
   "cell_type": "code",
   "execution_count": 17,
   "id": "9c8dfce0",
   "metadata": {},
   "outputs": [
    {
     "data": {
      "text/plain": [
       "INR\\r    146786\n",
       "INR         275\n",
       "USD           2\n",
       "Name: currency, dtype: int64"
      ]
     },
     "execution_count": 17,
     "metadata": {},
     "output_type": "execute_result"
    }
   ],
   "source": [
    "final_merged_df['currency'].value_counts()"
   ]
  },
  {
   "cell_type": "code",
   "execution_count": 18,
   "id": "2140602c",
   "metadata": {},
   "outputs": [],
   "source": [
    "final_merged_df.loc[(final_merged_df.currency == 'INR\\r'),'currency']='INR'\n",
    "final_merged_df = final_merged_df[final_merged_df.currency != 'USD']"
   ]
  },
  {
   "cell_type": "markdown",
   "id": "253c8337",
   "metadata": {},
   "source": [
    "##### Cleaning Notes:\n",
    "- Converted all currency entries of INR\\r to just INR for continuity. According to the documentation they mean the same exact thing\n",
    "- Dropped the two values that were represented in USD"
   ]
  },
  {
   "cell_type": "markdown",
   "id": "556968c9",
   "metadata": {},
   "source": [
    "### Cleaning Determination - c_id:"
   ]
  },
  {
   "cell_type": "code",
   "execution_count": 19,
   "id": "8f6c096f",
   "metadata": {},
   "outputs": [
    {
     "name": "stdout",
     "output_type": "stream",
     "text": [
      "Number of null customer ids: 0\n"
     ]
    }
   ],
   "source": [
    "yo = final_merged_df['c_id'].isna().sum()\n",
    "print(f'Number of null customer ids: {yo}')"
   ]
  },
  {
   "cell_type": "markdown",
   "id": "da610c2e",
   "metadata": {},
   "source": [
    "##### Cleaning Notes:\n",
    "- Don't need to clean anything here because there are no NAs. It is ok for a customer id to appear multiple times as a customer may order multiple times from the same or different restaurants"
   ]
  },
  {
   "cell_type": "markdown",
   "id": "9fa7a633",
   "metadata": {},
   "source": [
    "### Cleaning Determination - r_id:"
   ]
  },
  {
   "cell_type": "code",
   "execution_count": 20,
   "id": "66b29570",
   "metadata": {},
   "outputs": [
    {
     "name": "stdout",
     "output_type": "stream",
     "text": [
      "Number of null restaurant ids: 0\n"
     ]
    }
   ],
   "source": [
    "yo2 = final_merged_df['r_id'].isna().sum()\n",
    "print(f'Number of null restaurant ids: {yo2}')"
   ]
  },
  {
   "cell_type": "markdown",
   "id": "6a6fbc1e",
   "metadata": {},
   "source": [
    "##### Cleaning Notes:\n",
    "- Don't need to clean anything here becuase there are no NAs \n",
    "- It is ok for a restaurant id to appear multiple times as restaurants can accept multiple orders"
   ]
  },
  {
   "cell_type": "markdown",
   "id": "1191874a",
   "metadata": {},
   "source": [
    "### Cleaning Determination - c_name:"
   ]
  },
  {
   "cell_type": "code",
   "execution_count": 21,
   "id": "4e91c945",
   "metadata": {
    "tags": []
   },
   "outputs": [
    {
     "name": "stdout",
     "output_type": "stream",
     "text": [
      "Number of null values: 0\n"
     ]
    }
   ],
   "source": [
    "nulls = final_merged_df['c_name'].isna().sum()\n",
    "print(f'Number of null values: {nulls}')"
   ]
  },
  {
   "cell_type": "code",
   "execution_count": 22,
   "id": "3d2b38b4-0bf7-4b9c-b0c0-104edf22d91e",
   "metadata": {
    "tags": []
   },
   "outputs": [
    {
     "name": "stdout",
     "output_type": "stream",
     "text": [
      "Number of empty strings: 0\n"
     ]
    }
   ],
   "source": [
    "e_strings = (final_merged_df['c_name'] == '').sum()\n",
    "print(f'Number of empty strings: {e_strings}')"
   ]
  },
  {
   "cell_type": "code",
   "execution_count": 23,
   "id": "504881e2-6e48-4e21-9061-e9b0cd10400b",
   "metadata": {
    "tags": []
   },
   "outputs": [
    {
     "name": "stdout",
     "output_type": "stream",
     "text": [
      "Number of strings with undesirable spaces: 0\n"
     ]
    }
   ],
   "source": [
    "spaces = final_merged_df[final_merged_df['c_name'].str.strip() == ''].shape[0]\n",
    "print(f'Number of strings with undesirable spaces: {spaces}')"
   ]
  },
  {
   "cell_type": "markdown",
   "id": "ad95fa37-ed22-42a8-bc5e-a7b939064694",
   "metadata": {},
   "source": [
    "##### Cleaning Notes:\n",
    "- Don't need to clean anything here as no empty strings, no nulls, and no undersirable spaces"
   ]
  },
  {
   "cell_type": "markdown",
   "id": "d91a8950",
   "metadata": {},
   "source": [
    "### Cleaning Determination - c_age:"
   ]
  },
  {
   "cell_type": "code",
   "execution_count": 24,
   "id": "95e92d5f-4728-48cc-8d7d-5a1c7561130f",
   "metadata": {
    "tags": []
   },
   "outputs": [
    {
     "name": "stdout",
     "output_type": "stream",
     "text": [
      "Number of null values: 0\n"
     ]
    }
   ],
   "source": [
    "nulls = final_merged_df['c_age'].isna().sum()\n",
    "print(f'Number of null values: {nulls}')"
   ]
  },
  {
   "cell_type": "markdown",
   "id": "d4b81e09-c9c3-4eb4-a387-7435d78198e2",
   "metadata": {},
   "source": [
    "##### Cleaning Notes:\n",
    "- Don't need to clean anything here as there are no nulls and the ages seem completely normal and non-repetitive"
   ]
  },
  {
   "cell_type": "markdown",
   "id": "45b21358",
   "metadata": {},
   "source": [
    "### Cleaning Determination - c_gender:"
   ]
  },
  {
   "cell_type": "code",
   "execution_count": 25,
   "id": "2be302c5-1089-41d4-9c30-2a490e8c5147",
   "metadata": {
    "tags": []
   },
   "outputs": [
    {
     "data": {
      "text/plain": [
       "Male      84098\n",
       "Female    62963\n",
       "Name: c_gender, dtype: int64"
      ]
     },
     "execution_count": 25,
     "metadata": {},
     "output_type": "execute_result"
    }
   ],
   "source": [
    "final_merged_df['c_gender'].value_counts()"
   ]
  },
  {
   "cell_type": "markdown",
   "id": "5ca604fc-1fd8-4420-80a0-bd361de9af80",
   "metadata": {},
   "source": [
    "##### Cleaning Notes:\n",
    "- Don't need to clean anything here as all of the datapoints fall into the male or female category. No entries fall into any other category\n",
    "- Could be reflective of already cleaned data, or reflective of the nature of the society from which the data was collected"
   ]
  },
  {
   "cell_type": "markdown",
   "id": "6002fea4",
   "metadata": {},
   "source": [
    "### Cleaning Determination - c_marital_status:"
   ]
  },
  {
   "cell_type": "code",
   "execution_count": 26,
   "id": "b8d98165-b95f-4e33-a7b8-06e379e3ff64",
   "metadata": {
    "tags": []
   },
   "outputs": [
    {
     "data": {
      "text/plain": [
       "Single               101322\n",
       "Married               41118\n",
       "Prefer not to say      4621\n",
       "Name: c_marital_status, dtype: int64"
      ]
     },
     "execution_count": 26,
     "metadata": {},
     "output_type": "execute_result"
    }
   ],
   "source": [
    "final_merged_df['c_marital_status'].value_counts()"
   ]
  },
  {
   "cell_type": "markdown",
   "id": "bd85f776-cd85-4b46-a7ad-de1a05ebc495",
   "metadata": {},
   "source": [
    "##### Cleaning Notes:\n",
    "- Don't need to clean anything here as all of the datapoints fall into the Single, Married, and Prefer not to say categories"
   ]
  },
  {
   "cell_type": "markdown",
   "id": "6b16fe3a",
   "metadata": {
    "tags": []
   },
   "source": [
    "### Cleaning Determination - c_occupation:"
   ]
  },
  {
   "cell_type": "code",
   "execution_count": 27,
   "id": "1bb6b9c1-96a5-45a0-8424-1c033b604784",
   "metadata": {
    "tags": []
   },
   "outputs": [
    {
     "name": "stdout",
     "output_type": "stream",
     "text": [
      "Number of null strings: 0\n"
     ]
    }
   ],
   "source": [
    "nulls = final_merged_df['c_occupation'].isna().sum()\n",
    "print(f'Number of null strings: {nulls}')"
   ]
  },
  {
   "cell_type": "code",
   "execution_count": 28,
   "id": "8d8986b1-5593-4dca-bdf8-69de451bfcb2",
   "metadata": {
    "tags": []
   },
   "outputs": [
    {
     "data": {
      "text/plain": [
       "Student           78301\n",
       "Employee          44830\n",
       "Self Employeed    20541\n",
       "House wife         3389\n",
       "Name: c_occupation, dtype: int64"
      ]
     },
     "execution_count": 28,
     "metadata": {},
     "output_type": "execute_result"
    }
   ],
   "source": [
    "final_merged_df['c_occupation'].value_counts()"
   ]
  },
  {
   "cell_type": "markdown",
   "id": "35a157e7",
   "metadata": {},
   "source": [
    "##### Cleaning Notes:\n",
    "- Don't need to clean anything here because all datapoints fall into Student, Employee, Self Employed, or House Wife categories"
   ]
  },
  {
   "cell_type": "markdown",
   "id": "63dc9b45",
   "metadata": {},
   "source": [
    "### Cleaning Determination - c_monthly_income:"
   ]
  },
  {
   "cell_type": "code",
   "execution_count": 29,
   "id": "0acfaf9a-36fd-4982-addd-7cde82464200",
   "metadata": {
    "scrolled": true,
    "tags": []
   },
   "outputs": [
    {
     "data": {
      "text/plain": [
       "No Income          70833\n",
       "25001 to 50000     26140\n",
       "More than 50000    23687\n",
       "10001 to 25000     16910\n",
       "Below Rs.10000      9491\n",
       "Name: c_monthly_income, dtype: int64"
      ]
     },
     "execution_count": 29,
     "metadata": {},
     "output_type": "execute_result"
    }
   ],
   "source": [
    "final_merged_df['c_monthly_income'].value_counts()"
   ]
  },
  {
   "cell_type": "code",
   "execution_count": 30,
   "id": "8323bf06-6ee5-445f-8336-4df6285feaee",
   "metadata": {
    "tags": []
   },
   "outputs": [],
   "source": [
    "# final_merged_df.loc[(final_merged_df.c_monthly_income == 'No Income'),'c_monthly_income']=0\n",
    "# final_merged_df.loc[(final_merged_df.c_monthly_income == 'Below Rs.10000'),'c_monthly_income']=1\n",
    "# final_merged_df.loc[(final_merged_df.c_monthly_income == '10001 to 25000'),'c_monthly_income']=2\n",
    "# final_merged_df.loc[(final_merged_df.c_monthly_income == '25001 to 50000'),'c_monthly_income']=3\n",
    "# final_merged_df.loc[(final_merged_df.c_monthly_income == 'More than 50000'),'c_monthly_income']=4"
   ]
  },
  {
   "cell_type": "markdown",
   "id": "d7699b72",
   "metadata": {},
   "source": [
    "##### Cleaning Notes:\n",
    "- Encoded the income ranges into values 0-4\n",
    "- 0 being the lowest income level\n",
    "- 4 being the highest income level\n",
    "- Will allow for potential data analysis"
   ]
  },
  {
   "cell_type": "markdown",
   "id": "55ef8140",
   "metadata": {},
   "source": [
    "### Cleaning Determination - c_education_level:"
   ]
  },
  {
   "cell_type": "code",
   "execution_count": 31,
   "id": "2a828d80-6407-4867-8bcd-62119dd51e9f",
   "metadata": {
    "tags": []
   },
   "outputs": [
    {
     "name": "stdout",
     "output_type": "stream",
     "text": [
      "Number of null values: 0\n"
     ]
    }
   ],
   "source": [
    "nulls = final_merged_df['c_education_level'].isna().sum()\n",
    "print(f'Number of null values: {nulls}')"
   ]
  },
  {
   "cell_type": "code",
   "execution_count": 32,
   "id": "996e52d5-460e-496e-ac9e-e498fae7e9d0",
   "metadata": {
    "tags": []
   },
   "outputs": [
    {
     "data": {
      "text/plain": [
       "Graduate         67272\n",
       "Post Graduate    65607\n",
       "Ph.D              8827\n",
       "School            4602\n",
       "Uneducated         753\n",
       "Name: c_education_level, dtype: int64"
      ]
     },
     "execution_count": 32,
     "metadata": {},
     "output_type": "execute_result"
    }
   ],
   "source": [
    "final_merged_df['c_education_level'].value_counts()"
   ]
  },
  {
   "cell_type": "markdown",
   "id": "7f358284",
   "metadata": {},
   "source": [
    "##### Cleaning Notes:\n",
    "- Don't need to clean anything here because no null values\n",
    "- Every education level falls into 5 categories"
   ]
  },
  {
   "cell_type": "markdown",
   "id": "921d5086",
   "metadata": {},
   "source": [
    "### Cleaning Determination - c_family_size:"
   ]
  },
  {
   "cell_type": "code",
   "execution_count": 33,
   "id": "951e0d7d-0edf-4e33-96b6-c7c9721ee504",
   "metadata": {
    "tags": []
   },
   "outputs": [
    {
     "name": "stdout",
     "output_type": "stream",
     "text": [
      "Number of nulls: 0\n"
     ]
    }
   ],
   "source": [
    "nulls = final_merged_df['c_family_size'].isna().sum()\n",
    "print(f'Number of nulls: {nulls}')"
   ]
  },
  {
   "cell_type": "code",
   "execution_count": 34,
   "id": "7f1c5a25-d090-49e2-877d-1a5c08256fcb",
   "metadata": {
    "tags": []
   },
   "outputs": [
    {
     "data": {
      "text/plain": [
       "3    44199\n",
       "2    38365\n",
       "4    23802\n",
       "5    20462\n",
       "6    11087\n",
       "1     9146\n",
       "Name: c_family_size, dtype: int64"
      ]
     },
     "execution_count": 34,
     "metadata": {},
     "output_type": "execute_result"
    }
   ],
   "source": [
    "final_merged_df['c_family_size'].value_counts()"
   ]
  },
  {
   "cell_type": "markdown",
   "id": "39f314a3",
   "metadata": {},
   "source": [
    "##### Cleaning Notes:\n",
    "- Don't need to clean anything here because no null values\n",
    "- No weird outlier values"
   ]
  },
  {
   "cell_type": "markdown",
   "id": "7c5071af",
   "metadata": {},
   "source": [
    "### Cleaning Determination - r_name:"
   ]
  },
  {
   "cell_type": "code",
   "execution_count": 35,
   "id": "2c9147b6-05be-47ef-a1f4-4e22163d4e7d",
   "metadata": {
    "tags": []
   },
   "outputs": [
    {
     "name": "stdout",
     "output_type": "stream",
     "text": [
      "Number of null strings: 84\n"
     ]
    }
   ],
   "source": [
    "nulls = final_merged_df['r_name'].isna().sum()\n",
    "print(f'Number of null strings: {nulls}')"
   ]
  },
  {
   "cell_type": "code",
   "execution_count": 36,
   "id": "75a0b2c1-4a22-49c0-b4d1-5625d3d49138",
   "metadata": {
    "tags": []
   },
   "outputs": [
    {
     "name": "stdout",
     "output_type": "stream",
     "text": [
      "Number of empty strings: 0\n"
     ]
    }
   ],
   "source": [
    "e_strings = (final_merged_df['r_name'] == '').sum()\n",
    "print(f'Number of empty strings: {e_strings}')"
   ]
  },
  {
   "cell_type": "code",
   "execution_count": 37,
   "id": "2d62e872-f448-4d3e-9a2f-d2400f8ae24d",
   "metadata": {
    "tags": []
   },
   "outputs": [
    {
     "name": "stdout",
     "output_type": "stream",
     "text": [
      "Number of strings with undesirable spaces: 0\n"
     ]
    }
   ],
   "source": [
    "spaces = final_merged_df[final_merged_df['r_name'].str.strip() == ''].shape[0]\n",
    "print(f'Number of strings with undesirable spaces: {spaces}')"
   ]
  },
  {
   "cell_type": "code",
   "execution_count": 38,
   "id": "b7ff053d-2c00-4fcc-8a4a-7e2e977ec658",
   "metadata": {
    "tags": []
   },
   "outputs": [],
   "source": [
    "final_merged_df = final_merged_df[final_merged_df['r_name'].notna()]\n",
    "nulls = final_merged_df['r_name'].isna().sum()"
   ]
  },
  {
   "cell_type": "markdown",
   "id": "47d4d362",
   "metadata": {},
   "source": [
    "##### Cleaning Notes:\n",
    "- Filtered out nulls (we can't really work with restaurant orders if we don't have the names of the restaurants)\n",
    "- No empty strings\n",
    "- No undesirable spaces"
   ]
  },
  {
   "cell_type": "markdown",
   "id": "2711247e",
   "metadata": {},
   "source": [
    "### Cleaning Determination - r_city:"
   ]
  },
  {
   "cell_type": "code",
   "execution_count": 39,
   "id": "dfb6aa0d",
   "metadata": {},
   "outputs": [],
   "source": [
    "final_merged_df['r_city'] = final_merged_df['r_city'].str.split(\",\").str[-1].str.strip()"
   ]
  },
  {
   "cell_type": "code",
   "execution_count": 40,
   "id": "267635e8-2e74-4636-8e8f-20c10fa46276",
   "metadata": {
    "tags": []
   },
   "outputs": [
    {
     "name": "stdout",
     "output_type": "stream",
     "text": [
      "Number of null strings: 0\n"
     ]
    }
   ],
   "source": [
    "nulls = final_merged_df['r_city'].isna().sum()\n",
    "print(f'Number of null strings: {nulls}')"
   ]
  },
  {
   "cell_type": "markdown",
   "id": "e35c15b2-b10c-4da4-852a-1e76b600cf74",
   "metadata": {},
   "source": [
    "##### Cleaning Notes:\n",
    "- All city entries were generalized. i.e. if the neighborhood and city was included in neighborhood, city format, we only included city\n",
    "- No NA values"
   ]
  },
  {
   "cell_type": "markdown",
   "id": "fa200739",
   "metadata": {},
   "source": [
    "### Cleaning Determination - r_rating:"
   ]
  },
  {
   "cell_type": "code",
   "execution_count": 41,
   "id": "5ede628a-ac40-4ac0-908b-5d4b663dc6a1",
   "metadata": {
    "tags": []
   },
   "outputs": [
    {
     "data": {
      "text/plain": [
       "--     86105\n",
       "4.0     6486\n",
       "4.1     6244\n",
       "4.2     5764\n",
       "3.8     5663\n",
       "Name: r_rating, dtype: int64"
      ]
     },
     "execution_count": 41,
     "metadata": {},
     "output_type": "execute_result"
    }
   ],
   "source": [
    "final_merged_df['r_rating'].value_counts().head()"
   ]
  },
  {
   "cell_type": "markdown",
   "id": "641b23cf",
   "metadata": {
    "tags": []
   },
   "source": [
    "##### Cleaning Notes:\n",
    "- Some restaurants don't have a rating, so they have \"--\" as the entry\n",
    "- Will not change at this point"
   ]
  },
  {
   "cell_type": "markdown",
   "id": "6c04f7ce",
   "metadata": {},
   "source": [
    "### Cleaning Determination - r_number_of_ratings:"
   ]
  },
  {
   "cell_type": "code",
   "execution_count": 42,
   "id": "676cd8ed-4679-4574-96eb-b37b29f20e3d",
   "metadata": {
    "tags": []
   },
   "outputs": [
    {
     "data": {
      "text/plain": [
       "Too Few Ratings    86105\n",
       "20+ ratings        21443\n",
       "100+ ratings       20356\n",
       "50+ ratings        11898\n",
       "500+ ratings        4360\n",
       "1K+ ratings         2703\n",
       "5K+ ratings           97\n",
       "10K+ ratings          15\n",
       "Name: r_number_of_ratings, dtype: int64"
      ]
     },
     "execution_count": 42,
     "metadata": {},
     "output_type": "execute_result"
    }
   ],
   "source": [
    "final_merged_df['r_number_of_ratings'].value_counts()"
   ]
  },
  {
   "cell_type": "code",
   "execution_count": 43,
   "id": "b416e0ba-af1b-4541-9b2a-445e21a535cd",
   "metadata": {
    "tags": []
   },
   "outputs": [],
   "source": [
    "# final_merged_df.loc[(final_merged_df.r_number_of_ratings == 'Too Few Ratings'),'r_number_of_ratings']=0\n",
    "# final_merged_df.loc[(final_merged_df.r_number_of_ratings == '1K+ ratings'),'r_number_of_ratings']=1\n",
    "# final_merged_df.loc[(final_merged_df.r_number_of_ratings == '5K+ ratings'),'r_number_of_ratings']=2\n",
    "# final_merged_df.loc[(final_merged_df.r_number_of_ratings == '10K+ ratings'),'r_number_of_ratings']=3\n",
    "# final_merged_df.loc[(final_merged_df.r_number_of_ratings == '20+ ratings'),'r_number_of_ratings']=4\n",
    "# final_merged_df.loc[(final_merged_df.r_number_of_ratings == '50+ ratings'),'r_number_of_ratings']=5\n",
    "# final_merged_df.loc[(final_merged_df.r_number_of_ratings == '100+ ratings'),'r_number_of_ratings']=6\n",
    "# final_merged_df.loc[(final_merged_df.r_number_of_ratings == '500+ ratings'),'r_number_of_ratings']=7"
   ]
  },
  {
   "cell_type": "markdown",
   "id": "bf4a9ffd",
   "metadata": {},
   "source": [
    "##### Cleaning Notes:\n",
    "- Encoded the ratings bracket to a value from 0-7\n",
    "- Will allow for easier analysis later on"
   ]
  },
  {
   "cell_type": "markdown",
   "id": "0aebc5d8",
   "metadata": {},
   "source": [
    "### Cleaning Determination - r_average_per_head_cost:"
   ]
  },
  {
   "cell_type": "code",
   "execution_count": 44,
   "id": "ba9f6df6-5ee2-4f8c-b3fb-ba53fe730c14",
   "metadata": {
    "tags": []
   },
   "outputs": [
    {
     "data": {
      "text/plain": [
       "₹ 200    38273\n",
       "₹ 300    29362\n",
       "₹ 250    19542\n",
       "₹ 150    11972\n",
       "₹ 400    11600\n",
       "         ...  \n",
       "₹ 283        1\n",
       "₹ 746        1\n",
       "₹ 287        1\n",
       "₹ 254        1\n",
       "₹ 312        1\n",
       "Name: r_average_per_head_cost, Length: 362, dtype: int64"
      ]
     },
     "execution_count": 44,
     "metadata": {},
     "output_type": "execute_result"
    }
   ],
   "source": [
    "final_merged_df['r_average_per_head_cost'].value_counts()"
   ]
  },
  {
   "cell_type": "code",
   "execution_count": 45,
   "id": "dd0edeea-3217-4574-ace4-df6df4f3fcc0",
   "metadata": {
    "tags": []
   },
   "outputs": [
    {
     "name": "stdout",
     "output_type": "stream",
     "text": [
      "Number of null strings: 43\n"
     ]
    }
   ],
   "source": [
    "nulls = final_merged_df['r_average_per_head_cost'].isna().sum()\n",
    "print(f'Number of null strings: {nulls}')"
   ]
  },
  {
   "cell_type": "code",
   "execution_count": 46,
   "id": "eb194787-5511-4278-9647-3db962fbc041",
   "metadata": {
    "tags": []
   },
   "outputs": [
    {
     "name": "stdout",
     "output_type": "stream",
     "text": [
      "Number of null strings: 0\n"
     ]
    }
   ],
   "source": [
    "final_merged_df = final_merged_df[final_merged_df['r_average_per_head_cost'].notna()]\n",
    "nulls = final_merged_df['r_average_per_head_cost'].isna().sum()\n",
    "print(f'Number of null strings: {nulls}')"
   ]
  },
  {
   "cell_type": "code",
   "execution_count": 47,
   "id": "a6e3d1d8-897c-4be8-82d7-d5b7798f62e5",
   "metadata": {
    "tags": []
   },
   "outputs": [
    {
     "data": {
      "text/html": [
       "<div>\n",
       "<style scoped>\n",
       "    .dataframe tbody tr th:only-of-type {\n",
       "        vertical-align: middle;\n",
       "    }\n",
       "\n",
       "    .dataframe tbody tr th {\n",
       "        vertical-align: top;\n",
       "    }\n",
       "\n",
       "    .dataframe thead th {\n",
       "        text-align: right;\n",
       "    }\n",
       "</style>\n",
       "<table border=\"1\" class=\"dataframe\">\n",
       "  <thead>\n",
       "    <tr style=\"text-align: right;\">\n",
       "      <th></th>\n",
       "      <th>order_id</th>\n",
       "      <th>order_date</th>\n",
       "      <th>number_items_ordered</th>\n",
       "      <th>total_order_cost</th>\n",
       "      <th>currency</th>\n",
       "      <th>c_id</th>\n",
       "      <th>r_id</th>\n",
       "      <th>c_name</th>\n",
       "      <th>c_age</th>\n",
       "      <th>c_gender</th>\n",
       "      <th>c_marital_status</th>\n",
       "      <th>c_occupation</th>\n",
       "      <th>c_monthly_income</th>\n",
       "      <th>c_education_level</th>\n",
       "      <th>c_family_size</th>\n",
       "      <th>r_name</th>\n",
       "      <th>r_city</th>\n",
       "      <th>r_rating</th>\n",
       "      <th>r_number_of_ratings</th>\n",
       "      <th>r_average_per_head_cost</th>\n",
       "    </tr>\n",
       "  </thead>\n",
       "  <tbody>\n",
       "  </tbody>\n",
       "</table>\n",
       "</div>"
      ],
      "text/plain": [
       "Empty DataFrame\n",
       "Columns: [order_id, order_date, number_items_ordered, total_order_cost, currency, c_id, r_id, c_name, c_age, c_gender, c_marital_status, c_occupation, c_monthly_income, c_education_level, c_family_size, r_name, r_city, r_rating, r_number_of_ratings, r_average_per_head_cost]\n",
       "Index: []"
      ]
     },
     "execution_count": 47,
     "metadata": {},
     "output_type": "execute_result"
    }
   ],
   "source": [
    "final_merged_df[~final_merged_df['r_average_per_head_cost'].str.contains('₹')]"
   ]
  },
  {
   "cell_type": "code",
   "execution_count": 48,
   "id": "42ca08a9",
   "metadata": {},
   "outputs": [],
   "source": [
    "final_merged_df['r_average_per_head_cost'] = final_merged_df['r_average_per_head_cost'].str.replace('₹', '').str.strip()\n",
    "final_merged_df['r_average_per_head_cost'] = final_merged_df['r_average_per_head_cost'].astype(int)"
   ]
  },
  {
   "cell_type": "markdown",
   "id": "7c6aff17",
   "metadata": {},
   "source": [
    "##### Cleaning Notes:\n",
    "- filter out null strings\n",
    "- remove rupee symbol r_average_per_head_cost and have the value just saved as an integer"
   ]
  },
  {
   "cell_type": "markdown",
   "id": "10c19c24",
   "metadata": {},
   "source": [
    "### Cleaning Determination - r_cuisine:"
   ]
  },
  {
   "cell_type": "code",
   "execution_count": 49,
   "id": "211a7887-38e5-4d0e-ac3a-93d471dda71c",
   "metadata": {
    "tags": []
   },
   "outputs": [],
   "source": [
    "# nulls = final_merged_df['r_cuisine'].isna().sum()\n",
    "# print(f'Number of null strings: {nulls}')"
   ]
  },
  {
   "cell_type": "code",
   "execution_count": 50,
   "id": "34589b97-ac95-4925-9eb1-bb8f7b4f8008",
   "metadata": {
    "tags": []
   },
   "outputs": [],
   "source": [
    "# final_merged_df = final_merged_df[final_merged_df['r_cuisine'].notna()]\n",
    "# nulls = final_merged_df['r_cuisine'].isna().sum()\n",
    "# print(f'Number of null strings: {nulls}')"
   ]
  },
  {
   "cell_type": "markdown",
   "id": "1f94832b",
   "metadata": {},
   "source": [
    "##### Cleaning Notes:\n",
    "- Filtered Out The Null Strings"
   ]
  },
  {
   "cell_type": "markdown",
   "id": "fcc3c2dd-2643-44f7-a763-d69a2ed3ec83",
   "metadata": {
    "tags": []
   },
   "source": [
    "## Cleaned Dataframe"
   ]
  },
  {
   "cell_type": "code",
   "execution_count": 51,
   "id": "7179309d-667d-4204-a100-b3b5b1eb84af",
   "metadata": {
    "tags": []
   },
   "outputs": [
    {
     "data": {
      "text/html": [
       "<div>\n",
       "<style scoped>\n",
       "    .dataframe tbody tr th:only-of-type {\n",
       "        vertical-align: middle;\n",
       "    }\n",
       "\n",
       "    .dataframe tbody tr th {\n",
       "        vertical-align: top;\n",
       "    }\n",
       "\n",
       "    .dataframe thead th {\n",
       "        text-align: right;\n",
       "    }\n",
       "</style>\n",
       "<table border=\"1\" class=\"dataframe\">\n",
       "  <thead>\n",
       "    <tr style=\"text-align: right;\">\n",
       "      <th></th>\n",
       "      <th>order_id</th>\n",
       "      <th>order_date</th>\n",
       "      <th>number_items_ordered</th>\n",
       "      <th>total_order_cost</th>\n",
       "      <th>currency</th>\n",
       "      <th>c_id</th>\n",
       "      <th>r_id</th>\n",
       "      <th>c_name</th>\n",
       "      <th>c_age</th>\n",
       "      <th>c_gender</th>\n",
       "      <th>c_marital_status</th>\n",
       "      <th>c_occupation</th>\n",
       "      <th>c_monthly_income</th>\n",
       "      <th>c_education_level</th>\n",
       "      <th>c_family_size</th>\n",
       "      <th>r_name</th>\n",
       "      <th>r_city</th>\n",
       "      <th>r_rating</th>\n",
       "      <th>r_number_of_ratings</th>\n",
       "      <th>r_average_per_head_cost</th>\n",
       "    </tr>\n",
       "  </thead>\n",
       "  <tbody>\n",
       "    <tr>\n",
       "      <th>0</th>\n",
       "      <td>0</td>\n",
       "      <td>2017-10-10</td>\n",
       "      <td>100</td>\n",
       "      <td>41241</td>\n",
       "      <td>INR</td>\n",
       "      <td>49226</td>\n",
       "      <td>567335</td>\n",
       "      <td>Teresa Garcia</td>\n",
       "      <td>27</td>\n",
       "      <td>Male</td>\n",
       "      <td>Married</td>\n",
       "      <td>Self Employeed</td>\n",
       "      <td>25001 to 50000</td>\n",
       "      <td>Graduate</td>\n",
       "      <td>6</td>\n",
       "      <td>AB FOODS POINT</td>\n",
       "      <td>Abohar</td>\n",
       "      <td>--</td>\n",
       "      <td>Too Few Ratings</td>\n",
       "      <td>200</td>\n",
       "    </tr>\n",
       "    <tr>\n",
       "      <th>1</th>\n",
       "      <td>100584</td>\n",
       "      <td>2019-03-07</td>\n",
       "      <td>1</td>\n",
       "      <td>130</td>\n",
       "      <td>INR</td>\n",
       "      <td>49226</td>\n",
       "      <td>555824</td>\n",
       "      <td>Teresa Garcia</td>\n",
       "      <td>27</td>\n",
       "      <td>Male</td>\n",
       "      <td>Married</td>\n",
       "      <td>Self Employeed</td>\n",
       "      <td>25001 to 50000</td>\n",
       "      <td>Graduate</td>\n",
       "      <td>6</td>\n",
       "      <td>Masala Kechup Amar's Kitchen</td>\n",
       "      <td>Lucknow</td>\n",
       "      <td>--</td>\n",
       "      <td>Too Few Ratings</td>\n",
       "      <td>250</td>\n",
       "    </tr>\n",
       "    <tr>\n",
       "      <th>3</th>\n",
       "      <td>112496</td>\n",
       "      <td>2020-06-08</td>\n",
       "      <td>1</td>\n",
       "      <td>236</td>\n",
       "      <td>INR</td>\n",
       "      <td>77359</td>\n",
       "      <td>349813</td>\n",
       "      <td>Dana Reeves</td>\n",
       "      <td>23</td>\n",
       "      <td>Male</td>\n",
       "      <td>Single</td>\n",
       "      <td>Student</td>\n",
       "      <td>More than 50000</td>\n",
       "      <td>Post Graduate</td>\n",
       "      <td>3</td>\n",
       "      <td>Henschel Ghar</td>\n",
       "      <td>Nagaon</td>\n",
       "      <td>--</td>\n",
       "      <td>Too Few Ratings</td>\n",
       "      <td>200</td>\n",
       "    </tr>\n",
       "    <tr>\n",
       "      <th>4</th>\n",
       "      <td>113376</td>\n",
       "      <td>2018-03-20</td>\n",
       "      <td>1</td>\n",
       "      <td>56</td>\n",
       "      <td>INR</td>\n",
       "      <td>77359</td>\n",
       "      <td>510814</td>\n",
       "      <td>Dana Reeves</td>\n",
       "      <td>23</td>\n",
       "      <td>Male</td>\n",
       "      <td>Single</td>\n",
       "      <td>Student</td>\n",
       "      <td>More than 50000</td>\n",
       "      <td>Post Graduate</td>\n",
       "      <td>3</td>\n",
       "      <td>Box 5 Cafe</td>\n",
       "      <td>Nagpur</td>\n",
       "      <td>--</td>\n",
       "      <td>Too Few Ratings</td>\n",
       "      <td>150</td>\n",
       "    </tr>\n",
       "    <tr>\n",
       "      <th>5</th>\n",
       "      <td>2</td>\n",
       "      <td>2018-04-06</td>\n",
       "      <td>1</td>\n",
       "      <td>875</td>\n",
       "      <td>INR</td>\n",
       "      <td>5321</td>\n",
       "      <td>158203</td>\n",
       "      <td>Donald Anderson</td>\n",
       "      <td>24</td>\n",
       "      <td>Male</td>\n",
       "      <td>Married</td>\n",
       "      <td>Employee</td>\n",
       "      <td>More than 50000</td>\n",
       "      <td>Post Graduate</td>\n",
       "      <td>3</td>\n",
       "      <td>theka coffee desi</td>\n",
       "      <td>Abohar</td>\n",
       "      <td>3.8</td>\n",
       "      <td>100+ ratings</td>\n",
       "      <td>100</td>\n",
       "    </tr>\n",
       "  </tbody>\n",
       "</table>\n",
       "</div>"
      ],
      "text/plain": [
       "   order_id order_date  number_items_ordered  total_order_cost currency  \\\n",
       "0         0 2017-10-10                   100             41241      INR   \n",
       "1    100584 2019-03-07                     1               130      INR   \n",
       "3    112496 2020-06-08                     1               236      INR   \n",
       "4    113376 2018-03-20                     1                56      INR   \n",
       "5         2 2018-04-06                     1               875      INR   \n",
       "\n",
       "    c_id    r_id           c_name  c_age c_gender c_marital_status  \\\n",
       "0  49226  567335    Teresa Garcia     27     Male          Married   \n",
       "1  49226  555824    Teresa Garcia     27     Male          Married   \n",
       "3  77359  349813      Dana Reeves     23     Male           Single   \n",
       "4  77359  510814      Dana Reeves     23     Male           Single   \n",
       "5   5321  158203  Donald Anderson     24     Male          Married   \n",
       "\n",
       "     c_occupation c_monthly_income c_education_level  c_family_size  \\\n",
       "0  Self Employeed   25001 to 50000          Graduate              6   \n",
       "1  Self Employeed   25001 to 50000          Graduate              6   \n",
       "3         Student  More than 50000     Post Graduate              3   \n",
       "4         Student  More than 50000     Post Graduate              3   \n",
       "5        Employee  More than 50000     Post Graduate              3   \n",
       "\n",
       "                         r_name   r_city r_rating r_number_of_ratings  \\\n",
       "0                AB FOODS POINT   Abohar       --     Too Few Ratings   \n",
       "1  Masala Kechup Amar's Kitchen  Lucknow       --     Too Few Ratings   \n",
       "3                 Henschel Ghar   Nagaon       --     Too Few Ratings   \n",
       "4                    Box 5 Cafe   Nagpur       --     Too Few Ratings   \n",
       "5             theka coffee desi   Abohar      3.8        100+ ratings   \n",
       "\n",
       "   r_average_per_head_cost  \n",
       "0                      200  \n",
       "1                      250  \n",
       "3                      200  \n",
       "4                      150  \n",
       "5                      100  "
      ]
     },
     "execution_count": 51,
     "metadata": {},
     "output_type": "execute_result"
    }
   ],
   "source": [
    "final_merged_df.head()\n",
    "# final_merged_df.to_csv('final.csv')"
   ]
  },
  {
   "cell_type": "code",
   "execution_count": 52,
   "id": "bc666778",
   "metadata": {},
   "outputs": [],
   "source": [
    "# final_merged_df.dtypes"
   ]
  },
  {
   "cell_type": "markdown",
   "id": "3178b095",
   "metadata": {},
   "source": [
    "### extra steps\n",
    "2. c_gender => binary encoding\n",
    "- 1 => male\n",
    "- 0 => female\n",
    "3. c_marital_status => one hot encode\n",
    "4. c_occupation => one hot encode\n",
    "5. c_monthly_income => provide bounded value assignment, cast to int64\n",
    "6. c_education_level => one hot encode\n",
    "7. r_rating => to float\n",
    "8. r_number_of_ratings => lower bound value assignment, cast to int64"
   ]
  },
  {
   "cell_type": "code",
   "execution_count": 53,
   "id": "2699cd05",
   "metadata": {},
   "outputs": [],
   "source": [
    "# X = pd.get_dummies(final_merged_df, columns=['c_marital_status', 'c_occupation', 'c_monthly_income', 'c_education_level', 'r_number_of_ratings'])\n",
    "# X"
   ]
  },
  {
   "cell_type": "code",
   "execution_count": 54,
   "id": "0434a367",
   "metadata": {},
   "outputs": [
    {
     "data": {
      "text/html": [
       "<div>\n",
       "<style scoped>\n",
       "    .dataframe tbody tr th:only-of-type {\n",
       "        vertical-align: middle;\n",
       "    }\n",
       "\n",
       "    .dataframe tbody tr th {\n",
       "        vertical-align: top;\n",
       "    }\n",
       "\n",
       "    .dataframe thead th {\n",
       "        text-align: right;\n",
       "    }\n",
       "</style>\n",
       "<table border=\"1\" class=\"dataframe\">\n",
       "  <thead>\n",
       "    <tr style=\"text-align: right;\">\n",
       "      <th></th>\n",
       "      <th>order_id</th>\n",
       "      <th>order_date</th>\n",
       "      <th>number_items_ordered</th>\n",
       "      <th>total_order_cost</th>\n",
       "      <th>currency</th>\n",
       "      <th>c_id</th>\n",
       "      <th>r_id</th>\n",
       "      <th>c_name</th>\n",
       "      <th>c_age</th>\n",
       "      <th>c_gender</th>\n",
       "      <th>c_marital_status</th>\n",
       "      <th>c_occupation</th>\n",
       "      <th>c_monthly_income</th>\n",
       "      <th>c_education_level</th>\n",
       "      <th>c_family_size</th>\n",
       "      <th>r_name</th>\n",
       "      <th>r_city</th>\n",
       "      <th>r_rating</th>\n",
       "      <th>r_number_of_ratings</th>\n",
       "      <th>r_average_per_head_cost</th>\n",
       "    </tr>\n",
       "  </thead>\n",
       "  <tbody>\n",
       "    <tr>\n",
       "      <th>0</th>\n",
       "      <td>0</td>\n",
       "      <td>2017-10-10</td>\n",
       "      <td>100</td>\n",
       "      <td>41241</td>\n",
       "      <td>INR</td>\n",
       "      <td>49226</td>\n",
       "      <td>567335</td>\n",
       "      <td>Teresa Garcia</td>\n",
       "      <td>27</td>\n",
       "      <td>1</td>\n",
       "      <td>Married</td>\n",
       "      <td>Self Employeed</td>\n",
       "      <td>25001 to 50000</td>\n",
       "      <td>Graduate</td>\n",
       "      <td>6</td>\n",
       "      <td>AB FOODS POINT</td>\n",
       "      <td>Abohar</td>\n",
       "      <td>--</td>\n",
       "      <td>Too Few Ratings</td>\n",
       "      <td>200</td>\n",
       "    </tr>\n",
       "    <tr>\n",
       "      <th>1</th>\n",
       "      <td>100584</td>\n",
       "      <td>2019-03-07</td>\n",
       "      <td>1</td>\n",
       "      <td>130</td>\n",
       "      <td>INR</td>\n",
       "      <td>49226</td>\n",
       "      <td>555824</td>\n",
       "      <td>Teresa Garcia</td>\n",
       "      <td>27</td>\n",
       "      <td>1</td>\n",
       "      <td>Married</td>\n",
       "      <td>Self Employeed</td>\n",
       "      <td>25001 to 50000</td>\n",
       "      <td>Graduate</td>\n",
       "      <td>6</td>\n",
       "      <td>Masala Kechup Amar's Kitchen</td>\n",
       "      <td>Lucknow</td>\n",
       "      <td>--</td>\n",
       "      <td>Too Few Ratings</td>\n",
       "      <td>250</td>\n",
       "    </tr>\n",
       "    <tr>\n",
       "      <th>3</th>\n",
       "      <td>112496</td>\n",
       "      <td>2020-06-08</td>\n",
       "      <td>1</td>\n",
       "      <td>236</td>\n",
       "      <td>INR</td>\n",
       "      <td>77359</td>\n",
       "      <td>349813</td>\n",
       "      <td>Dana Reeves</td>\n",
       "      <td>23</td>\n",
       "      <td>1</td>\n",
       "      <td>Single</td>\n",
       "      <td>Student</td>\n",
       "      <td>More than 50000</td>\n",
       "      <td>Post Graduate</td>\n",
       "      <td>3</td>\n",
       "      <td>Henschel Ghar</td>\n",
       "      <td>Nagaon</td>\n",
       "      <td>--</td>\n",
       "      <td>Too Few Ratings</td>\n",
       "      <td>200</td>\n",
       "    </tr>\n",
       "    <tr>\n",
       "      <th>4</th>\n",
       "      <td>113376</td>\n",
       "      <td>2018-03-20</td>\n",
       "      <td>1</td>\n",
       "      <td>56</td>\n",
       "      <td>INR</td>\n",
       "      <td>77359</td>\n",
       "      <td>510814</td>\n",
       "      <td>Dana Reeves</td>\n",
       "      <td>23</td>\n",
       "      <td>1</td>\n",
       "      <td>Single</td>\n",
       "      <td>Student</td>\n",
       "      <td>More than 50000</td>\n",
       "      <td>Post Graduate</td>\n",
       "      <td>3</td>\n",
       "      <td>Box 5 Cafe</td>\n",
       "      <td>Nagpur</td>\n",
       "      <td>--</td>\n",
       "      <td>Too Few Ratings</td>\n",
       "      <td>150</td>\n",
       "    </tr>\n",
       "    <tr>\n",
       "      <th>5</th>\n",
       "      <td>2</td>\n",
       "      <td>2018-04-06</td>\n",
       "      <td>1</td>\n",
       "      <td>875</td>\n",
       "      <td>INR</td>\n",
       "      <td>5321</td>\n",
       "      <td>158203</td>\n",
       "      <td>Donald Anderson</td>\n",
       "      <td>24</td>\n",
       "      <td>1</td>\n",
       "      <td>Married</td>\n",
       "      <td>Employee</td>\n",
       "      <td>More than 50000</td>\n",
       "      <td>Post Graduate</td>\n",
       "      <td>3</td>\n",
       "      <td>theka coffee desi</td>\n",
       "      <td>Abohar</td>\n",
       "      <td>3.8</td>\n",
       "      <td>100+ ratings</td>\n",
       "      <td>100</td>\n",
       "    </tr>\n",
       "    <tr>\n",
       "      <th>...</th>\n",
       "      <td>...</td>\n",
       "      <td>...</td>\n",
       "      <td>...</td>\n",
       "      <td>...</td>\n",
       "      <td>...</td>\n",
       "      <td>...</td>\n",
       "      <td>...</td>\n",
       "      <td>...</td>\n",
       "      <td>...</td>\n",
       "      <td>...</td>\n",
       "      <td>...</td>\n",
       "      <td>...</td>\n",
       "      <td>...</td>\n",
       "      <td>...</td>\n",
       "      <td>...</td>\n",
       "      <td>...</td>\n",
       "      <td>...</td>\n",
       "      <td>...</td>\n",
       "      <td>...</td>\n",
       "      <td>...</td>\n",
       "    </tr>\n",
       "    <tr>\n",
       "      <th>148659</th>\n",
       "      <td>148513</td>\n",
       "      <td>2019-01-11</td>\n",
       "      <td>1</td>\n",
       "      <td>1625</td>\n",
       "      <td>INR</td>\n",
       "      <td>9221</td>\n",
       "      <td>197786</td>\n",
       "      <td>Joy Smith</td>\n",
       "      <td>24</td>\n",
       "      <td>1</td>\n",
       "      <td>Single</td>\n",
       "      <td>Student</td>\n",
       "      <td>No Income</td>\n",
       "      <td>Post Graduate</td>\n",
       "      <td>3</td>\n",
       "      <td>Cake Pastry and Cafe</td>\n",
       "      <td>Yavatmal</td>\n",
       "      <td>--</td>\n",
       "      <td>Too Few Ratings</td>\n",
       "      <td>200</td>\n",
       "    </tr>\n",
       "    <tr>\n",
       "      <th>148660</th>\n",
       "      <td>148522</td>\n",
       "      <td>2019-01-16</td>\n",
       "      <td>2</td>\n",
       "      <td>3606</td>\n",
       "      <td>INR</td>\n",
       "      <td>66229</td>\n",
       "      <td>211591</td>\n",
       "      <td>Felicia Walls</td>\n",
       "      <td>22</td>\n",
       "      <td>1</td>\n",
       "      <td>Single</td>\n",
       "      <td>Student</td>\n",
       "      <td>25001 to 50000</td>\n",
       "      <td>Graduate</td>\n",
       "      <td>3</td>\n",
       "      <td>Cafe Chocolicious</td>\n",
       "      <td>Yavatmal</td>\n",
       "      <td>--</td>\n",
       "      <td>Too Few Ratings</td>\n",
       "      <td>200</td>\n",
       "    </tr>\n",
       "    <tr>\n",
       "      <th>148661</th>\n",
       "      <td>148525</td>\n",
       "      <td>2019-01-17</td>\n",
       "      <td>1</td>\n",
       "      <td>1523</td>\n",
       "      <td>INR</td>\n",
       "      <td>53604</td>\n",
       "      <td>242762</td>\n",
       "      <td>Aaron Mccarthy</td>\n",
       "      <td>25</td>\n",
       "      <td>1</td>\n",
       "      <td>Single</td>\n",
       "      <td>Student</td>\n",
       "      <td>No Income</td>\n",
       "      <td>Post Graduate</td>\n",
       "      <td>4</td>\n",
       "      <td>Frost and Feather</td>\n",
       "      <td>Yavatmal</td>\n",
       "      <td>--</td>\n",
       "      <td>Too Few Ratings</td>\n",
       "      <td>250</td>\n",
       "    </tr>\n",
       "    <tr>\n",
       "      <th>148662</th>\n",
       "      <td>148537</td>\n",
       "      <td>2019-01-23</td>\n",
       "      <td>1</td>\n",
       "      <td>1477</td>\n",
       "      <td>INR</td>\n",
       "      <td>3414</td>\n",
       "      <td>562647</td>\n",
       "      <td>Mr. Reginald Chen</td>\n",
       "      <td>23</td>\n",
       "      <td>1</td>\n",
       "      <td>Single</td>\n",
       "      <td>Student</td>\n",
       "      <td>Below Rs.10000</td>\n",
       "      <td>Post Graduate</td>\n",
       "      <td>2</td>\n",
       "      <td>MAITRI FOODS &amp; BEVERAGES</td>\n",
       "      <td>Yavatmal</td>\n",
       "      <td>--</td>\n",
       "      <td>Too Few Ratings</td>\n",
       "      <td>300</td>\n",
       "    </tr>\n",
       "    <tr>\n",
       "      <th>148663</th>\n",
       "      <td>148539</td>\n",
       "      <td>2019-01-24</td>\n",
       "      <td>1</td>\n",
       "      <td>2282</td>\n",
       "      <td>INR</td>\n",
       "      <td>76103</td>\n",
       "      <td>418989</td>\n",
       "      <td>Kyle Pennington</td>\n",
       "      <td>22</td>\n",
       "      <td>1</td>\n",
       "      <td>Single</td>\n",
       "      <td>Student</td>\n",
       "      <td>No Income</td>\n",
       "      <td>Post Graduate</td>\n",
       "      <td>3</td>\n",
       "      <td>GRILL ZILLA</td>\n",
       "      <td>Yavatmal</td>\n",
       "      <td>--</td>\n",
       "      <td>Too Few Ratings</td>\n",
       "      <td>250</td>\n",
       "    </tr>\n",
       "  </tbody>\n",
       "</table>\n",
       "<p>146934 rows × 20 columns</p>\n",
       "</div>"
      ],
      "text/plain": [
       "        order_id order_date  number_items_ordered  total_order_cost currency  \\\n",
       "0              0 2017-10-10                   100             41241      INR   \n",
       "1         100584 2019-03-07                     1               130      INR   \n",
       "3         112496 2020-06-08                     1               236      INR   \n",
       "4         113376 2018-03-20                     1                56      INR   \n",
       "5              2 2018-04-06                     1               875      INR   \n",
       "...          ...        ...                   ...               ...      ...   \n",
       "148659    148513 2019-01-11                     1              1625      INR   \n",
       "148660    148522 2019-01-16                     2              3606      INR   \n",
       "148661    148525 2019-01-17                     1              1523      INR   \n",
       "148662    148537 2019-01-23                     1              1477      INR   \n",
       "148663    148539 2019-01-24                     1              2282      INR   \n",
       "\n",
       "         c_id    r_id             c_name  c_age  c_gender c_marital_status  \\\n",
       "0       49226  567335      Teresa Garcia     27         1          Married   \n",
       "1       49226  555824      Teresa Garcia     27         1          Married   \n",
       "3       77359  349813        Dana Reeves     23         1           Single   \n",
       "4       77359  510814        Dana Reeves     23         1           Single   \n",
       "5        5321  158203    Donald Anderson     24         1          Married   \n",
       "...       ...     ...                ...    ...       ...              ...   \n",
       "148659   9221  197786          Joy Smith     24         1           Single   \n",
       "148660  66229  211591      Felicia Walls     22         1           Single   \n",
       "148661  53604  242762     Aaron Mccarthy     25         1           Single   \n",
       "148662   3414  562647  Mr. Reginald Chen     23         1           Single   \n",
       "148663  76103  418989    Kyle Pennington     22         1           Single   \n",
       "\n",
       "          c_occupation c_monthly_income c_education_level  c_family_size  \\\n",
       "0       Self Employeed   25001 to 50000          Graduate              6   \n",
       "1       Self Employeed   25001 to 50000          Graduate              6   \n",
       "3              Student  More than 50000     Post Graduate              3   \n",
       "4              Student  More than 50000     Post Graduate              3   \n",
       "5             Employee  More than 50000     Post Graduate              3   \n",
       "...                ...              ...               ...            ...   \n",
       "148659         Student        No Income     Post Graduate              3   \n",
       "148660         Student   25001 to 50000          Graduate              3   \n",
       "148661         Student        No Income     Post Graduate              4   \n",
       "148662         Student   Below Rs.10000     Post Graduate              2   \n",
       "148663         Student        No Income     Post Graduate              3   \n",
       "\n",
       "                              r_name    r_city r_rating r_number_of_ratings  \\\n",
       "0                     AB FOODS POINT    Abohar       --     Too Few Ratings   \n",
       "1       Masala Kechup Amar's Kitchen   Lucknow       --     Too Few Ratings   \n",
       "3                      Henschel Ghar    Nagaon       --     Too Few Ratings   \n",
       "4                         Box 5 Cafe    Nagpur       --     Too Few Ratings   \n",
       "5                  theka coffee desi    Abohar      3.8        100+ ratings   \n",
       "...                              ...       ...      ...                 ...   \n",
       "148659          Cake Pastry and Cafe  Yavatmal       --     Too Few Ratings   \n",
       "148660             Cafe Chocolicious  Yavatmal       --     Too Few Ratings   \n",
       "148661             Frost and Feather  Yavatmal       --     Too Few Ratings   \n",
       "148662      MAITRI FOODS & BEVERAGES  Yavatmal       --     Too Few Ratings   \n",
       "148663                   GRILL ZILLA  Yavatmal       --     Too Few Ratings   \n",
       "\n",
       "        r_average_per_head_cost  \n",
       "0                           200  \n",
       "1                           250  \n",
       "3                           200  \n",
       "4                           150  \n",
       "5                           100  \n",
       "...                         ...  \n",
       "148659                      200  \n",
       "148660                      200  \n",
       "148661                      250  \n",
       "148662                      300  \n",
       "148663                      250  \n",
       "\n",
       "[146934 rows x 20 columns]"
      ]
     },
     "execution_count": 54,
     "metadata": {},
     "output_type": "execute_result"
    }
   ],
   "source": [
    "final_merged_df['c_gender'] = final_merged_df['c_gender'].replace({\"Male\": 1, \"Female\": 0})\n",
    "final_merged_df\n",
    "# final_merged_df[final_merged_df['c_gender']=='Female'] = 0\n",
    "# final_merged_df"
   ]
  },
  {
   "cell_type": "code",
   "execution_count": 55,
   "id": "48e2c54e",
   "metadata": {},
   "outputs": [],
   "source": [
    "final_merged_df = pd.get_dummies(final_merged_df, columns=['c_marital_status', 'c_occupation', 'c_education_level'])"
   ]
  },
  {
   "cell_type": "code",
   "execution_count": 56,
   "id": "e995abf6",
   "metadata": {},
   "outputs": [
    {
     "data": {
      "text/html": [
       "<div>\n",
       "<style scoped>\n",
       "    .dataframe tbody tr th:only-of-type {\n",
       "        vertical-align: middle;\n",
       "    }\n",
       "\n",
       "    .dataframe tbody tr th {\n",
       "        vertical-align: top;\n",
       "    }\n",
       "\n",
       "    .dataframe thead th {\n",
       "        text-align: right;\n",
       "    }\n",
       "</style>\n",
       "<table border=\"1\" class=\"dataframe\">\n",
       "  <thead>\n",
       "    <tr style=\"text-align: right;\">\n",
       "      <th></th>\n",
       "      <th>order_id</th>\n",
       "      <th>order_date</th>\n",
       "      <th>number_items_ordered</th>\n",
       "      <th>total_order_cost</th>\n",
       "      <th>currency</th>\n",
       "      <th>c_id</th>\n",
       "      <th>r_id</th>\n",
       "      <th>c_name</th>\n",
       "      <th>c_age</th>\n",
       "      <th>c_gender</th>\n",
       "      <th>c_monthly_income</th>\n",
       "      <th>c_family_size</th>\n",
       "      <th>r_name</th>\n",
       "      <th>r_city</th>\n",
       "      <th>r_rating</th>\n",
       "      <th>r_number_of_ratings</th>\n",
       "      <th>r_average_per_head_cost</th>\n",
       "      <th>c_marital_status_Married</th>\n",
       "      <th>c_marital_status_Prefer not to say</th>\n",
       "      <th>c_marital_status_Single</th>\n",
       "      <th>c_occupation_Employee</th>\n",
       "      <th>c_occupation_House wife</th>\n",
       "      <th>c_occupation_Self Employeed</th>\n",
       "      <th>c_occupation_Student</th>\n",
       "      <th>c_education_level_Graduate</th>\n",
       "      <th>c_education_level_Ph.D</th>\n",
       "      <th>c_education_level_Post Graduate</th>\n",
       "      <th>c_education_level_School</th>\n",
       "      <th>c_education_level_Uneducated</th>\n",
       "    </tr>\n",
       "  </thead>\n",
       "  <tbody>\n",
       "    <tr>\n",
       "      <th>0</th>\n",
       "      <td>0</td>\n",
       "      <td>2017-10-10</td>\n",
       "      <td>100</td>\n",
       "      <td>41241</td>\n",
       "      <td>INR</td>\n",
       "      <td>49226</td>\n",
       "      <td>567335</td>\n",
       "      <td>Teresa Garcia</td>\n",
       "      <td>27</td>\n",
       "      <td>1</td>\n",
       "      <td>25001 to 50000</td>\n",
       "      <td>6</td>\n",
       "      <td>AB FOODS POINT</td>\n",
       "      <td>Abohar</td>\n",
       "      <td>--</td>\n",
       "      <td>Too Few Ratings</td>\n",
       "      <td>200</td>\n",
       "      <td>1</td>\n",
       "      <td>0</td>\n",
       "      <td>0</td>\n",
       "      <td>0</td>\n",
       "      <td>0</td>\n",
       "      <td>1</td>\n",
       "      <td>0</td>\n",
       "      <td>1</td>\n",
       "      <td>0</td>\n",
       "      <td>0</td>\n",
       "      <td>0</td>\n",
       "      <td>0</td>\n",
       "    </tr>\n",
       "    <tr>\n",
       "      <th>1</th>\n",
       "      <td>100584</td>\n",
       "      <td>2019-03-07</td>\n",
       "      <td>1</td>\n",
       "      <td>130</td>\n",
       "      <td>INR</td>\n",
       "      <td>49226</td>\n",
       "      <td>555824</td>\n",
       "      <td>Teresa Garcia</td>\n",
       "      <td>27</td>\n",
       "      <td>1</td>\n",
       "      <td>25001 to 50000</td>\n",
       "      <td>6</td>\n",
       "      <td>Masala Kechup Amar's Kitchen</td>\n",
       "      <td>Lucknow</td>\n",
       "      <td>--</td>\n",
       "      <td>Too Few Ratings</td>\n",
       "      <td>250</td>\n",
       "      <td>1</td>\n",
       "      <td>0</td>\n",
       "      <td>0</td>\n",
       "      <td>0</td>\n",
       "      <td>0</td>\n",
       "      <td>1</td>\n",
       "      <td>0</td>\n",
       "      <td>1</td>\n",
       "      <td>0</td>\n",
       "      <td>0</td>\n",
       "      <td>0</td>\n",
       "      <td>0</td>\n",
       "    </tr>\n",
       "    <tr>\n",
       "      <th>3</th>\n",
       "      <td>112496</td>\n",
       "      <td>2020-06-08</td>\n",
       "      <td>1</td>\n",
       "      <td>236</td>\n",
       "      <td>INR</td>\n",
       "      <td>77359</td>\n",
       "      <td>349813</td>\n",
       "      <td>Dana Reeves</td>\n",
       "      <td>23</td>\n",
       "      <td>1</td>\n",
       "      <td>More than 50000</td>\n",
       "      <td>3</td>\n",
       "      <td>Henschel Ghar</td>\n",
       "      <td>Nagaon</td>\n",
       "      <td>--</td>\n",
       "      <td>Too Few Ratings</td>\n",
       "      <td>200</td>\n",
       "      <td>0</td>\n",
       "      <td>0</td>\n",
       "      <td>1</td>\n",
       "      <td>0</td>\n",
       "      <td>0</td>\n",
       "      <td>0</td>\n",
       "      <td>1</td>\n",
       "      <td>0</td>\n",
       "      <td>0</td>\n",
       "      <td>1</td>\n",
       "      <td>0</td>\n",
       "      <td>0</td>\n",
       "    </tr>\n",
       "    <tr>\n",
       "      <th>4</th>\n",
       "      <td>113376</td>\n",
       "      <td>2018-03-20</td>\n",
       "      <td>1</td>\n",
       "      <td>56</td>\n",
       "      <td>INR</td>\n",
       "      <td>77359</td>\n",
       "      <td>510814</td>\n",
       "      <td>Dana Reeves</td>\n",
       "      <td>23</td>\n",
       "      <td>1</td>\n",
       "      <td>More than 50000</td>\n",
       "      <td>3</td>\n",
       "      <td>Box 5 Cafe</td>\n",
       "      <td>Nagpur</td>\n",
       "      <td>--</td>\n",
       "      <td>Too Few Ratings</td>\n",
       "      <td>150</td>\n",
       "      <td>0</td>\n",
       "      <td>0</td>\n",
       "      <td>1</td>\n",
       "      <td>0</td>\n",
       "      <td>0</td>\n",
       "      <td>0</td>\n",
       "      <td>1</td>\n",
       "      <td>0</td>\n",
       "      <td>0</td>\n",
       "      <td>1</td>\n",
       "      <td>0</td>\n",
       "      <td>0</td>\n",
       "    </tr>\n",
       "    <tr>\n",
       "      <th>5</th>\n",
       "      <td>2</td>\n",
       "      <td>2018-04-06</td>\n",
       "      <td>1</td>\n",
       "      <td>875</td>\n",
       "      <td>INR</td>\n",
       "      <td>5321</td>\n",
       "      <td>158203</td>\n",
       "      <td>Donald Anderson</td>\n",
       "      <td>24</td>\n",
       "      <td>1</td>\n",
       "      <td>More than 50000</td>\n",
       "      <td>3</td>\n",
       "      <td>theka coffee desi</td>\n",
       "      <td>Abohar</td>\n",
       "      <td>3.8</td>\n",
       "      <td>100+ ratings</td>\n",
       "      <td>100</td>\n",
       "      <td>1</td>\n",
       "      <td>0</td>\n",
       "      <td>0</td>\n",
       "      <td>1</td>\n",
       "      <td>0</td>\n",
       "      <td>0</td>\n",
       "      <td>0</td>\n",
       "      <td>0</td>\n",
       "      <td>0</td>\n",
       "      <td>1</td>\n",
       "      <td>0</td>\n",
       "      <td>0</td>\n",
       "    </tr>\n",
       "  </tbody>\n",
       "</table>\n",
       "</div>"
      ],
      "text/plain": [
       "   order_id order_date  number_items_ordered  total_order_cost currency  \\\n",
       "0         0 2017-10-10                   100             41241      INR   \n",
       "1    100584 2019-03-07                     1               130      INR   \n",
       "3    112496 2020-06-08                     1               236      INR   \n",
       "4    113376 2018-03-20                     1                56      INR   \n",
       "5         2 2018-04-06                     1               875      INR   \n",
       "\n",
       "    c_id    r_id           c_name  c_age  c_gender c_monthly_income  \\\n",
       "0  49226  567335    Teresa Garcia     27         1   25001 to 50000   \n",
       "1  49226  555824    Teresa Garcia     27         1   25001 to 50000   \n",
       "3  77359  349813      Dana Reeves     23         1  More than 50000   \n",
       "4  77359  510814      Dana Reeves     23         1  More than 50000   \n",
       "5   5321  158203  Donald Anderson     24         1  More than 50000   \n",
       "\n",
       "   c_family_size                        r_name   r_city r_rating  \\\n",
       "0              6                AB FOODS POINT   Abohar       --   \n",
       "1              6  Masala Kechup Amar's Kitchen  Lucknow       --   \n",
       "3              3                 Henschel Ghar   Nagaon       --   \n",
       "4              3                    Box 5 Cafe   Nagpur       --   \n",
       "5              3             theka coffee desi   Abohar      3.8   \n",
       "\n",
       "  r_number_of_ratings  r_average_per_head_cost  c_marital_status_Married  \\\n",
       "0     Too Few Ratings                      200                         1   \n",
       "1     Too Few Ratings                      250                         1   \n",
       "3     Too Few Ratings                      200                         0   \n",
       "4     Too Few Ratings                      150                         0   \n",
       "5        100+ ratings                      100                         1   \n",
       "\n",
       "   c_marital_status_Prefer not to say  c_marital_status_Single  \\\n",
       "0                                   0                        0   \n",
       "1                                   0                        0   \n",
       "3                                   0                        1   \n",
       "4                                   0                        1   \n",
       "5                                   0                        0   \n",
       "\n",
       "   c_occupation_Employee  c_occupation_House wife  \\\n",
       "0                      0                        0   \n",
       "1                      0                        0   \n",
       "3                      0                        0   \n",
       "4                      0                        0   \n",
       "5                      1                        0   \n",
       "\n",
       "   c_occupation_Self Employeed  c_occupation_Student  \\\n",
       "0                            1                     0   \n",
       "1                            1                     0   \n",
       "3                            0                     1   \n",
       "4                            0                     1   \n",
       "5                            0                     0   \n",
       "\n",
       "   c_education_level_Graduate  c_education_level_Ph.D  \\\n",
       "0                           1                       0   \n",
       "1                           1                       0   \n",
       "3                           0                       0   \n",
       "4                           0                       0   \n",
       "5                           0                       0   \n",
       "\n",
       "   c_education_level_Post Graduate  c_education_level_School  \\\n",
       "0                                0                         0   \n",
       "1                                0                         0   \n",
       "3                                1                         0   \n",
       "4                                1                         0   \n",
       "5                                1                         0   \n",
       "\n",
       "   c_education_level_Uneducated  \n",
       "0                             0  \n",
       "1                             0  \n",
       "3                             0  \n",
       "4                             0  \n",
       "5                             0  "
      ]
     },
     "execution_count": 56,
     "metadata": {},
     "output_type": "execute_result"
    }
   ],
   "source": [
    "final_merged_df.head()"
   ]
  },
  {
   "cell_type": "code",
   "execution_count": 57,
   "id": "948aa946",
   "metadata": {},
   "outputs": [
    {
     "data": {
      "text/plain": [
       "No Income          70774\n",
       "25001 to 50000     26116\n",
       "More than 50000    23666\n",
       "10001 to 25000     16894\n",
       "Below Rs.10000      9484\n",
       "Name: c_monthly_income, dtype: int64"
      ]
     },
     "execution_count": 57,
     "metadata": {},
     "output_type": "execute_result"
    }
   ],
   "source": [
    "final_merged_df['c_monthly_income'].value_counts()"
   ]
  },
  {
   "cell_type": "code",
   "execution_count": 58,
   "id": "cd083017",
   "metadata": {},
   "outputs": [
    {
     "data": {
      "text/html": [
       "<div>\n",
       "<style scoped>\n",
       "    .dataframe tbody tr th:only-of-type {\n",
       "        vertical-align: middle;\n",
       "    }\n",
       "\n",
       "    .dataframe tbody tr th {\n",
       "        vertical-align: top;\n",
       "    }\n",
       "\n",
       "    .dataframe thead th {\n",
       "        text-align: right;\n",
       "    }\n",
       "</style>\n",
       "<table border=\"1\" class=\"dataframe\">\n",
       "  <thead>\n",
       "    <tr style=\"text-align: right;\">\n",
       "      <th></th>\n",
       "      <th>order_id</th>\n",
       "      <th>order_date</th>\n",
       "      <th>number_items_ordered</th>\n",
       "      <th>total_order_cost</th>\n",
       "      <th>currency</th>\n",
       "      <th>c_id</th>\n",
       "      <th>r_id</th>\n",
       "      <th>c_name</th>\n",
       "      <th>c_age</th>\n",
       "      <th>c_gender</th>\n",
       "      <th>c_monthly_income</th>\n",
       "      <th>c_family_size</th>\n",
       "      <th>r_name</th>\n",
       "      <th>r_city</th>\n",
       "      <th>r_rating</th>\n",
       "      <th>r_number_of_ratings</th>\n",
       "      <th>r_average_per_head_cost</th>\n",
       "      <th>c_marital_status_Married</th>\n",
       "      <th>c_marital_status_Prefer not to say</th>\n",
       "      <th>c_marital_status_Single</th>\n",
       "      <th>c_occupation_Employee</th>\n",
       "      <th>c_occupation_House wife</th>\n",
       "      <th>c_occupation_Self Employeed</th>\n",
       "      <th>c_occupation_Student</th>\n",
       "      <th>c_education_level_Graduate</th>\n",
       "      <th>c_education_level_Ph.D</th>\n",
       "      <th>c_education_level_Post Graduate</th>\n",
       "      <th>c_education_level_School</th>\n",
       "      <th>c_education_level_Uneducated</th>\n",
       "    </tr>\n",
       "  </thead>\n",
       "  <tbody>\n",
       "    <tr>\n",
       "      <th>5</th>\n",
       "      <td>2</td>\n",
       "      <td>2018-04-06</td>\n",
       "      <td>1</td>\n",
       "      <td>875</td>\n",
       "      <td>INR</td>\n",
       "      <td>5321</td>\n",
       "      <td>158203</td>\n",
       "      <td>Donald Anderson</td>\n",
       "      <td>24</td>\n",
       "      <td>1</td>\n",
       "      <td>More than 50000</td>\n",
       "      <td>3</td>\n",
       "      <td>theka coffee desi</td>\n",
       "      <td>Abohar</td>\n",
       "      <td>3.8</td>\n",
       "      <td>100+ ratings</td>\n",
       "      <td>100</td>\n",
       "      <td>1</td>\n",
       "      <td>0</td>\n",
       "      <td>0</td>\n",
       "      <td>1</td>\n",
       "      <td>0</td>\n",
       "      <td>0</td>\n",
       "      <td>0</td>\n",
       "      <td>0</td>\n",
       "      <td>0</td>\n",
       "      <td>1</td>\n",
       "      <td>0</td>\n",
       "      <td>0</td>\n",
       "    </tr>\n",
       "    <tr>\n",
       "      <th>6</th>\n",
       "      <td>1424</td>\n",
       "      <td>2020-03-23</td>\n",
       "      <td>8</td>\n",
       "      <td>17495</td>\n",
       "      <td>INR</td>\n",
       "      <td>5321</td>\n",
       "      <td>47241</td>\n",
       "      <td>Donald Anderson</td>\n",
       "      <td>24</td>\n",
       "      <td>1</td>\n",
       "      <td>More than 50000</td>\n",
       "      <td>3</td>\n",
       "      <td>Biskut</td>\n",
       "      <td>Ahmedabad</td>\n",
       "      <td>4.5</td>\n",
       "      <td>50+ ratings</td>\n",
       "      <td>250</td>\n",
       "      <td>1</td>\n",
       "      <td>0</td>\n",
       "      <td>0</td>\n",
       "      <td>1</td>\n",
       "      <td>0</td>\n",
       "      <td>0</td>\n",
       "      <td>0</td>\n",
       "      <td>0</td>\n",
       "      <td>0</td>\n",
       "      <td>1</td>\n",
       "      <td>0</td>\n",
       "      <td>0</td>\n",
       "    </tr>\n",
       "    <tr>\n",
       "      <th>8</th>\n",
       "      <td>3</td>\n",
       "      <td>2018-04-11</td>\n",
       "      <td>1</td>\n",
       "      <td>583</td>\n",
       "      <td>INR</td>\n",
       "      <td>21343</td>\n",
       "      <td>187912</td>\n",
       "      <td>Scott Cruz</td>\n",
       "      <td>22</td>\n",
       "      <td>1</td>\n",
       "      <td>Below Rs.10000</td>\n",
       "      <td>3</td>\n",
       "      <td>Singh Hut</td>\n",
       "      <td>Abohar</td>\n",
       "      <td>3.7</td>\n",
       "      <td>20+ ratings</td>\n",
       "      <td>250</td>\n",
       "      <td>0</td>\n",
       "      <td>0</td>\n",
       "      <td>1</td>\n",
       "      <td>0</td>\n",
       "      <td>0</td>\n",
       "      <td>0</td>\n",
       "      <td>1</td>\n",
       "      <td>0</td>\n",
       "      <td>0</td>\n",
       "      <td>1</td>\n",
       "      <td>0</td>\n",
       "      <td>0</td>\n",
       "    </tr>\n",
       "    <tr>\n",
       "      <th>15</th>\n",
       "      <td>81018</td>\n",
       "      <td>2018-05-11</td>\n",
       "      <td>51</td>\n",
       "      <td>50991</td>\n",
       "      <td>INR</td>\n",
       "      <td>33246</td>\n",
       "      <td>146339</td>\n",
       "      <td>Stephanie Robinson</td>\n",
       "      <td>24</td>\n",
       "      <td>0</td>\n",
       "      <td>25001 to 50000</td>\n",
       "      <td>2</td>\n",
       "      <td>Faasos - Wraps &amp; Rolls</td>\n",
       "      <td>Hyderabad</td>\n",
       "      <td>3.5</td>\n",
       "      <td>100+ ratings</td>\n",
       "      <td>200</td>\n",
       "      <td>0</td>\n",
       "      <td>0</td>\n",
       "      <td>1</td>\n",
       "      <td>1</td>\n",
       "      <td>0</td>\n",
       "      <td>0</td>\n",
       "      <td>0</td>\n",
       "      <td>1</td>\n",
       "      <td>0</td>\n",
       "      <td>0</td>\n",
       "      <td>0</td>\n",
       "      <td>0</td>\n",
       "    </tr>\n",
       "    <tr>\n",
       "      <th>18</th>\n",
       "      <td>8</td>\n",
       "      <td>2017-11-27</td>\n",
       "      <td>35</td>\n",
       "      <td>19213</td>\n",
       "      <td>INR</td>\n",
       "      <td>31017</td>\n",
       "      <td>156602</td>\n",
       "      <td>Donald Campbell</td>\n",
       "      <td>29</td>\n",
       "      <td>1</td>\n",
       "      <td>25001 to 50000</td>\n",
       "      <td>3</td>\n",
       "      <td>Hinglaj Kachori Bhandhar</td>\n",
       "      <td>Abohar</td>\n",
       "      <td>4.2</td>\n",
       "      <td>20+ ratings</td>\n",
       "      <td>100</td>\n",
       "      <td>0</td>\n",
       "      <td>0</td>\n",
       "      <td>1</td>\n",
       "      <td>1</td>\n",
       "      <td>0</td>\n",
       "      <td>0</td>\n",
       "      <td>0</td>\n",
       "      <td>1</td>\n",
       "      <td>0</td>\n",
       "      <td>0</td>\n",
       "      <td>0</td>\n",
       "      <td>0</td>\n",
       "    </tr>\n",
       "    <tr>\n",
       "      <th>...</th>\n",
       "      <td>...</td>\n",
       "      <td>...</td>\n",
       "      <td>...</td>\n",
       "      <td>...</td>\n",
       "      <td>...</td>\n",
       "      <td>...</td>\n",
       "      <td>...</td>\n",
       "      <td>...</td>\n",
       "      <td>...</td>\n",
       "      <td>...</td>\n",
       "      <td>...</td>\n",
       "      <td>...</td>\n",
       "      <td>...</td>\n",
       "      <td>...</td>\n",
       "      <td>...</td>\n",
       "      <td>...</td>\n",
       "      <td>...</td>\n",
       "      <td>...</td>\n",
       "      <td>...</td>\n",
       "      <td>...</td>\n",
       "      <td>...</td>\n",
       "      <td>...</td>\n",
       "      <td>...</td>\n",
       "      <td>...</td>\n",
       "      <td>...</td>\n",
       "      <td>...</td>\n",
       "      <td>...</td>\n",
       "      <td>...</td>\n",
       "      <td>...</td>\n",
       "    </tr>\n",
       "    <tr>\n",
       "      <th>148646</th>\n",
       "      <td>148459</td>\n",
       "      <td>2018-12-14</td>\n",
       "      <td>3</td>\n",
       "      <td>9838</td>\n",
       "      <td>INR</td>\n",
       "      <td>94394</td>\n",
       "      <td>389207</td>\n",
       "      <td>John Smith</td>\n",
       "      <td>18</td>\n",
       "      <td>1</td>\n",
       "      <td>No Income</td>\n",
       "      <td>5</td>\n",
       "      <td>Dau ji Sweets And Bakers</td>\n",
       "      <td>Yamuna-nagar</td>\n",
       "      <td>3.6</td>\n",
       "      <td>20+ ratings</td>\n",
       "      <td>200</td>\n",
       "      <td>0</td>\n",
       "      <td>0</td>\n",
       "      <td>1</td>\n",
       "      <td>0</td>\n",
       "      <td>0</td>\n",
       "      <td>0</td>\n",
       "      <td>1</td>\n",
       "      <td>1</td>\n",
       "      <td>0</td>\n",
       "      <td>0</td>\n",
       "      <td>0</td>\n",
       "      <td>0</td>\n",
       "    </tr>\n",
       "    <tr>\n",
       "      <th>148650</th>\n",
       "      <td>148477</td>\n",
       "      <td>2018-12-21</td>\n",
       "      <td>4</td>\n",
       "      <td>9574</td>\n",
       "      <td>INR</td>\n",
       "      <td>24832</td>\n",
       "      <td>234395</td>\n",
       "      <td>Charles Gill</td>\n",
       "      <td>23</td>\n",
       "      <td>1</td>\n",
       "      <td>No Income</td>\n",
       "      <td>5</td>\n",
       "      <td>Chiness House</td>\n",
       "      <td>Yavatmal</td>\n",
       "      <td>3.5</td>\n",
       "      <td>50+ ratings</td>\n",
       "      <td>100</td>\n",
       "      <td>0</td>\n",
       "      <td>0</td>\n",
       "      <td>1</td>\n",
       "      <td>0</td>\n",
       "      <td>0</td>\n",
       "      <td>0</td>\n",
       "      <td>1</td>\n",
       "      <td>0</td>\n",
       "      <td>0</td>\n",
       "      <td>1</td>\n",
       "      <td>0</td>\n",
       "      <td>0</td>\n",
       "    </tr>\n",
       "    <tr>\n",
       "      <th>148652</th>\n",
       "      <td>148496</td>\n",
       "      <td>2019-01-02</td>\n",
       "      <td>1</td>\n",
       "      <td>1417</td>\n",
       "      <td>INR</td>\n",
       "      <td>41204</td>\n",
       "      <td>287935</td>\n",
       "      <td>Matthew Paul</td>\n",
       "      <td>24</td>\n",
       "      <td>0</td>\n",
       "      <td>25001 to 50000</td>\n",
       "      <td>3</td>\n",
       "      <td>TULIP GARDEN AND RESTAURANT</td>\n",
       "      <td>Yavatmal</td>\n",
       "      <td>3.9</td>\n",
       "      <td>20+ ratings</td>\n",
       "      <td>200</td>\n",
       "      <td>0</td>\n",
       "      <td>0</td>\n",
       "      <td>1</td>\n",
       "      <td>0</td>\n",
       "      <td>0</td>\n",
       "      <td>0</td>\n",
       "      <td>1</td>\n",
       "      <td>0</td>\n",
       "      <td>0</td>\n",
       "      <td>1</td>\n",
       "      <td>0</td>\n",
       "      <td>0</td>\n",
       "    </tr>\n",
       "    <tr>\n",
       "      <th>148654</th>\n",
       "      <td>148500</td>\n",
       "      <td>2019-01-04</td>\n",
       "      <td>2</td>\n",
       "      <td>4245</td>\n",
       "      <td>INR</td>\n",
       "      <td>8303</td>\n",
       "      <td>185298</td>\n",
       "      <td>Jeffrey Wagner</td>\n",
       "      <td>24</td>\n",
       "      <td>0</td>\n",
       "      <td>10001 to 25000</td>\n",
       "      <td>5</td>\n",
       "      <td>Jain Varities &amp; Icecream Corner</td>\n",
       "      <td>Yavatmal</td>\n",
       "      <td>3.7</td>\n",
       "      <td>50+ ratings</td>\n",
       "      <td>150</td>\n",
       "      <td>1</td>\n",
       "      <td>0</td>\n",
       "      <td>0</td>\n",
       "      <td>0</td>\n",
       "      <td>0</td>\n",
       "      <td>1</td>\n",
       "      <td>0</td>\n",
       "      <td>1</td>\n",
       "      <td>0</td>\n",
       "      <td>0</td>\n",
       "      <td>0</td>\n",
       "      <td>0</td>\n",
       "    </tr>\n",
       "    <tr>\n",
       "      <th>148655</th>\n",
       "      <td>148503</td>\n",
       "      <td>2019-01-07</td>\n",
       "      <td>2</td>\n",
       "      <td>2065</td>\n",
       "      <td>INR</td>\n",
       "      <td>5201</td>\n",
       "      <td>140164</td>\n",
       "      <td>Danielle Shepherd</td>\n",
       "      <td>25</td>\n",
       "      <td>1</td>\n",
       "      <td>25001 to 50000</td>\n",
       "      <td>3</td>\n",
       "      <td>Ranade Bandhu</td>\n",
       "      <td>Yavatmal</td>\n",
       "      <td>4.7</td>\n",
       "      <td>20+ ratings</td>\n",
       "      <td>100</td>\n",
       "      <td>0</td>\n",
       "      <td>0</td>\n",
       "      <td>1</td>\n",
       "      <td>1</td>\n",
       "      <td>0</td>\n",
       "      <td>0</td>\n",
       "      <td>0</td>\n",
       "      <td>0</td>\n",
       "      <td>0</td>\n",
       "      <td>1</td>\n",
       "      <td>0</td>\n",
       "      <td>0</td>\n",
       "    </tr>\n",
       "  </tbody>\n",
       "</table>\n",
       "<p>60857 rows × 29 columns</p>\n",
       "</div>"
      ],
      "text/plain": [
       "        order_id order_date  number_items_ordered  total_order_cost currency  \\\n",
       "5              2 2018-04-06                     1               875      INR   \n",
       "6           1424 2020-03-23                     8             17495      INR   \n",
       "8              3 2018-04-11                     1               583      INR   \n",
       "15         81018 2018-05-11                    51             50991      INR   \n",
       "18             8 2017-11-27                    35             19213      INR   \n",
       "...          ...        ...                   ...               ...      ...   \n",
       "148646    148459 2018-12-14                     3              9838      INR   \n",
       "148650    148477 2018-12-21                     4              9574      INR   \n",
       "148652    148496 2019-01-02                     1              1417      INR   \n",
       "148654    148500 2019-01-04                     2              4245      INR   \n",
       "148655    148503 2019-01-07                     2              2065      INR   \n",
       "\n",
       "         c_id    r_id              c_name  c_age  c_gender c_monthly_income  \\\n",
       "5        5321  158203     Donald Anderson     24         1  More than 50000   \n",
       "6        5321   47241     Donald Anderson     24         1  More than 50000   \n",
       "8       21343  187912          Scott Cruz     22         1   Below Rs.10000   \n",
       "15      33246  146339  Stephanie Robinson     24         0   25001 to 50000   \n",
       "18      31017  156602     Donald Campbell     29         1   25001 to 50000   \n",
       "...       ...     ...                 ...    ...       ...              ...   \n",
       "148646  94394  389207          John Smith     18         1        No Income   \n",
       "148650  24832  234395        Charles Gill     23         1        No Income   \n",
       "148652  41204  287935        Matthew Paul     24         0   25001 to 50000   \n",
       "148654   8303  185298      Jeffrey Wagner     24         0   10001 to 25000   \n",
       "148655   5201  140164   Danielle Shepherd     25         1   25001 to 50000   \n",
       "\n",
       "        c_family_size                           r_name        r_city  \\\n",
       "5                   3                theka coffee desi        Abohar   \n",
       "6                   3                           Biskut     Ahmedabad   \n",
       "8                   3                        Singh Hut        Abohar   \n",
       "15                  2           Faasos - Wraps & Rolls     Hyderabad   \n",
       "18                  3         Hinglaj Kachori Bhandhar        Abohar   \n",
       "...               ...                              ...           ...   \n",
       "148646              5         Dau ji Sweets And Bakers  Yamuna-nagar   \n",
       "148650              5                    Chiness House      Yavatmal   \n",
       "148652              3      TULIP GARDEN AND RESTAURANT      Yavatmal   \n",
       "148654              5  Jain Varities & Icecream Corner      Yavatmal   \n",
       "148655              3                    Ranade Bandhu      Yavatmal   \n",
       "\n",
       "        r_rating r_number_of_ratings  r_average_per_head_cost  \\\n",
       "5            3.8        100+ ratings                      100   \n",
       "6            4.5         50+ ratings                      250   \n",
       "8            3.7         20+ ratings                      250   \n",
       "15           3.5        100+ ratings                      200   \n",
       "18           4.2         20+ ratings                      100   \n",
       "...          ...                 ...                      ...   \n",
       "148646       3.6         20+ ratings                      200   \n",
       "148650       3.5         50+ ratings                      100   \n",
       "148652       3.9         20+ ratings                      200   \n",
       "148654       3.7         50+ ratings                      150   \n",
       "148655       4.7         20+ ratings                      100   \n",
       "\n",
       "        c_marital_status_Married  c_marital_status_Prefer not to say  \\\n",
       "5                              1                                   0   \n",
       "6                              1                                   0   \n",
       "8                              0                                   0   \n",
       "15                             0                                   0   \n",
       "18                             0                                   0   \n",
       "...                          ...                                 ...   \n",
       "148646                         0                                   0   \n",
       "148650                         0                                   0   \n",
       "148652                         0                                   0   \n",
       "148654                         1                                   0   \n",
       "148655                         0                                   0   \n",
       "\n",
       "        c_marital_status_Single  c_occupation_Employee  \\\n",
       "5                             0                      1   \n",
       "6                             0                      1   \n",
       "8                             1                      0   \n",
       "15                            1                      1   \n",
       "18                            1                      1   \n",
       "...                         ...                    ...   \n",
       "148646                        1                      0   \n",
       "148650                        1                      0   \n",
       "148652                        1                      0   \n",
       "148654                        0                      0   \n",
       "148655                        1                      1   \n",
       "\n",
       "        c_occupation_House wife  c_occupation_Self Employeed  \\\n",
       "5                             0                            0   \n",
       "6                             0                            0   \n",
       "8                             0                            0   \n",
       "15                            0                            0   \n",
       "18                            0                            0   \n",
       "...                         ...                          ...   \n",
       "148646                        0                            0   \n",
       "148650                        0                            0   \n",
       "148652                        0                            0   \n",
       "148654                        0                            1   \n",
       "148655                        0                            0   \n",
       "\n",
       "        c_occupation_Student  c_education_level_Graduate  \\\n",
       "5                          0                           0   \n",
       "6                          0                           0   \n",
       "8                          1                           0   \n",
       "15                         0                           1   \n",
       "18                         0                           1   \n",
       "...                      ...                         ...   \n",
       "148646                     1                           1   \n",
       "148650                     1                           0   \n",
       "148652                     1                           0   \n",
       "148654                     0                           1   \n",
       "148655                     0                           0   \n",
       "\n",
       "        c_education_level_Ph.D  c_education_level_Post Graduate  \\\n",
       "5                            0                                1   \n",
       "6                            0                                1   \n",
       "8                            0                                1   \n",
       "15                           0                                0   \n",
       "18                           0                                0   \n",
       "...                        ...                              ...   \n",
       "148646                       0                                0   \n",
       "148650                       0                                1   \n",
       "148652                       0                                1   \n",
       "148654                       0                                0   \n",
       "148655                       0                                1   \n",
       "\n",
       "        c_education_level_School  c_education_level_Uneducated  \n",
       "5                              0                             0  \n",
       "6                              0                             0  \n",
       "8                              0                             0  \n",
       "15                             0                             0  \n",
       "18                             0                             0  \n",
       "...                          ...                           ...  \n",
       "148646                         0                             0  \n",
       "148650                         0                             0  \n",
       "148652                         0                             0  \n",
       "148654                         0                             0  \n",
       "148655                         0                             0  \n",
       "\n",
       "[60857 rows x 29 columns]"
      ]
     },
     "execution_count": 58,
     "metadata": {},
     "output_type": "execute_result"
    }
   ],
   "source": [
    "final_merged_df = final_merged_df[final_merged_df['r_rating'] != '--']\n",
    "final_merged_df['r_rating'] = pd.to_numeric(final_merged_df['r_rating'])\n",
    "final_merged_df"
   ]
  },
  {
   "cell_type": "code",
   "execution_count": 59,
   "id": "07142b67",
   "metadata": {},
   "outputs": [
    {
     "data": {
      "text/plain": [
       "20+ ratings     21437\n",
       "100+ ratings    20352\n",
       "50+ ratings     11893\n",
       "500+ ratings     4360\n",
       "1K+ ratings      2703\n",
       "5K+ ratings        97\n",
       "10K+ ratings       15\n",
       "Name: r_number_of_ratings, dtype: int64"
      ]
     },
     "execution_count": 59,
     "metadata": {},
     "output_type": "execute_result"
    }
   ],
   "source": [
    "final_merged_df['r_number_of_ratings'].value_counts()"
   ]
  },
  {
   "cell_type": "code",
   "execution_count": 60,
   "id": "946e6ddf",
   "metadata": {},
   "outputs": [],
   "source": [
    "final_merged_df.loc[(final_merged_df.r_number_of_ratings == '20+ ratings'),'r_number_of_ratings']= 20\n",
    "final_merged_df.loc[(final_merged_df.r_number_of_ratings == '50+ ratings'),'r_number_of_ratings']= 50\n",
    "final_merged_df.loc[(final_merged_df.r_number_of_ratings == '100+ ratings'),'r_number_of_ratings']=100\n",
    "final_merged_df.loc[(final_merged_df.r_number_of_ratings == '500+ ratings'),'r_number_of_ratings']=500\n",
    "final_merged_df.loc[(final_merged_df.r_number_of_ratings == '1K+ ratings'),'r_number_of_ratings']= 1000\n",
    "final_merged_df.loc[(final_merged_df.r_number_of_ratings == '5K+ ratings'),'r_number_of_ratings']= 5000\n",
    "final_merged_df.loc[(final_merged_df.r_number_of_ratings == '10K+ ratings'),'r_number_of_ratings']= 10000\n",
    "\n",
    "\n",
    "final_merged_df.loc[(final_merged_df.c_monthly_income == 'No Income'),'c_monthly_income']=0\n",
    "final_merged_df.loc[(final_merged_df.c_monthly_income == 'Below Rs.10000'),'c_monthly_income']=5000\n",
    "final_merged_df.loc[(final_merged_df.c_monthly_income == '10001 to 25000'),'c_monthly_income']=17500\n",
    "final_merged_df.loc[(final_merged_df.c_monthly_income == '25001 to 50000'),'c_monthly_income']=37500\n",
    "final_merged_df.loc[(final_merged_df.c_monthly_income == 'More than 50000'),'c_monthly_income']=65000"
   ]
  },
  {
   "cell_type": "code",
   "execution_count": 61,
   "id": "b6319277",
   "metadata": {},
   "outputs": [
    {
     "data": {
      "text/html": [
       "<div>\n",
       "<style scoped>\n",
       "    .dataframe tbody tr th:only-of-type {\n",
       "        vertical-align: middle;\n",
       "    }\n",
       "\n",
       "    .dataframe tbody tr th {\n",
       "        vertical-align: top;\n",
       "    }\n",
       "\n",
       "    .dataframe thead th {\n",
       "        text-align: right;\n",
       "    }\n",
       "</style>\n",
       "<table border=\"1\" class=\"dataframe\">\n",
       "  <thead>\n",
       "    <tr style=\"text-align: right;\">\n",
       "      <th></th>\n",
       "      <th>order_id</th>\n",
       "      <th>order_date</th>\n",
       "      <th>number_items_ordered</th>\n",
       "      <th>total_order_cost</th>\n",
       "      <th>currency</th>\n",
       "      <th>c_id</th>\n",
       "      <th>r_id</th>\n",
       "      <th>c_name</th>\n",
       "      <th>c_age</th>\n",
       "      <th>c_gender</th>\n",
       "      <th>c_monthly_income</th>\n",
       "      <th>c_family_size</th>\n",
       "      <th>r_name</th>\n",
       "      <th>r_city</th>\n",
       "      <th>r_rating</th>\n",
       "      <th>r_number_of_ratings</th>\n",
       "      <th>r_average_per_head_cost</th>\n",
       "      <th>c_marital_status_Married</th>\n",
       "      <th>c_marital_status_Prefer not to say</th>\n",
       "      <th>c_marital_status_Single</th>\n",
       "      <th>c_occupation_Employee</th>\n",
       "      <th>c_occupation_House wife</th>\n",
       "      <th>c_occupation_Self Employeed</th>\n",
       "      <th>c_occupation_Student</th>\n",
       "      <th>c_education_level_Graduate</th>\n",
       "      <th>c_education_level_Ph.D</th>\n",
       "      <th>c_education_level_Post Graduate</th>\n",
       "      <th>c_education_level_School</th>\n",
       "      <th>c_education_level_Uneducated</th>\n",
       "    </tr>\n",
       "  </thead>\n",
       "  <tbody>\n",
       "    <tr>\n",
       "      <th>5</th>\n",
       "      <td>2</td>\n",
       "      <td>2018-04-06</td>\n",
       "      <td>1</td>\n",
       "      <td>875</td>\n",
       "      <td>INR</td>\n",
       "      <td>5321</td>\n",
       "      <td>158203</td>\n",
       "      <td>Donald Anderson</td>\n",
       "      <td>24</td>\n",
       "      <td>1</td>\n",
       "      <td>65000</td>\n",
       "      <td>3</td>\n",
       "      <td>theka coffee desi</td>\n",
       "      <td>Abohar</td>\n",
       "      <td>3.8</td>\n",
       "      <td>100</td>\n",
       "      <td>100</td>\n",
       "      <td>1</td>\n",
       "      <td>0</td>\n",
       "      <td>0</td>\n",
       "      <td>1</td>\n",
       "      <td>0</td>\n",
       "      <td>0</td>\n",
       "      <td>0</td>\n",
       "      <td>0</td>\n",
       "      <td>0</td>\n",
       "      <td>1</td>\n",
       "      <td>0</td>\n",
       "      <td>0</td>\n",
       "    </tr>\n",
       "    <tr>\n",
       "      <th>6</th>\n",
       "      <td>1424</td>\n",
       "      <td>2020-03-23</td>\n",
       "      <td>8</td>\n",
       "      <td>17495</td>\n",
       "      <td>INR</td>\n",
       "      <td>5321</td>\n",
       "      <td>47241</td>\n",
       "      <td>Donald Anderson</td>\n",
       "      <td>24</td>\n",
       "      <td>1</td>\n",
       "      <td>65000</td>\n",
       "      <td>3</td>\n",
       "      <td>Biskut</td>\n",
       "      <td>Ahmedabad</td>\n",
       "      <td>4.5</td>\n",
       "      <td>50</td>\n",
       "      <td>250</td>\n",
       "      <td>1</td>\n",
       "      <td>0</td>\n",
       "      <td>0</td>\n",
       "      <td>1</td>\n",
       "      <td>0</td>\n",
       "      <td>0</td>\n",
       "      <td>0</td>\n",
       "      <td>0</td>\n",
       "      <td>0</td>\n",
       "      <td>1</td>\n",
       "      <td>0</td>\n",
       "      <td>0</td>\n",
       "    </tr>\n",
       "    <tr>\n",
       "      <th>8</th>\n",
       "      <td>3</td>\n",
       "      <td>2018-04-11</td>\n",
       "      <td>1</td>\n",
       "      <td>583</td>\n",
       "      <td>INR</td>\n",
       "      <td>21343</td>\n",
       "      <td>187912</td>\n",
       "      <td>Scott Cruz</td>\n",
       "      <td>22</td>\n",
       "      <td>1</td>\n",
       "      <td>5000</td>\n",
       "      <td>3</td>\n",
       "      <td>Singh Hut</td>\n",
       "      <td>Abohar</td>\n",
       "      <td>3.7</td>\n",
       "      <td>20</td>\n",
       "      <td>250</td>\n",
       "      <td>0</td>\n",
       "      <td>0</td>\n",
       "      <td>1</td>\n",
       "      <td>0</td>\n",
       "      <td>0</td>\n",
       "      <td>0</td>\n",
       "      <td>1</td>\n",
       "      <td>0</td>\n",
       "      <td>0</td>\n",
       "      <td>1</td>\n",
       "      <td>0</td>\n",
       "      <td>0</td>\n",
       "    </tr>\n",
       "    <tr>\n",
       "      <th>15</th>\n",
       "      <td>81018</td>\n",
       "      <td>2018-05-11</td>\n",
       "      <td>51</td>\n",
       "      <td>50991</td>\n",
       "      <td>INR</td>\n",
       "      <td>33246</td>\n",
       "      <td>146339</td>\n",
       "      <td>Stephanie Robinson</td>\n",
       "      <td>24</td>\n",
       "      <td>0</td>\n",
       "      <td>37500</td>\n",
       "      <td>2</td>\n",
       "      <td>Faasos - Wraps &amp; Rolls</td>\n",
       "      <td>Hyderabad</td>\n",
       "      <td>3.5</td>\n",
       "      <td>100</td>\n",
       "      <td>200</td>\n",
       "      <td>0</td>\n",
       "      <td>0</td>\n",
       "      <td>1</td>\n",
       "      <td>1</td>\n",
       "      <td>0</td>\n",
       "      <td>0</td>\n",
       "      <td>0</td>\n",
       "      <td>1</td>\n",
       "      <td>0</td>\n",
       "      <td>0</td>\n",
       "      <td>0</td>\n",
       "      <td>0</td>\n",
       "    </tr>\n",
       "    <tr>\n",
       "      <th>18</th>\n",
       "      <td>8</td>\n",
       "      <td>2017-11-27</td>\n",
       "      <td>35</td>\n",
       "      <td>19213</td>\n",
       "      <td>INR</td>\n",
       "      <td>31017</td>\n",
       "      <td>156602</td>\n",
       "      <td>Donald Campbell</td>\n",
       "      <td>29</td>\n",
       "      <td>1</td>\n",
       "      <td>37500</td>\n",
       "      <td>3</td>\n",
       "      <td>Hinglaj Kachori Bhandhar</td>\n",
       "      <td>Abohar</td>\n",
       "      <td>4.2</td>\n",
       "      <td>20</td>\n",
       "      <td>100</td>\n",
       "      <td>0</td>\n",
       "      <td>0</td>\n",
       "      <td>1</td>\n",
       "      <td>1</td>\n",
       "      <td>0</td>\n",
       "      <td>0</td>\n",
       "      <td>0</td>\n",
       "      <td>1</td>\n",
       "      <td>0</td>\n",
       "      <td>0</td>\n",
       "      <td>0</td>\n",
       "      <td>0</td>\n",
       "    </tr>\n",
       "    <tr>\n",
       "      <th>...</th>\n",
       "      <td>...</td>\n",
       "      <td>...</td>\n",
       "      <td>...</td>\n",
       "      <td>...</td>\n",
       "      <td>...</td>\n",
       "      <td>...</td>\n",
       "      <td>...</td>\n",
       "      <td>...</td>\n",
       "      <td>...</td>\n",
       "      <td>...</td>\n",
       "      <td>...</td>\n",
       "      <td>...</td>\n",
       "      <td>...</td>\n",
       "      <td>...</td>\n",
       "      <td>...</td>\n",
       "      <td>...</td>\n",
       "      <td>...</td>\n",
       "      <td>...</td>\n",
       "      <td>...</td>\n",
       "      <td>...</td>\n",
       "      <td>...</td>\n",
       "      <td>...</td>\n",
       "      <td>...</td>\n",
       "      <td>...</td>\n",
       "      <td>...</td>\n",
       "      <td>...</td>\n",
       "      <td>...</td>\n",
       "      <td>...</td>\n",
       "      <td>...</td>\n",
       "    </tr>\n",
       "    <tr>\n",
       "      <th>148646</th>\n",
       "      <td>148459</td>\n",
       "      <td>2018-12-14</td>\n",
       "      <td>3</td>\n",
       "      <td>9838</td>\n",
       "      <td>INR</td>\n",
       "      <td>94394</td>\n",
       "      <td>389207</td>\n",
       "      <td>John Smith</td>\n",
       "      <td>18</td>\n",
       "      <td>1</td>\n",
       "      <td>0</td>\n",
       "      <td>5</td>\n",
       "      <td>Dau ji Sweets And Bakers</td>\n",
       "      <td>Yamuna-nagar</td>\n",
       "      <td>3.6</td>\n",
       "      <td>20</td>\n",
       "      <td>200</td>\n",
       "      <td>0</td>\n",
       "      <td>0</td>\n",
       "      <td>1</td>\n",
       "      <td>0</td>\n",
       "      <td>0</td>\n",
       "      <td>0</td>\n",
       "      <td>1</td>\n",
       "      <td>1</td>\n",
       "      <td>0</td>\n",
       "      <td>0</td>\n",
       "      <td>0</td>\n",
       "      <td>0</td>\n",
       "    </tr>\n",
       "    <tr>\n",
       "      <th>148650</th>\n",
       "      <td>148477</td>\n",
       "      <td>2018-12-21</td>\n",
       "      <td>4</td>\n",
       "      <td>9574</td>\n",
       "      <td>INR</td>\n",
       "      <td>24832</td>\n",
       "      <td>234395</td>\n",
       "      <td>Charles Gill</td>\n",
       "      <td>23</td>\n",
       "      <td>1</td>\n",
       "      <td>0</td>\n",
       "      <td>5</td>\n",
       "      <td>Chiness House</td>\n",
       "      <td>Yavatmal</td>\n",
       "      <td>3.5</td>\n",
       "      <td>50</td>\n",
       "      <td>100</td>\n",
       "      <td>0</td>\n",
       "      <td>0</td>\n",
       "      <td>1</td>\n",
       "      <td>0</td>\n",
       "      <td>0</td>\n",
       "      <td>0</td>\n",
       "      <td>1</td>\n",
       "      <td>0</td>\n",
       "      <td>0</td>\n",
       "      <td>1</td>\n",
       "      <td>0</td>\n",
       "      <td>0</td>\n",
       "    </tr>\n",
       "    <tr>\n",
       "      <th>148652</th>\n",
       "      <td>148496</td>\n",
       "      <td>2019-01-02</td>\n",
       "      <td>1</td>\n",
       "      <td>1417</td>\n",
       "      <td>INR</td>\n",
       "      <td>41204</td>\n",
       "      <td>287935</td>\n",
       "      <td>Matthew Paul</td>\n",
       "      <td>24</td>\n",
       "      <td>0</td>\n",
       "      <td>37500</td>\n",
       "      <td>3</td>\n",
       "      <td>TULIP GARDEN AND RESTAURANT</td>\n",
       "      <td>Yavatmal</td>\n",
       "      <td>3.9</td>\n",
       "      <td>20</td>\n",
       "      <td>200</td>\n",
       "      <td>0</td>\n",
       "      <td>0</td>\n",
       "      <td>1</td>\n",
       "      <td>0</td>\n",
       "      <td>0</td>\n",
       "      <td>0</td>\n",
       "      <td>1</td>\n",
       "      <td>0</td>\n",
       "      <td>0</td>\n",
       "      <td>1</td>\n",
       "      <td>0</td>\n",
       "      <td>0</td>\n",
       "    </tr>\n",
       "    <tr>\n",
       "      <th>148654</th>\n",
       "      <td>148500</td>\n",
       "      <td>2019-01-04</td>\n",
       "      <td>2</td>\n",
       "      <td>4245</td>\n",
       "      <td>INR</td>\n",
       "      <td>8303</td>\n",
       "      <td>185298</td>\n",
       "      <td>Jeffrey Wagner</td>\n",
       "      <td>24</td>\n",
       "      <td>0</td>\n",
       "      <td>17500</td>\n",
       "      <td>5</td>\n",
       "      <td>Jain Varities &amp; Icecream Corner</td>\n",
       "      <td>Yavatmal</td>\n",
       "      <td>3.7</td>\n",
       "      <td>50</td>\n",
       "      <td>150</td>\n",
       "      <td>1</td>\n",
       "      <td>0</td>\n",
       "      <td>0</td>\n",
       "      <td>0</td>\n",
       "      <td>0</td>\n",
       "      <td>1</td>\n",
       "      <td>0</td>\n",
       "      <td>1</td>\n",
       "      <td>0</td>\n",
       "      <td>0</td>\n",
       "      <td>0</td>\n",
       "      <td>0</td>\n",
       "    </tr>\n",
       "    <tr>\n",
       "      <th>148655</th>\n",
       "      <td>148503</td>\n",
       "      <td>2019-01-07</td>\n",
       "      <td>2</td>\n",
       "      <td>2065</td>\n",
       "      <td>INR</td>\n",
       "      <td>5201</td>\n",
       "      <td>140164</td>\n",
       "      <td>Danielle Shepherd</td>\n",
       "      <td>25</td>\n",
       "      <td>1</td>\n",
       "      <td>37500</td>\n",
       "      <td>3</td>\n",
       "      <td>Ranade Bandhu</td>\n",
       "      <td>Yavatmal</td>\n",
       "      <td>4.7</td>\n",
       "      <td>20</td>\n",
       "      <td>100</td>\n",
       "      <td>0</td>\n",
       "      <td>0</td>\n",
       "      <td>1</td>\n",
       "      <td>1</td>\n",
       "      <td>0</td>\n",
       "      <td>0</td>\n",
       "      <td>0</td>\n",
       "      <td>0</td>\n",
       "      <td>0</td>\n",
       "      <td>1</td>\n",
       "      <td>0</td>\n",
       "      <td>0</td>\n",
       "    </tr>\n",
       "  </tbody>\n",
       "</table>\n",
       "<p>60857 rows × 29 columns</p>\n",
       "</div>"
      ],
      "text/plain": [
       "        order_id order_date  number_items_ordered  total_order_cost currency  \\\n",
       "5              2 2018-04-06                     1               875      INR   \n",
       "6           1424 2020-03-23                     8             17495      INR   \n",
       "8              3 2018-04-11                     1               583      INR   \n",
       "15         81018 2018-05-11                    51             50991      INR   \n",
       "18             8 2017-11-27                    35             19213      INR   \n",
       "...          ...        ...                   ...               ...      ...   \n",
       "148646    148459 2018-12-14                     3              9838      INR   \n",
       "148650    148477 2018-12-21                     4              9574      INR   \n",
       "148652    148496 2019-01-02                     1              1417      INR   \n",
       "148654    148500 2019-01-04                     2              4245      INR   \n",
       "148655    148503 2019-01-07                     2              2065      INR   \n",
       "\n",
       "         c_id    r_id              c_name  c_age  c_gender c_monthly_income  \\\n",
       "5        5321  158203     Donald Anderson     24         1            65000   \n",
       "6        5321   47241     Donald Anderson     24         1            65000   \n",
       "8       21343  187912          Scott Cruz     22         1             5000   \n",
       "15      33246  146339  Stephanie Robinson     24         0            37500   \n",
       "18      31017  156602     Donald Campbell     29         1            37500   \n",
       "...       ...     ...                 ...    ...       ...              ...   \n",
       "148646  94394  389207          John Smith     18         1                0   \n",
       "148650  24832  234395        Charles Gill     23         1                0   \n",
       "148652  41204  287935        Matthew Paul     24         0            37500   \n",
       "148654   8303  185298      Jeffrey Wagner     24         0            17500   \n",
       "148655   5201  140164   Danielle Shepherd     25         1            37500   \n",
       "\n",
       "        c_family_size                           r_name        r_city  \\\n",
       "5                   3                theka coffee desi        Abohar   \n",
       "6                   3                           Biskut     Ahmedabad   \n",
       "8                   3                        Singh Hut        Abohar   \n",
       "15                  2           Faasos - Wraps & Rolls     Hyderabad   \n",
       "18                  3         Hinglaj Kachori Bhandhar        Abohar   \n",
       "...               ...                              ...           ...   \n",
       "148646              5         Dau ji Sweets And Bakers  Yamuna-nagar   \n",
       "148650              5                    Chiness House      Yavatmal   \n",
       "148652              3      TULIP GARDEN AND RESTAURANT      Yavatmal   \n",
       "148654              5  Jain Varities & Icecream Corner      Yavatmal   \n",
       "148655              3                    Ranade Bandhu      Yavatmal   \n",
       "\n",
       "        r_rating r_number_of_ratings  r_average_per_head_cost  \\\n",
       "5            3.8                 100                      100   \n",
       "6            4.5                  50                      250   \n",
       "8            3.7                  20                      250   \n",
       "15           3.5                 100                      200   \n",
       "18           4.2                  20                      100   \n",
       "...          ...                 ...                      ...   \n",
       "148646       3.6                  20                      200   \n",
       "148650       3.5                  50                      100   \n",
       "148652       3.9                  20                      200   \n",
       "148654       3.7                  50                      150   \n",
       "148655       4.7                  20                      100   \n",
       "\n",
       "        c_marital_status_Married  c_marital_status_Prefer not to say  \\\n",
       "5                              1                                   0   \n",
       "6                              1                                   0   \n",
       "8                              0                                   0   \n",
       "15                             0                                   0   \n",
       "18                             0                                   0   \n",
       "...                          ...                                 ...   \n",
       "148646                         0                                   0   \n",
       "148650                         0                                   0   \n",
       "148652                         0                                   0   \n",
       "148654                         1                                   0   \n",
       "148655                         0                                   0   \n",
       "\n",
       "        c_marital_status_Single  c_occupation_Employee  \\\n",
       "5                             0                      1   \n",
       "6                             0                      1   \n",
       "8                             1                      0   \n",
       "15                            1                      1   \n",
       "18                            1                      1   \n",
       "...                         ...                    ...   \n",
       "148646                        1                      0   \n",
       "148650                        1                      0   \n",
       "148652                        1                      0   \n",
       "148654                        0                      0   \n",
       "148655                        1                      1   \n",
       "\n",
       "        c_occupation_House wife  c_occupation_Self Employeed  \\\n",
       "5                             0                            0   \n",
       "6                             0                            0   \n",
       "8                             0                            0   \n",
       "15                            0                            0   \n",
       "18                            0                            0   \n",
       "...                         ...                          ...   \n",
       "148646                        0                            0   \n",
       "148650                        0                            0   \n",
       "148652                        0                            0   \n",
       "148654                        0                            1   \n",
       "148655                        0                            0   \n",
       "\n",
       "        c_occupation_Student  c_education_level_Graduate  \\\n",
       "5                          0                           0   \n",
       "6                          0                           0   \n",
       "8                          1                           0   \n",
       "15                         0                           1   \n",
       "18                         0                           1   \n",
       "...                      ...                         ...   \n",
       "148646                     1                           1   \n",
       "148650                     1                           0   \n",
       "148652                     1                           0   \n",
       "148654                     0                           1   \n",
       "148655                     0                           0   \n",
       "\n",
       "        c_education_level_Ph.D  c_education_level_Post Graduate  \\\n",
       "5                            0                                1   \n",
       "6                            0                                1   \n",
       "8                            0                                1   \n",
       "15                           0                                0   \n",
       "18                           0                                0   \n",
       "...                        ...                              ...   \n",
       "148646                       0                                0   \n",
       "148650                       0                                1   \n",
       "148652                       0                                1   \n",
       "148654                       0                                0   \n",
       "148655                       0                                1   \n",
       "\n",
       "        c_education_level_School  c_education_level_Uneducated  \n",
       "5                              0                             0  \n",
       "6                              0                             0  \n",
       "8                              0                             0  \n",
       "15                             0                             0  \n",
       "18                             0                             0  \n",
       "...                          ...                           ...  \n",
       "148646                         0                             0  \n",
       "148650                         0                             0  \n",
       "148652                         0                             0  \n",
       "148654                         0                             0  \n",
       "148655                         0                             0  \n",
       "\n",
       "[60857 rows x 29 columns]"
      ]
     },
     "execution_count": 61,
     "metadata": {},
     "output_type": "execute_result"
    }
   ],
   "source": [
    "final_merged_df"
   ]
  },
  {
   "cell_type": "code",
   "execution_count": 62,
   "id": "8f64cadc",
   "metadata": {},
   "outputs": [
    {
     "data": {
      "text/plain": [
       "order_id                                       int64\n",
       "order_date                            datetime64[ns]\n",
       "number_items_ordered                           int64\n",
       "total_order_cost                               int64\n",
       "currency                                      object\n",
       "c_id                                           int64\n",
       "r_id                                           int64\n",
       "c_name                                        object\n",
       "c_age                                          int64\n",
       "c_gender                                       int64\n",
       "c_monthly_income                              object\n",
       "c_family_size                                  int64\n",
       "r_name                                        object\n",
       "r_city                                        object\n",
       "r_rating                                     float64\n",
       "r_number_of_ratings                           object\n",
       "r_average_per_head_cost                        int64\n",
       "c_marital_status_Married                       uint8\n",
       "c_marital_status_Prefer not to say             uint8\n",
       "c_marital_status_Single                        uint8\n",
       "c_occupation_Employee                          uint8\n",
       "c_occupation_House wife                        uint8\n",
       "c_occupation_Self Employeed                    uint8\n",
       "c_occupation_Student                           uint8\n",
       "c_education_level_Graduate                     uint8\n",
       "c_education_level_Ph.D                         uint8\n",
       "c_education_level_Post Graduate                uint8\n",
       "c_education_level_School                       uint8\n",
       "c_education_level_Uneducated                   uint8\n",
       "dtype: object"
      ]
     },
     "execution_count": 62,
     "metadata": {},
     "output_type": "execute_result"
    }
   ],
   "source": [
    "final_merged_df.dtypes"
   ]
  },
  {
   "cell_type": "code",
   "execution_count": 79,
   "id": "768079bd",
   "metadata": {},
   "outputs": [
    {
     "data": {
      "text/plain": [
       "200    14894\n",
       "300    11313\n",
       "250     8326\n",
       "400     5751\n",
       "150     4972\n",
       "       ...  \n",
       "703        1\n",
       "590        1\n",
       "224        1\n",
       "289        1\n",
       "501        1\n",
       "Name: r_average_per_head_cost, Length: 219, dtype: int64"
      ]
     },
     "execution_count": 79,
     "metadata": {},
     "output_type": "execute_result"
    }
   ],
   "source": [
    "final_merged_df['r_average_per_head_cost'].value_counts()"
   ]
  },
  {
   "cell_type": "code",
   "execution_count": 63,
   "id": "d0ba032e",
   "metadata": {},
   "outputs": [
    {
     "data": {
      "text/html": [
       "<div>\n",
       "<style scoped>\n",
       "    .dataframe tbody tr th:only-of-type {\n",
       "        vertical-align: middle;\n",
       "    }\n",
       "\n",
       "    .dataframe tbody tr th {\n",
       "        vertical-align: top;\n",
       "    }\n",
       "\n",
       "    .dataframe thead th {\n",
       "        text-align: right;\n",
       "    }\n",
       "</style>\n",
       "<table border=\"1\" class=\"dataframe\">\n",
       "  <thead>\n",
       "    <tr style=\"text-align: right;\">\n",
       "      <th></th>\n",
       "      <th>order_id</th>\n",
       "      <th>order_date</th>\n",
       "      <th>number_items_ordered</th>\n",
       "      <th>total_order_cost</th>\n",
       "      <th>currency</th>\n",
       "      <th>c_id</th>\n",
       "      <th>r_id</th>\n",
       "      <th>c_name</th>\n",
       "      <th>c_age</th>\n",
       "      <th>c_gender</th>\n",
       "      <th>c_monthly_income</th>\n",
       "      <th>c_family_size</th>\n",
       "      <th>r_name</th>\n",
       "      <th>r_city</th>\n",
       "      <th>r_rating</th>\n",
       "      <th>r_number_of_ratings</th>\n",
       "      <th>r_average_per_head_cost</th>\n",
       "      <th>c_marital_status_Married</th>\n",
       "      <th>c_marital_status_Prefer not to say</th>\n",
       "      <th>c_marital_status_Single</th>\n",
       "      <th>c_occupation_Employee</th>\n",
       "      <th>c_occupation_House wife</th>\n",
       "      <th>c_occupation_Self Employeed</th>\n",
       "      <th>c_occupation_Student</th>\n",
       "      <th>c_education_level_Graduate</th>\n",
       "      <th>c_education_level_Ph.D</th>\n",
       "      <th>c_education_level_Post Graduate</th>\n",
       "      <th>c_education_level_School</th>\n",
       "      <th>c_education_level_Uneducated</th>\n",
       "    </tr>\n",
       "  </thead>\n",
       "  <tbody>\n",
       "    <tr>\n",
       "      <th>5</th>\n",
       "      <td>2</td>\n",
       "      <td>2018-04-06</td>\n",
       "      <td>1</td>\n",
       "      <td>875</td>\n",
       "      <td>INR</td>\n",
       "      <td>5321</td>\n",
       "      <td>158203</td>\n",
       "      <td>Donald Anderson</td>\n",
       "      <td>24</td>\n",
       "      <td>1</td>\n",
       "      <td>65000</td>\n",
       "      <td>3</td>\n",
       "      <td>theka coffee desi</td>\n",
       "      <td>Abohar</td>\n",
       "      <td>3.8</td>\n",
       "      <td>100</td>\n",
       "      <td>100</td>\n",
       "      <td>1</td>\n",
       "      <td>0</td>\n",
       "      <td>0</td>\n",
       "      <td>1</td>\n",
       "      <td>0</td>\n",
       "      <td>0</td>\n",
       "      <td>0</td>\n",
       "      <td>0</td>\n",
       "      <td>0</td>\n",
       "      <td>1</td>\n",
       "      <td>0</td>\n",
       "      <td>0</td>\n",
       "    </tr>\n",
       "    <tr>\n",
       "      <th>6</th>\n",
       "      <td>1424</td>\n",
       "      <td>2020-03-23</td>\n",
       "      <td>8</td>\n",
       "      <td>17495</td>\n",
       "      <td>INR</td>\n",
       "      <td>5321</td>\n",
       "      <td>47241</td>\n",
       "      <td>Donald Anderson</td>\n",
       "      <td>24</td>\n",
       "      <td>1</td>\n",
       "      <td>65000</td>\n",
       "      <td>3</td>\n",
       "      <td>Biskut</td>\n",
       "      <td>Ahmedabad</td>\n",
       "      <td>4.5</td>\n",
       "      <td>50</td>\n",
       "      <td>250</td>\n",
       "      <td>1</td>\n",
       "      <td>0</td>\n",
       "      <td>0</td>\n",
       "      <td>1</td>\n",
       "      <td>0</td>\n",
       "      <td>0</td>\n",
       "      <td>0</td>\n",
       "      <td>0</td>\n",
       "      <td>0</td>\n",
       "      <td>1</td>\n",
       "      <td>0</td>\n",
       "      <td>0</td>\n",
       "    </tr>\n",
       "    <tr>\n",
       "      <th>8</th>\n",
       "      <td>3</td>\n",
       "      <td>2018-04-11</td>\n",
       "      <td>1</td>\n",
       "      <td>583</td>\n",
       "      <td>INR</td>\n",
       "      <td>21343</td>\n",
       "      <td>187912</td>\n",
       "      <td>Scott Cruz</td>\n",
       "      <td>22</td>\n",
       "      <td>1</td>\n",
       "      <td>5000</td>\n",
       "      <td>3</td>\n",
       "      <td>Singh Hut</td>\n",
       "      <td>Abohar</td>\n",
       "      <td>3.7</td>\n",
       "      <td>20</td>\n",
       "      <td>250</td>\n",
       "      <td>0</td>\n",
       "      <td>0</td>\n",
       "      <td>1</td>\n",
       "      <td>0</td>\n",
       "      <td>0</td>\n",
       "      <td>0</td>\n",
       "      <td>1</td>\n",
       "      <td>0</td>\n",
       "      <td>0</td>\n",
       "      <td>1</td>\n",
       "      <td>0</td>\n",
       "      <td>0</td>\n",
       "    </tr>\n",
       "    <tr>\n",
       "      <th>15</th>\n",
       "      <td>81018</td>\n",
       "      <td>2018-05-11</td>\n",
       "      <td>51</td>\n",
       "      <td>50991</td>\n",
       "      <td>INR</td>\n",
       "      <td>33246</td>\n",
       "      <td>146339</td>\n",
       "      <td>Stephanie Robinson</td>\n",
       "      <td>24</td>\n",
       "      <td>0</td>\n",
       "      <td>37500</td>\n",
       "      <td>2</td>\n",
       "      <td>Faasos - Wraps &amp; Rolls</td>\n",
       "      <td>Hyderabad</td>\n",
       "      <td>3.5</td>\n",
       "      <td>100</td>\n",
       "      <td>200</td>\n",
       "      <td>0</td>\n",
       "      <td>0</td>\n",
       "      <td>1</td>\n",
       "      <td>1</td>\n",
       "      <td>0</td>\n",
       "      <td>0</td>\n",
       "      <td>0</td>\n",
       "      <td>1</td>\n",
       "      <td>0</td>\n",
       "      <td>0</td>\n",
       "      <td>0</td>\n",
       "      <td>0</td>\n",
       "    </tr>\n",
       "    <tr>\n",
       "      <th>18</th>\n",
       "      <td>8</td>\n",
       "      <td>2017-11-27</td>\n",
       "      <td>35</td>\n",
       "      <td>19213</td>\n",
       "      <td>INR</td>\n",
       "      <td>31017</td>\n",
       "      <td>156602</td>\n",
       "      <td>Donald Campbell</td>\n",
       "      <td>29</td>\n",
       "      <td>1</td>\n",
       "      <td>37500</td>\n",
       "      <td>3</td>\n",
       "      <td>Hinglaj Kachori Bhandhar</td>\n",
       "      <td>Abohar</td>\n",
       "      <td>4.2</td>\n",
       "      <td>20</td>\n",
       "      <td>100</td>\n",
       "      <td>0</td>\n",
       "      <td>0</td>\n",
       "      <td>1</td>\n",
       "      <td>1</td>\n",
       "      <td>0</td>\n",
       "      <td>0</td>\n",
       "      <td>0</td>\n",
       "      <td>1</td>\n",
       "      <td>0</td>\n",
       "      <td>0</td>\n",
       "      <td>0</td>\n",
       "      <td>0</td>\n",
       "    </tr>\n",
       "    <tr>\n",
       "      <th>...</th>\n",
       "      <td>...</td>\n",
       "      <td>...</td>\n",
       "      <td>...</td>\n",
       "      <td>...</td>\n",
       "      <td>...</td>\n",
       "      <td>...</td>\n",
       "      <td>...</td>\n",
       "      <td>...</td>\n",
       "      <td>...</td>\n",
       "      <td>...</td>\n",
       "      <td>...</td>\n",
       "      <td>...</td>\n",
       "      <td>...</td>\n",
       "      <td>...</td>\n",
       "      <td>...</td>\n",
       "      <td>...</td>\n",
       "      <td>...</td>\n",
       "      <td>...</td>\n",
       "      <td>...</td>\n",
       "      <td>...</td>\n",
       "      <td>...</td>\n",
       "      <td>...</td>\n",
       "      <td>...</td>\n",
       "      <td>...</td>\n",
       "      <td>...</td>\n",
       "      <td>...</td>\n",
       "      <td>...</td>\n",
       "      <td>...</td>\n",
       "      <td>...</td>\n",
       "    </tr>\n",
       "    <tr>\n",
       "      <th>148646</th>\n",
       "      <td>148459</td>\n",
       "      <td>2018-12-14</td>\n",
       "      <td>3</td>\n",
       "      <td>9838</td>\n",
       "      <td>INR</td>\n",
       "      <td>94394</td>\n",
       "      <td>389207</td>\n",
       "      <td>John Smith</td>\n",
       "      <td>18</td>\n",
       "      <td>1</td>\n",
       "      <td>0</td>\n",
       "      <td>5</td>\n",
       "      <td>Dau ji Sweets And Bakers</td>\n",
       "      <td>Yamuna-nagar</td>\n",
       "      <td>3.6</td>\n",
       "      <td>20</td>\n",
       "      <td>200</td>\n",
       "      <td>0</td>\n",
       "      <td>0</td>\n",
       "      <td>1</td>\n",
       "      <td>0</td>\n",
       "      <td>0</td>\n",
       "      <td>0</td>\n",
       "      <td>1</td>\n",
       "      <td>1</td>\n",
       "      <td>0</td>\n",
       "      <td>0</td>\n",
       "      <td>0</td>\n",
       "      <td>0</td>\n",
       "    </tr>\n",
       "    <tr>\n",
       "      <th>148650</th>\n",
       "      <td>148477</td>\n",
       "      <td>2018-12-21</td>\n",
       "      <td>4</td>\n",
       "      <td>9574</td>\n",
       "      <td>INR</td>\n",
       "      <td>24832</td>\n",
       "      <td>234395</td>\n",
       "      <td>Charles Gill</td>\n",
       "      <td>23</td>\n",
       "      <td>1</td>\n",
       "      <td>0</td>\n",
       "      <td>5</td>\n",
       "      <td>Chiness House</td>\n",
       "      <td>Yavatmal</td>\n",
       "      <td>3.5</td>\n",
       "      <td>50</td>\n",
       "      <td>100</td>\n",
       "      <td>0</td>\n",
       "      <td>0</td>\n",
       "      <td>1</td>\n",
       "      <td>0</td>\n",
       "      <td>0</td>\n",
       "      <td>0</td>\n",
       "      <td>1</td>\n",
       "      <td>0</td>\n",
       "      <td>0</td>\n",
       "      <td>1</td>\n",
       "      <td>0</td>\n",
       "      <td>0</td>\n",
       "    </tr>\n",
       "    <tr>\n",
       "      <th>148652</th>\n",
       "      <td>148496</td>\n",
       "      <td>2019-01-02</td>\n",
       "      <td>1</td>\n",
       "      <td>1417</td>\n",
       "      <td>INR</td>\n",
       "      <td>41204</td>\n",
       "      <td>287935</td>\n",
       "      <td>Matthew Paul</td>\n",
       "      <td>24</td>\n",
       "      <td>0</td>\n",
       "      <td>37500</td>\n",
       "      <td>3</td>\n",
       "      <td>TULIP GARDEN AND RESTAURANT</td>\n",
       "      <td>Yavatmal</td>\n",
       "      <td>3.9</td>\n",
       "      <td>20</td>\n",
       "      <td>200</td>\n",
       "      <td>0</td>\n",
       "      <td>0</td>\n",
       "      <td>1</td>\n",
       "      <td>0</td>\n",
       "      <td>0</td>\n",
       "      <td>0</td>\n",
       "      <td>1</td>\n",
       "      <td>0</td>\n",
       "      <td>0</td>\n",
       "      <td>1</td>\n",
       "      <td>0</td>\n",
       "      <td>0</td>\n",
       "    </tr>\n",
       "    <tr>\n",
       "      <th>148654</th>\n",
       "      <td>148500</td>\n",
       "      <td>2019-01-04</td>\n",
       "      <td>2</td>\n",
       "      <td>4245</td>\n",
       "      <td>INR</td>\n",
       "      <td>8303</td>\n",
       "      <td>185298</td>\n",
       "      <td>Jeffrey Wagner</td>\n",
       "      <td>24</td>\n",
       "      <td>0</td>\n",
       "      <td>17500</td>\n",
       "      <td>5</td>\n",
       "      <td>Jain Varities &amp; Icecream Corner</td>\n",
       "      <td>Yavatmal</td>\n",
       "      <td>3.7</td>\n",
       "      <td>50</td>\n",
       "      <td>150</td>\n",
       "      <td>1</td>\n",
       "      <td>0</td>\n",
       "      <td>0</td>\n",
       "      <td>0</td>\n",
       "      <td>0</td>\n",
       "      <td>1</td>\n",
       "      <td>0</td>\n",
       "      <td>1</td>\n",
       "      <td>0</td>\n",
       "      <td>0</td>\n",
       "      <td>0</td>\n",
       "      <td>0</td>\n",
       "    </tr>\n",
       "    <tr>\n",
       "      <th>148655</th>\n",
       "      <td>148503</td>\n",
       "      <td>2019-01-07</td>\n",
       "      <td>2</td>\n",
       "      <td>2065</td>\n",
       "      <td>INR</td>\n",
       "      <td>5201</td>\n",
       "      <td>140164</td>\n",
       "      <td>Danielle Shepherd</td>\n",
       "      <td>25</td>\n",
       "      <td>1</td>\n",
       "      <td>37500</td>\n",
       "      <td>3</td>\n",
       "      <td>Ranade Bandhu</td>\n",
       "      <td>Yavatmal</td>\n",
       "      <td>4.7</td>\n",
       "      <td>20</td>\n",
       "      <td>100</td>\n",
       "      <td>0</td>\n",
       "      <td>0</td>\n",
       "      <td>1</td>\n",
       "      <td>1</td>\n",
       "      <td>0</td>\n",
       "      <td>0</td>\n",
       "      <td>0</td>\n",
       "      <td>0</td>\n",
       "      <td>0</td>\n",
       "      <td>1</td>\n",
       "      <td>0</td>\n",
       "      <td>0</td>\n",
       "    </tr>\n",
       "  </tbody>\n",
       "</table>\n",
       "<p>60857 rows × 29 columns</p>\n",
       "</div>"
      ],
      "text/plain": [
       "        order_id order_date  number_items_ordered  total_order_cost currency  \\\n",
       "5              2 2018-04-06                     1               875      INR   \n",
       "6           1424 2020-03-23                     8             17495      INR   \n",
       "8              3 2018-04-11                     1               583      INR   \n",
       "15         81018 2018-05-11                    51             50991      INR   \n",
       "18             8 2017-11-27                    35             19213      INR   \n",
       "...          ...        ...                   ...               ...      ...   \n",
       "148646    148459 2018-12-14                     3              9838      INR   \n",
       "148650    148477 2018-12-21                     4              9574      INR   \n",
       "148652    148496 2019-01-02                     1              1417      INR   \n",
       "148654    148500 2019-01-04                     2              4245      INR   \n",
       "148655    148503 2019-01-07                     2              2065      INR   \n",
       "\n",
       "         c_id    r_id              c_name  c_age  c_gender  c_monthly_income  \\\n",
       "5        5321  158203     Donald Anderson     24         1             65000   \n",
       "6        5321   47241     Donald Anderson     24         1             65000   \n",
       "8       21343  187912          Scott Cruz     22         1              5000   \n",
       "15      33246  146339  Stephanie Robinson     24         0             37500   \n",
       "18      31017  156602     Donald Campbell     29         1             37500   \n",
       "...       ...     ...                 ...    ...       ...               ...   \n",
       "148646  94394  389207          John Smith     18         1                 0   \n",
       "148650  24832  234395        Charles Gill     23         1                 0   \n",
       "148652  41204  287935        Matthew Paul     24         0             37500   \n",
       "148654   8303  185298      Jeffrey Wagner     24         0             17500   \n",
       "148655   5201  140164   Danielle Shepherd     25         1             37500   \n",
       "\n",
       "        c_family_size                           r_name        r_city  \\\n",
       "5                   3                theka coffee desi        Abohar   \n",
       "6                   3                           Biskut     Ahmedabad   \n",
       "8                   3                        Singh Hut        Abohar   \n",
       "15                  2           Faasos - Wraps & Rolls     Hyderabad   \n",
       "18                  3         Hinglaj Kachori Bhandhar        Abohar   \n",
       "...               ...                              ...           ...   \n",
       "148646              5         Dau ji Sweets And Bakers  Yamuna-nagar   \n",
       "148650              5                    Chiness House      Yavatmal   \n",
       "148652              3      TULIP GARDEN AND RESTAURANT      Yavatmal   \n",
       "148654              5  Jain Varities & Icecream Corner      Yavatmal   \n",
       "148655              3                    Ranade Bandhu      Yavatmal   \n",
       "\n",
       "        r_rating  r_number_of_ratings  r_average_per_head_cost  \\\n",
       "5            3.8                  100                      100   \n",
       "6            4.5                   50                      250   \n",
       "8            3.7                   20                      250   \n",
       "15           3.5                  100                      200   \n",
       "18           4.2                   20                      100   \n",
       "...          ...                  ...                      ...   \n",
       "148646       3.6                   20                      200   \n",
       "148650       3.5                   50                      100   \n",
       "148652       3.9                   20                      200   \n",
       "148654       3.7                   50                      150   \n",
       "148655       4.7                   20                      100   \n",
       "\n",
       "        c_marital_status_Married  c_marital_status_Prefer not to say  \\\n",
       "5                              1                                   0   \n",
       "6                              1                                   0   \n",
       "8                              0                                   0   \n",
       "15                             0                                   0   \n",
       "18                             0                                   0   \n",
       "...                          ...                                 ...   \n",
       "148646                         0                                   0   \n",
       "148650                         0                                   0   \n",
       "148652                         0                                   0   \n",
       "148654                         1                                   0   \n",
       "148655                         0                                   0   \n",
       "\n",
       "        c_marital_status_Single  c_occupation_Employee  \\\n",
       "5                             0                      1   \n",
       "6                             0                      1   \n",
       "8                             1                      0   \n",
       "15                            1                      1   \n",
       "18                            1                      1   \n",
       "...                         ...                    ...   \n",
       "148646                        1                      0   \n",
       "148650                        1                      0   \n",
       "148652                        1                      0   \n",
       "148654                        0                      0   \n",
       "148655                        1                      1   \n",
       "\n",
       "        c_occupation_House wife  c_occupation_Self Employeed  \\\n",
       "5                             0                            0   \n",
       "6                             0                            0   \n",
       "8                             0                            0   \n",
       "15                            0                            0   \n",
       "18                            0                            0   \n",
       "...                         ...                          ...   \n",
       "148646                        0                            0   \n",
       "148650                        0                            0   \n",
       "148652                        0                            0   \n",
       "148654                        0                            1   \n",
       "148655                        0                            0   \n",
       "\n",
       "        c_occupation_Student  c_education_level_Graduate  \\\n",
       "5                          0                           0   \n",
       "6                          0                           0   \n",
       "8                          1                           0   \n",
       "15                         0                           1   \n",
       "18                         0                           1   \n",
       "...                      ...                         ...   \n",
       "148646                     1                           1   \n",
       "148650                     1                           0   \n",
       "148652                     1                           0   \n",
       "148654                     0                           1   \n",
       "148655                     0                           0   \n",
       "\n",
       "        c_education_level_Ph.D  c_education_level_Post Graduate  \\\n",
       "5                            0                                1   \n",
       "6                            0                                1   \n",
       "8                            0                                1   \n",
       "15                           0                                0   \n",
       "18                           0                                0   \n",
       "...                        ...                              ...   \n",
       "148646                       0                                0   \n",
       "148650                       0                                1   \n",
       "148652                       0                                1   \n",
       "148654                       0                                0   \n",
       "148655                       0                                1   \n",
       "\n",
       "        c_education_level_School  c_education_level_Uneducated  \n",
       "5                              0                             0  \n",
       "6                              0                             0  \n",
       "8                              0                             0  \n",
       "15                             0                             0  \n",
       "18                             0                             0  \n",
       "...                          ...                           ...  \n",
       "148646                         0                             0  \n",
       "148650                         0                             0  \n",
       "148652                         0                             0  \n",
       "148654                         0                             0  \n",
       "148655                         0                             0  \n",
       "\n",
       "[60857 rows x 29 columns]"
      ]
     },
     "execution_count": 63,
     "metadata": {},
     "output_type": "execute_result"
    }
   ],
   "source": [
    "final_merged_df['c_gender'] = pd.to_numeric(final_merged_df['c_gender'])\n",
    "final_merged_df['c_monthly_income'] = pd.to_numeric(final_merged_df['c_monthly_income'])\n",
    "final_merged_df['r_number_of_ratings'] = pd.to_numeric(final_merged_df['r_number_of_ratings'])\n",
    "final_merged_df"
   ]
  },
  {
   "cell_type": "code",
   "execution_count": 64,
   "id": "9f3823cd",
   "metadata": {},
   "outputs": [],
   "source": [
    "final_merged_df.to_csv('final.csv', index= False)"
   ]
  },
  {
   "cell_type": "markdown",
   "id": "9627ad01-5427-444e-b94b-facc6a1e5ac9",
   "metadata": {
    "tags": []
   },
   "source": [
    "## Data Visualization & Statistics:"
   ]
  },
  {
   "cell_type": "markdown",
   "id": "4aa92ac0",
   "metadata": {},
   "source": [
    "### order_date"
   ]
  },
  {
   "cell_type": "code",
   "execution_count": 65,
   "id": "bc6cb7e7",
   "metadata": {},
   "outputs": [],
   "source": [
    "final_merged_df['month_year'] = final_merged_df['order_date'].dt.to_period('M')\n",
    "monthly_orders = final_merged_df.groupby('month_year').size()"
   ]
  },
  {
   "cell_type": "code",
   "execution_count": 66,
   "id": "90e327b0",
   "metadata": {},
   "outputs": [
    {
     "data": {
      "image/png": "[encoded data removed]",
      "text/plain": [
       "<Figure size 1200x1000 with 1 Axes>"
      ]
     },
     "metadata": {},
     "output_type": "display_data"
    }
   ],
   "source": [
    "plt.figure(figsize=(12, 10))\n",
    "monthly_orders.plot(kind='bar')\n",
    "plt.title(\"Monthly Order Frequency\")\n",
    "plt.xlabel(\"Year-Month\")\n",
    "plt.ylabel(\"Number of Orders\")\n",
    "plt.show()"
   ]
  },
  {
   "cell_type": "markdown",
   "id": "2bf4916f",
   "metadata": {},
   "source": [
    "### number_items_ordered"
   ]
  },
  {
   "cell_type": "code",
   "execution_count": 67,
   "id": "a9782d7f",
   "metadata": {},
   "outputs": [],
   "source": [
    "o_mean_cost = final_merged_df['number_items_ordered'].mean()\n",
    "o_median_cost = final_merged_df['number_items_ordered'].median()\n",
    "o_max_cost = final_merged_df['number_items_ordered'].max()\n",
    "o_min_cost = final_merged_df['number_items_ordered'].min()\n",
    "o_std_dev_cost = final_merged_df['number_items_ordered'].std()"
   ]
  },
  {
   "cell_type": "code",
   "execution_count": 68,
   "id": "14e950bf",
   "metadata": {},
   "outputs": [
    {
     "name": "stdout",
     "output_type": "stream",
     "text": [
      "Average number of items ordered per order: 16.367599454458812\n",
      "Median number of items ordered per order: 1.0\n",
      "Maximum number of items ordered per order: 10667\n",
      "Minimum number of items ordered per order: 1\n",
      "Standard deviation of number of items ordered per order: 111.26239046458643\n"
     ]
    }
   ],
   "source": [
    "print(\"Average number of items ordered per order:\", o_mean_cost)\n",
    "print(\"Median number of items ordered per order:\", o_median_cost)\n",
    "print(\"Maximum number of items ordered per order:\", o_max_cost)\n",
    "print(\"Minimum number of items ordered per order:\", o_min_cost)\n",
    "print(\"Standard deviation of number of items ordered per order:\", o_std_dev_cost)"
   ]
  },
  {
   "cell_type": "markdown",
   "id": "ad3c99fd",
   "metadata": {},
   "source": [
    "### total_order_cost"
   ]
  },
  {
   "cell_type": "code",
   "execution_count": 69,
   "id": "29329565",
   "metadata": {},
   "outputs": [],
   "source": [
    "mean_cost = final_merged_df['total_order_cost'].mean()\n",
    "median_cost = final_merged_df['total_order_cost'].median()\n",
    "max_cost = final_merged_df['total_order_cost'].max()\n",
    "min_cost = final_merged_df['total_order_cost'].min()\n",
    "std_dev_cost = final_merged_df['total_order_cost'].std()"
   ]
  },
  {
   "cell_type": "code",
   "execution_count": 70,
   "id": "d75e7ed3",
   "metadata": {},
   "outputs": [
    {
     "name": "stdout",
     "output_type": "stream",
     "text": [
      "Average order cost (in rupees): 6997.273247120298\n",
      "Median order cost (in rupees): 565.0\n",
      "Maximum order cost (in rupees): 1492435\n",
      "Minimum order cost (in rupees): 5\n",
      "Standard deviation of order cost: 31942.505536199402\n"
     ]
    }
   ],
   "source": [
    "print(\"Average order cost (in rupees):\", mean_cost)\n",
    "print(\"Median order cost (in rupees):\", median_cost)\n",
    "print(\"Maximum order cost (in rupees):\", max_cost)\n",
    "print(\"Minimum order cost (in rupees):\", min_cost)\n",
    "print(\"Standard deviation of order cost:\", std_dev_cost)"
   ]
  },
  {
   "cell_type": "markdown",
   "id": "200ba58d",
   "metadata": {},
   "source": [
    "### c_age"
   ]
  },
  {
   "cell_type": "code",
   "execution_count": 71,
   "id": "cb9da8fa",
   "metadata": {},
   "outputs": [],
   "source": [
    "age = final_merged_df.groupby('c_age').size()"
   ]
  },
  {
   "cell_type": "code",
   "execution_count": 72,
   "id": "78f3a27c",
   "metadata": {},
   "outputs": [
    {
     "data": {
      "image/png": "[encoded data removed]",
      "text/plain": [
       "<Figure size 1200x1000 with 1 Axes>"
      ]
     },
     "metadata": {},
     "output_type": "display_data"
    }
   ],
   "source": [
    "plt.figure(figsize=(12, 10))\n",
    "age.plot(kind='bar')\n",
    "plt.title(\"Age Distribution Of Customers\")\n",
    "plt.xlabel(\"Age\")\n",
    "plt.ylabel(\"Number of Customers\")\n",
    "plt.show()"
   ]
  },
  {
   "cell_type": "markdown",
   "id": "96b364f8",
   "metadata": {},
   "source": [
    "### c_gender"
   ]
  },
  {
   "cell_type": "code",
   "execution_count": 73,
   "id": "1f4486ab",
   "metadata": {},
   "outputs": [],
   "source": [
    "genders = final_merged_df.groupby('c_gender').size()"
   ]
  },
  {
   "cell_type": "code",
   "execution_count": 74,
   "id": "b211c30a",
   "metadata": {},
   "outputs": [],
   "source": [
    "labels = genders.index\n",
    "sizes = genders.values"
   ]
  },
  {
   "cell_type": "code",
   "execution_count": 75,
   "id": "608bb817",
   "metadata": {},
   "outputs": [
    {
     "data": {
      "image/png": "[encoded data removed]",
      "text/plain": [
       "<Figure size 1000x600 with 1 Axes>"
      ]
     },
     "metadata": {},
     "output_type": "display_data"
    }
   ],
   "source": [
    "plt.figure(figsize=(10, 6))\n",
    "plt.pie(sizes, labels=labels, autopct='%1.1f%%', startangle=140)\n",
    "plt.title('Gender Distribution Of Customers')\n",
    "plt.axis('equal')\n",
    "plt.show()"
   ]
  },
  {
   "cell_type": "markdown",
   "id": "f1322ec7",
   "metadata": {},
   "source": [
    "### c_marital_status"
   ]
  },
  {
   "cell_type": "code",
   "execution_count": 76,
   "id": "f4128d2f",
   "metadata": {},
   "outputs": [
    {
     "ename": "KeyError",
     "evalue": "'c_marital_status'",
     "output_type": "error",
     "traceback": [
      "\u001b[0;31m---------------------------------------------------------------------------\u001b[0m",
      "\u001b[0;31mKeyError\u001b[0m                                  Traceback (most recent call last)",
      "\u001b[0;32m/var/folders/h7/q8xjrt310cz6vyr6k80y1h_80000gn/T/ipykernel_90054/2361680136.py\u001b[0m in \u001b[0;36m<module>\u001b[0;34m\u001b[0m\n\u001b[0;32m----> 1\u001b[0;31m \u001b[0mmarital\u001b[0m \u001b[0;34m=\u001b[0m \u001b[0mfinal_merged_df\u001b[0m\u001b[0;34m.\u001b[0m\u001b[0mgroupby\u001b[0m\u001b[0;34m(\u001b[0m\u001b[0;34m'c_marital_status'\u001b[0m\u001b[0;34m)\u001b[0m\u001b[0;34m.\u001b[0m\u001b[0msize\u001b[0m\u001b[0;34m(\u001b[0m\u001b[0;34m)\u001b[0m\u001b[0;34m\u001b[0m\u001b[0;34m\u001b[0m\u001b[0m\n\u001b[0m",
      "\u001b[0;32m~/opt/anaconda3/lib/python3.9/site-packages/pandas/core/frame.py\u001b[0m in \u001b[0;36mgroupby\u001b[0;34m(self, by, axis, level, as_index, sort, group_keys, squeeze, observed, dropna)\u001b[0m\n\u001b[1;32m   7719\u001b[0m         \u001b[0;31m# error: Argument \"squeeze\" to \"DataFrameGroupBy\" has incompatible type\u001b[0m\u001b[0;34m\u001b[0m\u001b[0;34m\u001b[0m\u001b[0m\n\u001b[1;32m   7720\u001b[0m         \u001b[0;31m# \"Union[bool, NoDefault]\"; expected \"bool\"\u001b[0m\u001b[0;34m\u001b[0m\u001b[0;34m\u001b[0m\u001b[0m\n\u001b[0;32m-> 7721\u001b[0;31m         return DataFrameGroupBy(\n\u001b[0m\u001b[1;32m   7722\u001b[0m             \u001b[0mobj\u001b[0m\u001b[0;34m=\u001b[0m\u001b[0mself\u001b[0m\u001b[0;34m,\u001b[0m\u001b[0;34m\u001b[0m\u001b[0;34m\u001b[0m\u001b[0m\n\u001b[1;32m   7723\u001b[0m             \u001b[0mkeys\u001b[0m\u001b[0;34m=\u001b[0m\u001b[0mby\u001b[0m\u001b[0;34m,\u001b[0m\u001b[0;34m\u001b[0m\u001b[0;34m\u001b[0m\u001b[0m\n",
      "\u001b[0;32m~/opt/anaconda3/lib/python3.9/site-packages/pandas/core/groupby/groupby.py\u001b[0m in \u001b[0;36m__init__\u001b[0;34m(self, obj, keys, axis, level, grouper, exclusions, selection, as_index, sort, group_keys, squeeze, observed, mutated, dropna)\u001b[0m\n\u001b[1;32m    880\u001b[0m             \u001b[0;32mfrom\u001b[0m \u001b[0mpandas\u001b[0m\u001b[0;34m.\u001b[0m\u001b[0mcore\u001b[0m\u001b[0;34m.\u001b[0m\u001b[0mgroupby\u001b[0m\u001b[0;34m.\u001b[0m\u001b[0mgrouper\u001b[0m \u001b[0;32mimport\u001b[0m \u001b[0mget_grouper\u001b[0m\u001b[0;34m\u001b[0m\u001b[0;34m\u001b[0m\u001b[0m\n\u001b[1;32m    881\u001b[0m \u001b[0;34m\u001b[0m\u001b[0m\n\u001b[0;32m--> 882\u001b[0;31m             grouper, exclusions, obj = get_grouper(\n\u001b[0m\u001b[1;32m    883\u001b[0m                 \u001b[0mobj\u001b[0m\u001b[0;34m,\u001b[0m\u001b[0;34m\u001b[0m\u001b[0;34m\u001b[0m\u001b[0m\n\u001b[1;32m    884\u001b[0m                 \u001b[0mkeys\u001b[0m\u001b[0;34m,\u001b[0m\u001b[0;34m\u001b[0m\u001b[0;34m\u001b[0m\u001b[0m\n",
      "\u001b[0;32m~/opt/anaconda3/lib/python3.9/site-packages/pandas/core/groupby/grouper.py\u001b[0m in \u001b[0;36mget_grouper\u001b[0;34m(obj, key, axis, level, sort, observed, mutated, validate, dropna)\u001b[0m\n\u001b[1;32m    880\u001b[0m                 \u001b[0min_axis\u001b[0m\u001b[0;34m,\u001b[0m \u001b[0mlevel\u001b[0m\u001b[0;34m,\u001b[0m \u001b[0mgpr\u001b[0m \u001b[0;34m=\u001b[0m \u001b[0;32mFalse\u001b[0m\u001b[0;34m,\u001b[0m \u001b[0mgpr\u001b[0m\u001b[0;34m,\u001b[0m \u001b[0;32mNone\u001b[0m\u001b[0;34m\u001b[0m\u001b[0;34m\u001b[0m\u001b[0m\n\u001b[1;32m    881\u001b[0m             \u001b[0;32melse\u001b[0m\u001b[0;34m:\u001b[0m\u001b[0;34m\u001b[0m\u001b[0;34m\u001b[0m\u001b[0m\n\u001b[0;32m--> 882\u001b[0;31m                 \u001b[0;32mraise\u001b[0m \u001b[0mKeyError\u001b[0m\u001b[0;34m(\u001b[0m\u001b[0mgpr\u001b[0m\u001b[0;34m)\u001b[0m\u001b[0;34m\u001b[0m\u001b[0;34m\u001b[0m\u001b[0m\n\u001b[0m\u001b[1;32m    883\u001b[0m         \u001b[0;32melif\u001b[0m \u001b[0misinstance\u001b[0m\u001b[0;34m(\u001b[0m\u001b[0mgpr\u001b[0m\u001b[0;34m,\u001b[0m \u001b[0mGrouper\u001b[0m\u001b[0;34m)\u001b[0m \u001b[0;32mand\u001b[0m \u001b[0mgpr\u001b[0m\u001b[0;34m.\u001b[0m\u001b[0mkey\u001b[0m \u001b[0;32mis\u001b[0m \u001b[0;32mnot\u001b[0m \u001b[0;32mNone\u001b[0m\u001b[0;34m:\u001b[0m\u001b[0;34m\u001b[0m\u001b[0;34m\u001b[0m\u001b[0m\n\u001b[1;32m    884\u001b[0m             \u001b[0;31m# Add key to exclusions\u001b[0m\u001b[0;34m\u001b[0m\u001b[0;34m\u001b[0m\u001b[0m\n",
      "\u001b[0;31mKeyError\u001b[0m: 'c_marital_status'"
     ]
    }
   ],
   "source": [
    "marital = final_merged_df.groupby('c_marital_status').size()"
   ]
  },
  {
   "cell_type": "code",
   "execution_count": null,
   "id": "ce05603c",
   "metadata": {},
   "outputs": [],
   "source": [
    "labels = marital.index\n",
    "sizes = marital.values"
   ]
  },
  {
   "cell_type": "code",
   "execution_count": null,
   "id": "7df1935b",
   "metadata": {},
   "outputs": [],
   "source": [
    "plt.figure(figsize=(10, 6))\n",
    "plt.pie(sizes, labels=labels, autopct='%1.1f%%', startangle=140)\n",
    "plt.title('Marital Status Of Customers')\n",
    "plt.axis('equal')\n",
    "plt.show()"
   ]
  },
  {
   "cell_type": "markdown",
   "id": "99a593d7",
   "metadata": {},
   "source": [
    "### c_occupation"
   ]
  },
  {
   "cell_type": "code",
   "execution_count": 77,
   "id": "4ddc1e0e",
   "metadata": {},
   "outputs": [
    {
     "ename": "KeyError",
     "evalue": "'c_occupation'",
     "output_type": "error",
     "traceback": [
      "\u001b[0;31m---------------------------------------------------------------------------\u001b[0m",
      "\u001b[0;31mKeyError\u001b[0m                                  Traceback (most recent call last)",
      "\u001b[0;32m/var/folders/h7/q8xjrt310cz6vyr6k80y1h_80000gn/T/ipykernel_90054/2210341880.py\u001b[0m in \u001b[0;36m<module>\u001b[0;34m\u001b[0m\n\u001b[0;32m----> 1\u001b[0;31m \u001b[0moccupation\u001b[0m \u001b[0;34m=\u001b[0m \u001b[0mfinal_merged_df\u001b[0m\u001b[0;34m.\u001b[0m\u001b[0mgroupby\u001b[0m\u001b[0;34m(\u001b[0m\u001b[0;34m'c_occupation'\u001b[0m\u001b[0;34m)\u001b[0m\u001b[0;34m.\u001b[0m\u001b[0msize\u001b[0m\u001b[0;34m(\u001b[0m\u001b[0;34m)\u001b[0m\u001b[0;34m\u001b[0m\u001b[0;34m\u001b[0m\u001b[0m\n\u001b[0m",
      "\u001b[0;32m~/opt/anaconda3/lib/python3.9/site-packages/pandas/core/frame.py\u001b[0m in \u001b[0;36mgroupby\u001b[0;34m(self, by, axis, level, as_index, sort, group_keys, squeeze, observed, dropna)\u001b[0m\n\u001b[1;32m   7719\u001b[0m         \u001b[0;31m# error: Argument \"squeeze\" to \"DataFrameGroupBy\" has incompatible type\u001b[0m\u001b[0;34m\u001b[0m\u001b[0;34m\u001b[0m\u001b[0m\n\u001b[1;32m   7720\u001b[0m         \u001b[0;31m# \"Union[bool, NoDefault]\"; expected \"bool\"\u001b[0m\u001b[0;34m\u001b[0m\u001b[0;34m\u001b[0m\u001b[0m\n\u001b[0;32m-> 7721\u001b[0;31m         return DataFrameGroupBy(\n\u001b[0m\u001b[1;32m   7722\u001b[0m             \u001b[0mobj\u001b[0m\u001b[0;34m=\u001b[0m\u001b[0mself\u001b[0m\u001b[0;34m,\u001b[0m\u001b[0;34m\u001b[0m\u001b[0;34m\u001b[0m\u001b[0m\n\u001b[1;32m   7723\u001b[0m             \u001b[0mkeys\u001b[0m\u001b[0;34m=\u001b[0m\u001b[0mby\u001b[0m\u001b[0;34m,\u001b[0m\u001b[0;34m\u001b[0m\u001b[0;34m\u001b[0m\u001b[0m\n",
      "\u001b[0;32m~/opt/anaconda3/lib/python3.9/site-packages/pandas/core/groupby/groupby.py\u001b[0m in \u001b[0;36m__init__\u001b[0;34m(self, obj, keys, axis, level, grouper, exclusions, selection, as_index, sort, group_keys, squeeze, observed, mutated, dropna)\u001b[0m\n\u001b[1;32m    880\u001b[0m             \u001b[0;32mfrom\u001b[0m \u001b[0mpandas\u001b[0m\u001b[0;34m.\u001b[0m\u001b[0mcore\u001b[0m\u001b[0;34m.\u001b[0m\u001b[0mgroupby\u001b[0m\u001b[0;34m.\u001b[0m\u001b[0mgrouper\u001b[0m \u001b[0;32mimport\u001b[0m \u001b[0mget_grouper\u001b[0m\u001b[0;34m\u001b[0m\u001b[0;34m\u001b[0m\u001b[0m\n\u001b[1;32m    881\u001b[0m \u001b[0;34m\u001b[0m\u001b[0m\n\u001b[0;32m--> 882\u001b[0;31m             grouper, exclusions, obj = get_grouper(\n\u001b[0m\u001b[1;32m    883\u001b[0m                 \u001b[0mobj\u001b[0m\u001b[0;34m,\u001b[0m\u001b[0;34m\u001b[0m\u001b[0;34m\u001b[0m\u001b[0m\n\u001b[1;32m    884\u001b[0m                 \u001b[0mkeys\u001b[0m\u001b[0;34m,\u001b[0m\u001b[0;34m\u001b[0m\u001b[0;34m\u001b[0m\u001b[0m\n",
      "\u001b[0;32m~/opt/anaconda3/lib/python3.9/site-packages/pandas/core/groupby/grouper.py\u001b[0m in \u001b[0;36mget_grouper\u001b[0;34m(obj, key, axis, level, sort, observed, mutated, validate, dropna)\u001b[0m\n\u001b[1;32m    880\u001b[0m                 \u001b[0min_axis\u001b[0m\u001b[0;34m,\u001b[0m \u001b[0mlevel\u001b[0m\u001b[0;34m,\u001b[0m \u001b[0mgpr\u001b[0m \u001b[0;34m=\u001b[0m \u001b[0;32mFalse\u001b[0m\u001b[0;34m,\u001b[0m \u001b[0mgpr\u001b[0m\u001b[0;34m,\u001b[0m \u001b[0;32mNone\u001b[0m\u001b[0;34m\u001b[0m\u001b[0;34m\u001b[0m\u001b[0m\n\u001b[1;32m    881\u001b[0m             \u001b[0;32melse\u001b[0m\u001b[0;34m:\u001b[0m\u001b[0;34m\u001b[0m\u001b[0;34m\u001b[0m\u001b[0m\n\u001b[0;32m--> 882\u001b[0;31m                 \u001b[0;32mraise\u001b[0m \u001b[0mKeyError\u001b[0m\u001b[0;34m(\u001b[0m\u001b[0mgpr\u001b[0m\u001b[0;34m)\u001b[0m\u001b[0;34m\u001b[0m\u001b[0;34m\u001b[0m\u001b[0m\n\u001b[0m\u001b[1;32m    883\u001b[0m         \u001b[0;32melif\u001b[0m \u001b[0misinstance\u001b[0m\u001b[0;34m(\u001b[0m\u001b[0mgpr\u001b[0m\u001b[0;34m,\u001b[0m \u001b[0mGrouper\u001b[0m\u001b[0;34m)\u001b[0m \u001b[0;32mand\u001b[0m \u001b[0mgpr\u001b[0m\u001b[0;34m.\u001b[0m\u001b[0mkey\u001b[0m \u001b[0;32mis\u001b[0m \u001b[0;32mnot\u001b[0m \u001b[0;32mNone\u001b[0m\u001b[0;34m:\u001b[0m\u001b[0;34m\u001b[0m\u001b[0;34m\u001b[0m\u001b[0m\n\u001b[1;32m    884\u001b[0m             \u001b[0;31m# Add key to exclusions\u001b[0m\u001b[0;34m\u001b[0m\u001b[0;34m\u001b[0m\u001b[0m\n",
      "\u001b[0;31mKeyError\u001b[0m: 'c_occupation'"
     ]
    }
   ],
   "source": [
    "occupation = final_merged_df.groupby('c_occupation').size()"
   ]
  },
  {
   "cell_type": "code",
   "execution_count": null,
   "id": "468fb4f6",
   "metadata": {},
   "outputs": [],
   "source": [
    "labels = occupation.index\n",
    "sizes = occupation.values"
   ]
  },
  {
   "cell_type": "code",
   "execution_count": null,
   "id": "f23ee01e",
   "metadata": {
    "scrolled": false
   },
   "outputs": [],
   "source": [
    "plt.figure(figsize=(10, 6))\n",
    "plt.pie(sizes, labels=labels, autopct='%1.1f%%', startangle=140)\n",
    "plt.title('Employee Occupation')\n",
    "plt.axis('equal')\n",
    "plt.show()"
   ]
  },
  {
   "cell_type": "markdown",
   "id": "8cd4c18f",
   "metadata": {},
   "source": [
    "### c_education_level"
   ]
  },
  {
   "cell_type": "code",
   "execution_count": null,
   "id": "0864c927",
   "metadata": {},
   "outputs": [],
   "source": [
    "education = final_merged_df.groupby('c_education_level').size()"
   ]
  },
  {
   "cell_type": "code",
   "execution_count": null,
   "id": "0402d06d",
   "metadata": {},
   "outputs": [],
   "source": [
    "labels = education.index\n",
    "sizes = education.values"
   ]
  },
  {
   "cell_type": "code",
   "execution_count": null,
   "id": "a3c30699",
   "metadata": {},
   "outputs": [],
   "source": [
    "plt.figure(figsize=(10, 6))\n",
    "plt.pie(sizes, labels=labels, autopct='%1.1f%%', startangle=140)\n",
    "plt.title('Education Level Of Customers')\n",
    "plt.axis('equal')\n",
    "plt.show()"
   ]
  },
  {
   "cell_type": "markdown",
   "id": "cf1cd037",
   "metadata": {},
   "source": [
    "### c_family_size"
   ]
  },
  {
   "cell_type": "code",
   "execution_count": null,
   "id": "a78d1bc8",
   "metadata": {},
   "outputs": [],
   "source": [
    "family = final_merged_df.groupby('c_family_size').size()"
   ]
  },
  {
   "cell_type": "code",
   "execution_count": null,
   "id": "a8a0df4d",
   "metadata": {},
   "outputs": [],
   "source": [
    "labels = family.index\n",
    "sizes = family.values"
   ]
  },
  {
   "cell_type": "code",
   "execution_count": null,
   "id": "18ae3071",
   "metadata": {},
   "outputs": [],
   "source": [
    "plt.figure(figsize=(10, 6))\n",
    "plt.pie(sizes, labels=labels, autopct='%1.1f%%', startangle=140)\n",
    "plt.title('Number Of Family Members Of Orderer Family (Including Orderer)')\n",
    "plt.axis('equal')\n",
    "plt.show()"
   ]
  },
  {
   "cell_type": "markdown",
   "id": "34a0e1a4",
   "metadata": {},
   "source": [
    "### r_city"
   ]
  },
  {
   "cell_type": "code",
   "execution_count": null,
   "id": "67a44b0b",
   "metadata": {},
   "outputs": [],
   "source": [
    "city = final_merged_df.groupby('r_city').size()"
   ]
  },
  {
   "cell_type": "code",
   "execution_count": null,
   "id": "0b834a01",
   "metadata": {},
   "outputs": [],
   "source": [
    "plt.figure(figsize=(12, 10))\n",
    "city.plot(kind='bar')\n",
    "plt.title(\"Frequency of orders per city\")\n",
    "plt.xlabel(\"City\")\n",
    "plt.ylabel(\"Number of Orders\")\n",
    "plt.show()"
   ]
  },
  {
   "cell_type": "markdown",
   "id": "6258a57a",
   "metadata": {},
   "source": [
    "### r_rating"
   ]
  },
  {
   "cell_type": "code",
   "execution_count": null,
   "id": "70e4d2b2",
   "metadata": {},
   "outputs": [],
   "source": [
    "rating = final_merged_df.groupby('r_rating').size()"
   ]
  },
  {
   "cell_type": "code",
   "execution_count": null,
   "id": "7d10292b",
   "metadata": {},
   "outputs": [],
   "source": [
    "plt.figure(figsize=(12, 10))\n",
    "rating.plot(kind='bar')\n",
    "plt.title(\"Distribution of Restaurant Ratings Across Orders\")\n",
    "plt.xlabel(\"Rating\")\n",
    "plt.ylabel(\"Count\")\n",
    "plt.show()"
   ]
  },
  {
   "cell_type": "markdown",
   "id": "3c1c0faa",
   "metadata": {},
   "source": [
    "### r_average_per_head_cost"
   ]
  },
  {
   "cell_type": "code",
   "execution_count": null,
   "id": "380124a7",
   "metadata": {},
   "outputs": [],
   "source": [
    "r_mean_cost = final_merged_df['r_average_per_head_cost'].mean()\n",
    "r_median_cost = final_merged_df['r_average_per_head_cost'].median()\n",
    "r_max_cost = final_merged_df['r_average_per_head_cost'].max()\n",
    "r_min_cost = final_merged_df['r_average_per_head_cost'].min()\n",
    "r_std_dev_cost = final_merged_df['r_average_per_head_cost'].std()"
   ]
  },
  {
   "cell_type": "code",
   "execution_count": null,
   "id": "f723c804",
   "metadata": {},
   "outputs": [],
   "source": [
    "print(\"Average estimate cost per person(in rupees):\", r_mean_cost)\n",
    "print(\"Median estimate cost per person (in rupees):\", r_median_cost)\n",
    "print(\"Maximum estimate cost per person (in rupees):\", r_max_cost)\n",
    "print(\"Minimum estimate cost per person (in rupees):\", r_min_cost)\n",
    "print(\"Standard deviation of estimate cost per person:\", r_std_dev_cost)"
   ]
  },
  {
   "cell_type": "markdown",
   "id": "622cf2db",
   "metadata": {},
   "source": [
    "### Correlation Matrix For Numerical Non-ID Variables:"
   ]
  },
  {
   "cell_type": "code",
   "execution_count": null,
   "id": "f7b91938",
   "metadata": {
    "scrolled": true
   },
   "outputs": [],
   "source": [
    "final_merged_df[['number_items_ordered','total_order_cost', 'c_age','c_monthly_income','c_family_size','r_rating','r_number_of_ratings','r_average_per_head_cost']].corr()"
   ]
  },
  {
   "cell_type": "markdown",
   "id": "0ff94a14",
   "metadata": {},
   "source": [
    "## Data Description:"
   ]
  },
  {
   "cell_type": "markdown",
   "id": "c1da639d",
   "metadata": {},
   "source": [
    "### Motivation:"
   ]
  },
  {
   "cell_type": "markdown",
   "id": "85f062d1",
   "metadata": {},
   "source": [
    "#### Why was this dataset created?\n",
    "\n",
    "This dataset was created to understand what customer level factors contribute to higher order values for delivery services. If a delivery service understand what factors would lead to higher sales and profits, then it could refocus resources and things like money spent on advertising to potentially unlock their full business potential. The inspiration comes from one of our group members past summer internship experience with a food delivery app and all of the groups passion for the country India (the dataset is based on an Indian Food Delivery Service)."
   ]
  },
  {
   "cell_type": "markdown",
   "id": "9f59f710",
   "metadata": {},
   "source": [
    "#### Who funded the creation of the dataset?\n",
    "\n",
    "While who funded the creation of these datasets is unclear, on kaggle it is mentioned that all of the data was scraped from publicly available data. Likely self funded or was just a personal project of the kaggle page's author"
   ]
  },
  {
   "cell_type": "markdown",
   "id": "5858b438",
   "metadata": {},
   "source": [
    "### Composition:"
   ]
  },
  {
   "cell_type": "markdown",
   "id": "ca14b764",
   "metadata": {},
   "source": [
    "#### What do the instances that comprise the dataset represent?\n",
    "\n",
    "If by instance you mean entry (or row), each entry represents an order made through the Zomato Delivery Platform with the accompanying restaurant and customer information."
   ]
  },
  {
   "cell_type": "markdown",
   "id": "c9571aaa",
   "metadata": {},
   "source": [
    "#### Are there any errors, sources of noise, or redundancies in the dataset?\n",
    "\n",
    "It should be noted that there are redundancies in terms of IDs, however it is ok for a restaurant id and a user id to appear multiple times in the data. This is because while every order must be unique, a person can make multiple orders and a restaurant can receive multiple orders. Orders in this case is the primary key however. The most significant error/noise appears in the distribution of restaurant ratings as there is an almost perfectly normally distributed curve with the exception of all the datapoints without ratings. Also its important to recognize that there are different sources of data in the dataset. Some are likely self-reported datapoints (like income) while order details are less biased."
   ]
  },
  {
   "cell_type": "markdown",
   "id": "33bc5412",
   "metadata": {},
   "source": [
    "#### Is the dataset self-contained, or does it link to or otherwise rely on external resources?\n",
    "\n",
    "Our dataset ultimately is self-contained as we dropped the column containing the link to the restaurant's page."
   ]
  },
  {
   "cell_type": "markdown",
   "id": "2ffd3780",
   "metadata": {},
   "source": [
    "#### What are the observations (rows) and the attributes (columns)?\n",
    "\n",
    "- rows:\n",
    "    - represents an order made through the Zomato Delivery Platform with the accompanying restaurant and customer information.\n",
    "- columns:\n",
    "    - 'order_id' : id associated with each order\n",
    "    - 'order_date' : date in datetime format of the order\n",
    "    - 'number_items_ordered' : number of items contained in the order\n",
    "    - 'total_order_cost' : total cost (including taxes) of the order\n",
    "    - 'currency' : currency of the total order amount\n",
    "    - 'c_id' : customer id\n",
    "    - 'r_id' : restaurant id\n",
    "    - 'c_name': customer name\n",
    "    - 'c_age' : customer age\n",
    "    - 'c_gender' : customer gender\n",
    "    - 'c_marital_status' : customer marital status\n",
    "    - 'c_occupation' : customer occupation\n",
    "    - 'c_monthly_income' : customer monthly income\n",
    "    - 'c_education_level' : customer highest level of education\n",
    "    - 'c_family_size' : number of members in customer's family (including customer)\n",
    "    - 'r_name' : name of restaurant\n",
    "    - 'r_city' : city where restaurant is located\n",
    "    - 'r_rating' : rating of restaurant\n",
    "    - 'r_number_of_ratings' : number of ratings for the restaurant\n",
    "    - 'r_average_per_head_cost' : estimated per head cost at the restaurant\n",
    "    - 'r_cuisine' : list of cuisine categories the restaurant falls into\n",
    "    "
   ]
  },
  {
   "cell_type": "markdown",
   "id": "f27c08c4",
   "metadata": {},
   "source": [
    "### Collection Process:"
   ]
  },
  {
   "cell_type": "markdown",
   "id": "40d67436",
   "metadata": {},
   "source": [
    "#### What processes might have influenced what data was observed and recorded and what was not?\n",
    "\n",
    "Because this comes from a pre-existing food delivery platform, the software and infrastructure designed by the platform essentially serves as a bottleneck for the type of data collected. For instance, if the platform only believes that there are two genders, they only allow for the user to input binary gender data as opposed to a more fluid/accomodating input option. There seemed to be data that was very narrow in terms of the demographics of people including gender, education level, marital status, etc."
   ]
  },
  {
   "cell_type": "markdown",
   "id": "5b83279f",
   "metadata": {},
   "source": [
    "#### Over what time frame was the data collected?\n",
    "\n",
    "October 2017 to June 2020 (as we can see from the age distribution of customers visualization)."
   ]
  },
  {
   "cell_type": "markdown",
   "id": "dd5d3fc1",
   "metadata": {},
   "source": [
    "#### How was the data associated with each instance acquired?\n",
    "\n",
    "Not entirely sure, however it was scraped from the internet. However there was also some somewhat sensitive data including personal names, emails, and passwords, making me think that the person scraping/creating these datasets bought data. Additionally Zomato might have poor data privacy procedures which would in fact make this type of data available for someone to scrape easily."
   ]
  },
  {
   "cell_type": "markdown",
   "id": "aec4cbd0",
   "metadata": {},
   "source": [
    "#### What preprocessing was done, and how did the data come to be in the form that you are using?\n",
    "\n",
    "We basically joined the three dataframes we retrieved from the internet using orders as a primary key and restaurant and user ids as foreign keys. The data was incredibly abundant so we also dropped the few NaNs when possible, and then converted values like ranges into sequentially encoded values."
   ]
  },
  {
   "cell_type": "markdown",
   "id": "7bdef156-0373-4689-8eff-45fe6600fc20",
   "metadata": {
    "tags": []
   },
   "source": [
    "## Data Limitations"
   ]
  },
  {
   "cell_type": "markdown",
   "id": "487b95f9",
   "metadata": {},
   "source": [
    "- Some data fields have fairly broad ranges that make for less meaningful data analysis. For instance for the income of the customer, they are essentially assigned a broad income bracket instead of a precise income. For this example in particular, I feel like there is a high change for bias and self-reporting.\n",
    "- Some of the orders of magnitude don't align across variables. For instance comparing the total price of an entry with only one item brought might not be a valid comparison to the total price of an entry with many items brought. No standardization across fields.\n",
    "- Not all geographies represnt their own city, and without knowing too much about India, it is hard to know when the input in the city column refers to a region, state, city, neighborhood, etc...\n",
    "- For the number of reviews column, the values are not ranges, but lower bounds. So in theory all of the higher values should also accounted in the lower value tallies"
   ]
  },
  {
   "cell_type": "markdown",
   "id": "377704a9-3d17-4dbe-83c5-41d941d81c72",
   "metadata": {
    "tags": []
   },
   "source": [
    "## Questions for Reviewers"
   ]
  },
  {
   "cell_type": "markdown",
   "id": "585224bd",
   "metadata": {},
   "source": [
    "- Even though we are focused on the customer and what combo of identifiers may impact the sales price, should we still do an analysis of the restaurant variables?\n",
    "- Do you think sales price is the most compelling outcome variable?\n",
    "- Are there other data cleaning tasks you think we should incorporate?\n",
    "- Is encoding a good strategy for when we have sequential range data?"
   ]
  },
  {
   "cell_type": "code",
   "execution_count": null,
   "id": "a97245a1",
   "metadata": {},
   "outputs": [],
   "source": []
  }
 ],
 "metadata": {
  "kernelspec": {
   "display_name": "Python 3 (ipykernel)",
   "language": "python",
   "name": "python3"
  },
  "language_info": {
   "codemirror_mode": {
    "name": "ipython",
    "version": 3
   },
   "file_extension": ".py",
   "mimetype": "text/x-python",
   "name": "python",
   "nbconvert_exporter": "python",
   "pygments_lexer": "ipython3",
   "version": "3.9.13"
  }
 },
 "nbformat": 4,
 "nbformat_minor": 5
}
